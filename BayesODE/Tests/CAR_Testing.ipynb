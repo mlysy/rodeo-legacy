{
 "cells": [
  {
   "cell_type": "code",
   "execution_count": 2,
   "metadata": {},
   "outputs": [],
   "source": [
    "import numpy as np\n",
    "from math import exp, sqrt\n",
    "import matplotlib.pyplot as plt\n",
    "from BayesODE import var_car, cov_car"
   ]
  },
  {
   "cell_type": "markdown",
   "metadata": {},
   "source": [
    "Create a function\n",
    "\n",
    "def car_cov(tseq, roots, corr = False)\n",
    "which computes N x p x p tensor of $\\operatorname{cov}(X_0, X_t)$ for each $t$ in tseq. Note that this quantity only exists when $X_t$ is stationary, which should be when $r_k > 0$ or $-r_k > 0$, depending on how we've parametrized things.\n",
    "\n",
    "With this function, please plot $\\gamma_k(t) = \\operatorname{cor}(Z_0^{(k)}, X_t^{(k)})$ as a function of $t$. The goal is to relate the $r_k$ to the decorrelation time $\\tau_k$ given by $\\gamma_k(\\tau_k) = 1/e$. So for example, if we have $r_k = \\exp{r_0 k}$, please plot $\\tau_k$ as a function of $r_0$. If we can control the $\\tau_k$ this way, then we have a very simple way of parametrizing the CAR(p) process (for our purposes)."
   ]
  },
  {
   "cell_type": "markdown",
   "metadata": {},
   "source": [
    "Create plots of $\\operatorname{var}(Z_t^{(k)})$ vs $t$ for each $k = 0, \\ldots, p-1$."
   ]
  },
  {
   "cell_type": "code",
   "execution_count": 20,
   "metadata": {},
   "outputs": [],
   "source": [
    "def rootgen(r0, n):\n",
    "    roots = np.zeros(n)\n",
    "    r = r0\n",
    "    for k in range(n):\n",
    "        roots[k] = -r\n",
    "        r = exp(r0*(k+1))\n",
    "    return roots"
   ]
  },
  {
   "cell_type": "code",
   "execution_count": 24,
   "metadata": {},
   "outputs": [],
   "source": [
    "r0 = 1\n",
    "roots = rootgen(r0, 3) #All roots need to be negative\n",
    "tseq = np.linspace(0,1,10)\n",
    "V = var_car(tseq, roots)"
   ]
  },
  {
   "cell_type": "code",
   "execution_count": 25,
   "metadata": {},
   "outputs": [
    {
     "data": {
      "image/png": "[encoded data removed]",
      "text/plain": [
       "<Figure size 432x288 with 1 Axes>"
      ]
     },
     "metadata": {},
     "output_type": "display_data"
    }
   ],
   "source": [
    "for k in range(len(roots)):\n",
    "    plt.plot(tseq, V[:,k,k], label=k)\n",
    "plt.legend(loc='upper left')\n",
    "plt.show()"
   ]
  },
  {
   "cell_type": "code",
   "execution_count": 27,
   "metadata": {},
   "outputs": [],
   "source": [
    "cov =cov_car(tseq, roots)"
   ]
  },
  {
   "cell_type": "code",
   "execution_count": 137,
   "metadata": {},
   "outputs": [],
   "source": [
    "def getgamma(cov):\n",
    "    gamma = np.zeros(cov.shape)\n",
    "    for t in range(cov.shape[0]):\n",
    "        D = np.diag(np.diag(cov[t]))\n",
    "        D_half = np.sqrt(D)\n",
    "        gamma[t] = np.linalg.multi_dot([np.linalg.pinv(D_half), cov[t], D_half])\n",
    "    return gamma"
   ]
  },
  {
   "cell_type": "code",
   "execution_count": 138,
   "metadata": {},
   "outputs": [
    {
     "data": {
      "image/png": "[encoded data removed]",
      "text/plain": [
       "<Figure size 432x288 with 1 Axes>"
      ]
     },
     "metadata": {},
     "output_type": "display_data"
    }
   ],
   "source": [
    "gamma = getgamma(cov)\n",
    "for k in range(len(roots)):\n",
    "    plt.plot(tseq, gamma[:,k,k], label=k)\n",
    "plt.legend(loc='upper left')\n",
    "plt.show()\n",
    "#plt.plot(tseq,gamma)"
   ]
  },
  {
   "cell_type": "code",
   "execution_count": 149,
   "metadata": {},
   "outputs": [],
   "source": [
    "def decorrelation(roots, k, tol=1e-5):\n",
    "    t = 0.1\n",
    "    \n",
    "    while True:\n",
    "        cov = cov_car(np.array([t]), roots)\n",
    "        gamma_k = getgamma(cov)[0][k,k]\n",
    "        if abs(gamma_k-1/exp(1)) < tol:\n",
    "            return t\n",
    "        elif gamma_k>1/exp(1):\n",
    "            t = t - t/100\n",
    "        else:\n",
    "            t = t + t/100"
   ]
  },
  {
   "cell_type": "code",
   "execution_count": 150,
   "metadata": {},
   "outputs": [
    {
     "data": {
      "text/plain": [
       "0.5559638620506795"
      ]
     },
     "execution_count": 150,
     "metadata": {},
     "output_type": "execute_result"
    }
   ],
   "source": [
    "decorrelation(roots, 2)"
   ]
  },
  {
   "cell_type": "markdown",
   "metadata": {},
   "source": [
    "# Unit Test"
   ]
  },
  {
   "cell_type": "code",
   "execution_count": 58,
   "metadata": {},
   "outputs": [],
   "source": [
    "r0 = 1\n",
    "roots = rootgen(r0, 3)\n",
    "\n",
    "delta = -roots\n",
    "D = np.diag(delta)\n",
    "p = len(roots)\n",
    "Q = np.zeros((p, p))\n",
    "\n",
    "row = np.ones(p)\n",
    "for i in range(p):\n",
    "    Q[i] = row\n",
    "    row = row*roots\n",
    "\n",
    "Q_inv = np.linalg.pinv(Q)\n",
    "Gamma = np.linalg.multi_dot([Q, D, Q_inv])"
   ]
  },
  {
   "cell_type": "code",
   "execution_count": 76,
   "metadata": {},
   "outputs": [
    {
     "data": {
      "text/plain": [
       "True"
      ]
     },
     "execution_count": 76,
     "metadata": {},
     "output_type": "execute_result"
    }
   ],
   "source": [
    "from sympy import symbols, expand, Poly\n",
    "s = symbols('s')\n",
    "product = 1\n",
    "for root in roots:\n",
    "    product = product * (s - root)\n",
    "coeffs = Poly(expand(product)).coeffs()\n",
    "np.allclose(np.array(coeffs[:0:-1], dtype='float'),Gamma[-1])"
   ]
  },
  {
   "cell_type": "code",
   "execution_count": 77,
   "metadata": {},
   "outputs": [],
   "source": [
    "def V_euler_N1(Sigma, Delta_t):\n",
    "    return Sigma*Delta_t"
   ]
  },
  {
   "cell_type": "code",
   "execution_count": 183,
   "metadata": {},
   "outputs": [],
   "source": [
    "def var_car_test(Q, D, Sigma, Delta_t):\n",
    "    \n",
    "    delta = np.diag(D)\n",
    "    Q_inv = np.linalg.pinv(Q)\n",
    "    Gamma = np.linalg.multi_dot([Q, D, Q_inv]) #Q*D*Q^-1\n",
    "    Sigma_tilde = np.linalg.multi_dot([Q_inv, Sigma, Q_inv.T]) #Q^-1*Sigma*Q^-1'\n",
    "\n",
    "    V_tilde = np.zeros((p,p))\n",
    "    for i in range(p):\n",
    "        for j in range(i, p):\n",
    "            V_tilde[i,j] = Sigma_tilde[i,j] / (delta[i] + delta[j]) * (1- exp(- (delta[i] + delta[j]) * Delta_t)) #V_tilde\n",
    "            V_tilde[j,i] = V_tilde[i,j]\n",
    "\n",
    "    V = np.linalg.multi_dot([Q, V_tilde, Q.T]) #V_deltat\n",
    "    return V"
   ]
  },
  {
   "cell_type": "code",
   "execution_count": 212,
   "metadata": {},
   "outputs": [
    {
     "data": {
      "text/plain": [
       "array([[  9.86941764e-18,   7.78025838e-17,   2.77627860e-17],\n",
       "       [  6.69444227e-17,   7.38944939e-17,   9.95817597e-17],\n",
       "       [  4.01029770e-17,   2.74869160e-17,   6.25489121e-17]])"
      ]
     },
     "execution_count": 212,
     "metadata": {},
     "output_type": "execute_result"
    }
   ],
   "source": [
    "V_euler_N1(Sigma, Delta_T[t])"
   ]
  },
  {
   "cell_type": "code",
   "execution_count": null,
   "metadata": {},
   "outputs": [],
   "source": [
    "var_car_test(Q)"
   ]
  },
  {
   "cell_type": "code",
   "execution_count": 210,
   "metadata": {},
   "outputs": [
    {
     "data": {
      "text/plain": [
       "[<matplotlib.lines.Line2D at 0x1cc2ec43e80>]"
      ]
     },
     "execution_count": 210,
     "metadata": {},
     "output_type": "execute_result"
    },
    {
     "data": {
      "image/png": "[encoded data removed]",
      "text/plain": [
       "<Figure size 432x288 with 1 Axes>"
      ]
     },
     "metadata": {},
     "output_type": "display_data"
    }
   ],
   "source": [
    "Delta_T = np.linspace(1e-1, 1e-16, 100)\n",
    "Q = np.ones((3,3))\n",
    "D = np.diag([1,2,3])\n",
    "Sigma = np.random.rand(3,3)\n",
    "\n",
    "compare = np.zeros(len(Delta_T))\n",
    "for t in range(len(Delta_T)):\n",
    "    compare[t] = np.max(V_euler_N1(Sigma, Delta_T[t])/var_car_test(Q, D, Sigma, Delta_T[t]))\n",
    "    \n",
    "plt.plot(Delta_T, compare)"
   ]
  },
  {
   "cell_type": "code",
   "execution_count": 78,
   "metadata": {},
   "outputs": [],
   "source": [
    "Sigma_half = np.zeros((p,p))\n",
    "Sigma_half[p-1,p-1] = sigma\n",
    "Sigma = Sigma_half.dot(Sigma_half)\n",
    "\n",
    "Sigma_tilde = np.linalg.multi_dot([Q_inv, Sigma, Q_inv.T])"
   ]
  },
  {
   "cell_type": "code",
   "execution_count": null,
   "metadata": {},
   "outputs": [],
   "source": [
    "V"
   ]
  },
  {
   "cell_type": "code",
   "execution_count": 79,
   "metadata": {},
   "outputs": [
    {
     "data": {
      "text/plain": [
       "array([[ 0.        , -0.        ,  0.        ],\n",
       "       [-0.        ,  0.        ,  0.        ],\n",
       "       [ 0.        ,  0.        ,  1.00000111]])"
      ]
     },
     "execution_count": 79,
     "metadata": {},
     "output_type": "execute_result"
    }
   ],
   "source": [
    "Delta_t = 0.0000001\n",
    "V_euler_N1(Sigma, Delta_t)/var_car(np.array([Delta_t]), roots)[0]"
   ]
  },
  {
   "cell_type": "code",
   "execution_count": 46,
   "metadata": {},
   "outputs": [],
   "source": [
    "t = 1\n",
    "V_tilde = np.zeros((p,p))\n",
    "\n",
    "for i in range(p):\n",
    "    for j in range(i, p):\n",
    "        V_tilde[i,j] = Sigma_tilde[i,j] / (delta[i] + delta[j]) * (1- exp(- (delta[i] + delta[j]) * t))\n",
    "        V_tilde[j,i] = V_tilde[i,j]\n",
    "V = np.linalg.multi_dot([Q, V_tilde, Q_inv])"
   ]
  },
  {
   "cell_type": "code",
   "execution_count": null,
   "metadata": {},
   "outputs": [],
   "source": [
    "Gamma"
   ]
  },
  {
   "cell_type": "code",
   "execution_count": null,
   "metadata": {},
   "outputs": [],
   "source": [
    "B = 1000\n",
    "N = 100\n",
    "X0 = np.zeros(p)\n",
    "out = np.zeros((B,p))\n",
    "delta_t = t/N"
   ]
  },
  {
   "cell_type": "code",
   "execution_count": null,
   "metadata": {},
   "outputs": [],
   "source": [
    "for b in range(B):\n",
    "    X = X0\n",
    "    for t in range(1,N+1):\n",
    "        deltaB_n = np.random.multivariate_normal(X0, np.identity(p)*delta_t)\n",
    "        X = X + Gamma.dot(X)*delta_t + Sigma_half.dot(deltaB_n)\n",
    "    out[b] = X"
   ]
  },
  {
   "cell_type": "code",
   "execution_count": null,
   "metadata": {},
   "outputs": [],
   "source": [
    "a = [o[0] for o in out]\n",
    "b = [o[1] for o in out]\n",
    "np.var(a)\n",
    "np.var(b)"
   ]
  },
  {
   "cell_type": "code",
   "execution_count": null,
   "metadata": {},
   "outputs": [],
   "source": [
    "np.cov(b,b)"
   ]
  },
  {
   "cell_type": "code",
   "execution_count": null,
   "metadata": {},
   "outputs": [],
   "source": [
    "np.var(out, axis=0)"
   ]
  },
  {
   "cell_type": "code",
   "execution_count": null,
   "metadata": {},
   "outputs": [],
   "source": [
    "deltaB_n = np.random.multivariate_normal(X0, np.identity(p)*delta_t)\n",
    "deltaB_n"
   ]
  }
 ],
 "metadata": {
  "kernelspec": {
   "display_name": "Python 3",
   "language": "python",
   "name": "python3"
  },
  "language_info": {
   "codemirror_mode": {
    "name": "ipython",
    "version": 3
   },
   "file_extension": ".py",
   "mimetype": "text/x-python",
   "name": "python",
   "nbconvert_exporter": "python",
   "pygments_lexer": "ipython3",
   "version": "3.6.5"
  }
 },
 "nbformat": 4,
 "nbformat_minor": 2
}
