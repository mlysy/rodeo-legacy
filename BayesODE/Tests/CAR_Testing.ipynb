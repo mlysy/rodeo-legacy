{
 "cells": [
  {
   "cell_type": "markdown",
   "metadata": {},
   "source": [
    "# CAR Variance and Covariance Tests"
   ]
  },
  {
   "cell_type": "code",
   "execution_count": 2,
   "metadata": {},
   "outputs": [
    {
     "name": "stderr",
     "output_type": "stream",
     "text": [
      "'python3' is not recognized as an internal or external command,\n",
      "operable program or batch file.\n"
     ]
    }
   ],
   "source": [
    "import numpy as np\n",
    "from math import exp, sqrt\n",
    "import matplotlib.pyplot as plt\n",
    "import os\n",
    "#os.chdir(\"/Users/mlysy/Documents/proj/buqDE/probDE\")\n",
    "!python3 setup.py install\n",
    "from BayesODE import var_car, cov_car"
   ]
  },
  {
   "cell_type": "code",
   "execution_count": 3,
   "metadata": {},
   "outputs": [],
   "source": [
    "def rootgen(r0, n):\n",
    "    roots = np.zeros(n)\n",
    "    r = r0\n",
    "    for k in range(n):\n",
    "        roots[k] = -r\n",
    "        r = exp(r0*(k+1))\n",
    "    return roots"
   ]
  },
  {
   "cell_type": "markdown",
   "metadata": {},
   "source": [
    "## Variance as a function of time"
   ]
  },
  {
   "cell_type": "code",
   "execution_count": 4,
   "metadata": {},
   "outputs": [],
   "source": [
    "r0 = 1\n",
    "n = 3\n",
    "roots = rootgen(r0, n) #All roots need to be negative\n",
    "tseq = np.linspace(0.001,0.5,100)\n",
    "V = var_car(tseq, roots)"
   ]
  },
  {
   "cell_type": "code",
   "execution_count": 5,
   "metadata": {},
   "outputs": [
    {
     "data": {
      "image/png": "[encoded data removed]",
      "text/plain": [
       "<Figure size 432x288 with 1 Axes>"
      ]
     },
     "metadata": {
      "needs_background": "light"
     },
     "output_type": "display_data"
    }
   ],
   "source": [
    "for k in range(len(roots)):\n",
    "    plt.plot(tseq, np.log(V[:,k,k]), label=k)\n",
    "plt.legend(loc='lower right')\n",
    "plt.show()"
   ]
  },
  {
   "cell_type": "markdown",
   "metadata": {},
   "source": [
    "## Correlation as a function of time"
   ]
  },
  {
   "cell_type": "code",
   "execution_count": 6,
   "metadata": {},
   "outputs": [
    {
     "data": {
      "image/png": "[encoded data removed]",
      "text/plain": [
       "<Figure size 432x288 with 1 Axes>"
      ]
     },
     "metadata": {
      "needs_background": "light"
     },
     "output_type": "display_data"
    }
   ],
   "source": [
    "C = cov_car(tseq, roots, corr=True)\n",
    "for k in range(len(roots)):\n",
    "    plt.plot(tseq, C[:,k,k], label=k)\n",
    "plt.legend(loc='lower right')\n",
    "plt.show()"
   ]
  },
  {
   "cell_type": "code",
   "execution_count": 11,
   "metadata": {},
   "outputs": [],
   "source": [
    "def getgamma(C):\n",
    "    gamma = np.zeros(C.shape)\n",
    "    for t in range(C.shape[0]):\n",
    "        D = np.diag(np.diag(C[t]))\n",
    "        print(D)\n",
    "        D_half = np.linalg.cholesky(D)\n",
    "        gamma[t] = np.linalg.multi_dot([np.linalg.pinv(D_half), C[t], D_half])\n",
    "    return gamma"
   ]
  },
  {
   "cell_type": "code",
   "execution_count": 12,
   "metadata": {},
   "outputs": [
    {
     "name": "stdout",
     "output_type": "stream",
     "text": [
      "[[0.9999991  0.         0.        ]\n",
      " [0.         0.99998496 0.        ]\n",
      " [0.         0.         0.98960069]]\n",
      "[[0.99996701 0.         0.        ]\n",
      " [0.         0.99946062 0.        ]\n",
      " [0.         0.         0.93846673]]\n",
      "[[0.99988902 0.         0.        ]\n",
      " [0.         0.99821629 0.        ]\n",
      " [0.         0.         0.88941392]]\n",
      "[[0.99976516 0.         0.        ]\n",
      " [0.         0.99628958 0.        ]\n",
      " [0.         0.         0.84236325]]\n",
      "[[0.99959554 0.         0.        ]\n",
      " [0.         0.9937166  0.        ]\n",
      " [0.         0.         0.79723865]]\n",
      "[[0.99938027 0.         0.        ]\n",
      " [0.         0.99053196 0.        ]\n",
      " [0.         0.         0.75396684]]\n",
      "[[0.99911949 0.         0.        ]\n",
      " [0.         0.98676886 0.        ]\n",
      " [0.         0.         0.7124773 ]]\n",
      "[[0.99881339 0.         0.        ]\n",
      " [0.         0.98245913 0.        ]\n",
      " [0.         0.         0.67270209]]\n",
      "[[0.99846215 0.         0.        ]\n",
      " [0.         0.97763329 0.        ]\n",
      " [0.         0.         0.63457583]]\n",
      "[[0.99806599 0.         0.        ]\n",
      " [0.         0.97232058 0.        ]\n",
      " [0.         0.         0.59803552]]\n",
      "[[0.99762517 0.         0.        ]\n",
      " [0.         0.96654904 0.        ]\n",
      " [0.         0.         0.56302054]]\n",
      "[[0.99713995 0.         0.        ]\n",
      " [0.         0.96034553 0.        ]\n",
      " [0.         0.         0.52947251]]\n",
      "[[0.99661061 0.         0.        ]\n",
      " [0.         0.95373578 0.        ]\n",
      " [0.         0.         0.49733521]]\n",
      "[[0.99603745 0.         0.        ]\n",
      " [0.         0.94674446 0.        ]\n",
      " [0.         0.         0.46655452]]\n",
      "[[0.9954208  0.         0.        ]\n",
      " [0.         0.93939517 0.        ]\n",
      " [0.         0.         0.43707833]]\n",
      "[[0.99476099 0.         0.        ]\n",
      " [0.         0.93171054 0.        ]\n",
      " [0.         0.         0.40885648]]\n",
      "[[0.99405839 0.         0.        ]\n",
      " [0.         0.9237122  0.        ]\n",
      " [0.         0.         0.38184067]]\n",
      "[[0.99331334 0.         0.        ]\n",
      " [0.         0.91542089 0.        ]\n",
      " [0.         0.         0.35598438]]\n",
      "[[0.99252624 0.         0.        ]\n",
      " [0.         0.90685645 0.        ]\n",
      " [0.         0.         0.33124287]]\n",
      "[[0.99169748 0.         0.        ]\n",
      " [0.         0.89803785 0.        ]\n",
      " [0.         0.         0.30757301]]\n",
      "[[0.99082747 0.         0.        ]\n",
      " [0.         0.88898326 0.        ]\n",
      " [0.         0.         0.28493334]]\n",
      "[[0.98991661 0.         0.        ]\n",
      " [0.         0.87971004 0.        ]\n",
      " [0.         0.         0.26328389]]\n",
      "[[0.98896534 0.         0.        ]\n",
      " [0.         0.8702348  0.        ]\n",
      " [0.         0.         0.24258622]]\n",
      "[[0.98797409 0.         0.        ]\n",
      " [0.         0.86057342 0.        ]\n",
      " [0.         0.         0.22280332]]\n",
      "[[0.9869433  0.         0.        ]\n",
      " [0.         0.85074108 0.        ]\n",
      " [0.         0.         0.20389956]]\n",
      "[[0.98587343 0.         0.        ]\n",
      " [0.         0.84075227 0.        ]\n",
      " [0.         0.         0.18584063]]\n",
      "[[0.98476494 0.         0.        ]\n",
      " [0.         0.83062087 0.        ]\n",
      " [0.         0.         0.16859352]]\n",
      "[[0.98361829 0.         0.        ]\n",
      " [0.         0.82036009 0.        ]\n",
      " [0.         0.         0.15212645]]\n",
      "[[0.98243395 0.         0.        ]\n",
      " [0.         0.80998257 0.        ]\n",
      " [0.         0.         0.13640884]]\n",
      "[[0.98121239 0.         0.        ]\n",
      " [0.         0.79950037 0.        ]\n",
      " [0.         0.         0.12141123]]\n",
      "[[0.97995411 0.         0.        ]\n",
      " [0.         0.788925   0.        ]\n",
      " [0.         0.         0.1071053 ]]\n",
      "[[0.97865958 0.         0.        ]\n",
      " [0.         0.77826743 0.        ]\n",
      " [0.         0.         0.09346378]]\n",
      "[[0.9773293  0.         0.        ]\n",
      " [0.         0.76753812 0.        ]\n",
      " [0.         0.         0.0804604 ]]\n",
      "[[0.97596376 0.         0.        ]\n",
      " [0.         0.75674705 0.        ]\n",
      " [0.         0.         0.06806991]]\n",
      "[[0.97456345 0.         0.        ]\n",
      " [0.         0.74590374 0.        ]\n",
      " [0.         0.         0.05626799]]\n",
      "[[0.97312888 0.         0.        ]\n",
      " [0.         0.73501722 0.        ]\n",
      " [0.         0.         0.04503125]]\n",
      "[[0.97166053 0.         0.        ]\n",
      " [0.         0.72409613 0.        ]\n",
      " [0.         0.         0.03433717]]\n",
      "[[0.97015893 0.         0.        ]\n",
      " [0.         0.71314866 0.        ]\n",
      " [0.         0.         0.02416409]]\n",
      "[[0.96862455 0.         0.        ]\n",
      " [0.         0.70218263 0.        ]\n",
      " [0.         0.         0.01449114]]\n",
      "[[0.96705792 0.         0.        ]\n",
      " [0.         0.69120545 0.        ]\n",
      " [0.         0.         0.00529827]]\n",
      "[[ 0.96545954  0.          0.        ]\n",
      " [ 0.          0.68022418  0.        ]\n",
      " [ 0.          0.         -0.00343383]]\n"
     ]
    },
    {
     "ename": "LinAlgError",
     "evalue": "Matrix is not positive definite",
     "output_type": "error",
     "traceback": [
      "\u001b[1;31m---------------------------------------------------------------------------\u001b[0m",
      "\u001b[1;31mLinAlgError\u001b[0m                               Traceback (most recent call last)",
      "\u001b[1;32m<ipython-input-12-fbb7170bb2ce>\u001b[0m in \u001b[0;36m<module>\u001b[1;34m\u001b[0m\n\u001b[1;32m----> 1\u001b[1;33m \u001b[0mgamma\u001b[0m \u001b[1;33m=\u001b[0m \u001b[0mgetgamma\u001b[0m\u001b[1;33m(\u001b[0m\u001b[0mC\u001b[0m\u001b[1;33m)\u001b[0m\u001b[1;33m\u001b[0m\u001b[1;33m\u001b[0m\u001b[0m\n\u001b[0m",
      "\u001b[1;32m<ipython-input-11-44e6199a2e2c>\u001b[0m in \u001b[0;36mgetgamma\u001b[1;34m(C)\u001b[0m\n\u001b[0;32m      4\u001b[0m         \u001b[0mD\u001b[0m \u001b[1;33m=\u001b[0m \u001b[0mnp\u001b[0m\u001b[1;33m.\u001b[0m\u001b[0mdiag\u001b[0m\u001b[1;33m(\u001b[0m\u001b[0mnp\u001b[0m\u001b[1;33m.\u001b[0m\u001b[0mdiag\u001b[0m\u001b[1;33m(\u001b[0m\u001b[0mC\u001b[0m\u001b[1;33m[\u001b[0m\u001b[0mt\u001b[0m\u001b[1;33m]\u001b[0m\u001b[1;33m)\u001b[0m\u001b[1;33m)\u001b[0m\u001b[1;33m\u001b[0m\u001b[1;33m\u001b[0m\u001b[0m\n\u001b[0;32m      5\u001b[0m         \u001b[0mprint\u001b[0m\u001b[1;33m(\u001b[0m\u001b[0mD\u001b[0m\u001b[1;33m)\u001b[0m\u001b[1;33m\u001b[0m\u001b[1;33m\u001b[0m\u001b[0m\n\u001b[1;32m----> 6\u001b[1;33m         \u001b[0mD_half\u001b[0m \u001b[1;33m=\u001b[0m \u001b[0mnp\u001b[0m\u001b[1;33m.\u001b[0m\u001b[0mlinalg\u001b[0m\u001b[1;33m.\u001b[0m\u001b[0mcholesky\u001b[0m\u001b[1;33m(\u001b[0m\u001b[0mD\u001b[0m\u001b[1;33m)\u001b[0m\u001b[1;33m\u001b[0m\u001b[1;33m\u001b[0m\u001b[0m\n\u001b[0m\u001b[0;32m      7\u001b[0m         \u001b[0mgamma\u001b[0m\u001b[1;33m[\u001b[0m\u001b[0mt\u001b[0m\u001b[1;33m]\u001b[0m \u001b[1;33m=\u001b[0m \u001b[0mnp\u001b[0m\u001b[1;33m.\u001b[0m\u001b[0mlinalg\u001b[0m\u001b[1;33m.\u001b[0m\u001b[0mmulti_dot\u001b[0m\u001b[1;33m(\u001b[0m\u001b[1;33m[\u001b[0m\u001b[0mnp\u001b[0m\u001b[1;33m.\u001b[0m\u001b[0mlinalg\u001b[0m\u001b[1;33m.\u001b[0m\u001b[0mpinv\u001b[0m\u001b[1;33m(\u001b[0m\u001b[0mD_half\u001b[0m\u001b[1;33m)\u001b[0m\u001b[1;33m,\u001b[0m \u001b[0mC\u001b[0m\u001b[1;33m[\u001b[0m\u001b[0mt\u001b[0m\u001b[1;33m]\u001b[0m\u001b[1;33m,\u001b[0m \u001b[0mD_half\u001b[0m\u001b[1;33m]\u001b[0m\u001b[1;33m)\u001b[0m\u001b[1;33m\u001b[0m\u001b[1;33m\u001b[0m\u001b[0m\n\u001b[0;32m      8\u001b[0m     \u001b[1;32mreturn\u001b[0m \u001b[0mgamma\u001b[0m\u001b[1;33m\u001b[0m\u001b[1;33m\u001b[0m\u001b[0m\n",
      "\u001b[1;32m~\\Anaconda3\\lib\\site-packages\\numpy\\linalg\\linalg.py\u001b[0m in \u001b[0;36mcholesky\u001b[1;34m(a)\u001b[0m\n\u001b[0;32m    757\u001b[0m     \u001b[0mt\u001b[0m\u001b[1;33m,\u001b[0m \u001b[0mresult_t\u001b[0m \u001b[1;33m=\u001b[0m \u001b[0m_commonType\u001b[0m\u001b[1;33m(\u001b[0m\u001b[0ma\u001b[0m\u001b[1;33m)\u001b[0m\u001b[1;33m\u001b[0m\u001b[1;33m\u001b[0m\u001b[0m\n\u001b[0;32m    758\u001b[0m     \u001b[0msignature\u001b[0m \u001b[1;33m=\u001b[0m \u001b[1;34m'D->D'\u001b[0m \u001b[1;32mif\u001b[0m \u001b[0misComplexType\u001b[0m\u001b[1;33m(\u001b[0m\u001b[0mt\u001b[0m\u001b[1;33m)\u001b[0m \u001b[1;32melse\u001b[0m \u001b[1;34m'd->d'\u001b[0m\u001b[1;33m\u001b[0m\u001b[1;33m\u001b[0m\u001b[0m\n\u001b[1;32m--> 759\u001b[1;33m     \u001b[0mr\u001b[0m \u001b[1;33m=\u001b[0m \u001b[0mgufunc\u001b[0m\u001b[1;33m(\u001b[0m\u001b[0ma\u001b[0m\u001b[1;33m,\u001b[0m \u001b[0msignature\u001b[0m\u001b[1;33m=\u001b[0m\u001b[0msignature\u001b[0m\u001b[1;33m,\u001b[0m \u001b[0mextobj\u001b[0m\u001b[1;33m=\u001b[0m\u001b[0mextobj\u001b[0m\u001b[1;33m)\u001b[0m\u001b[1;33m\u001b[0m\u001b[1;33m\u001b[0m\u001b[0m\n\u001b[0m\u001b[0;32m    760\u001b[0m     \u001b[1;32mreturn\u001b[0m \u001b[0mwrap\u001b[0m\u001b[1;33m(\u001b[0m\u001b[0mr\u001b[0m\u001b[1;33m.\u001b[0m\u001b[0mastype\u001b[0m\u001b[1;33m(\u001b[0m\u001b[0mresult_t\u001b[0m\u001b[1;33m,\u001b[0m \u001b[0mcopy\u001b[0m\u001b[1;33m=\u001b[0m\u001b[1;32mFalse\u001b[0m\u001b[1;33m)\u001b[0m\u001b[1;33m)\u001b[0m\u001b[1;33m\u001b[0m\u001b[1;33m\u001b[0m\u001b[0m\n\u001b[0;32m    761\u001b[0m \u001b[1;33m\u001b[0m\u001b[0m\n",
      "\u001b[1;32m~\\Anaconda3\\lib\\site-packages\\numpy\\linalg\\linalg.py\u001b[0m in \u001b[0;36m_raise_linalgerror_nonposdef\u001b[1;34m(err, flag)\u001b[0m\n\u001b[0;32m     98\u001b[0m \u001b[1;33m\u001b[0m\u001b[0m\n\u001b[0;32m     99\u001b[0m \u001b[1;32mdef\u001b[0m \u001b[0m_raise_linalgerror_nonposdef\u001b[0m\u001b[1;33m(\u001b[0m\u001b[0merr\u001b[0m\u001b[1;33m,\u001b[0m \u001b[0mflag\u001b[0m\u001b[1;33m)\u001b[0m\u001b[1;33m:\u001b[0m\u001b[1;33m\u001b[0m\u001b[1;33m\u001b[0m\u001b[0m\n\u001b[1;32m--> 100\u001b[1;33m     \u001b[1;32mraise\u001b[0m \u001b[0mLinAlgError\u001b[0m\u001b[1;33m(\u001b[0m\u001b[1;34m\"Matrix is not positive definite\"\u001b[0m\u001b[1;33m)\u001b[0m\u001b[1;33m\u001b[0m\u001b[1;33m\u001b[0m\u001b[0m\n\u001b[0m\u001b[0;32m    101\u001b[0m \u001b[1;33m\u001b[0m\u001b[0m\n\u001b[0;32m    102\u001b[0m \u001b[1;32mdef\u001b[0m \u001b[0m_raise_linalgerror_eigenvalues_nonconvergence\u001b[0m\u001b[1;33m(\u001b[0m\u001b[0merr\u001b[0m\u001b[1;33m,\u001b[0m \u001b[0mflag\u001b[0m\u001b[1;33m)\u001b[0m\u001b[1;33m:\u001b[0m\u001b[1;33m\u001b[0m\u001b[1;33m\u001b[0m\u001b[0m\n",
      "\u001b[1;31mLinAlgError\u001b[0m: Matrix is not positive definite"
     ]
    }
   ],
   "source": [
    "gamma = getgamma(C)"
   ]
  },
  {
   "cell_type": "code",
   "execution_count": 8,
   "metadata": {},
   "outputs": [
    {
     "ename": "LinAlgError",
     "evalue": "Matrix is not positive definite",
     "output_type": "error",
     "traceback": [
      "\u001b[1;31m---------------------------------------------------------------------------\u001b[0m",
      "\u001b[1;31mLinAlgError\u001b[0m                               Traceback (most recent call last)",
      "\u001b[1;32m<ipython-input-8-632c64ab478a>\u001b[0m in \u001b[0;36m<module>\u001b[1;34m\u001b[0m\n\u001b[1;32m----> 1\u001b[1;33m \u001b[0mgamma\u001b[0m \u001b[1;33m=\u001b[0m \u001b[0mgetgamma\u001b[0m\u001b[1;33m(\u001b[0m\u001b[0mC\u001b[0m\u001b[1;33m)\u001b[0m\u001b[1;33m\u001b[0m\u001b[1;33m\u001b[0m\u001b[0m\n\u001b[0m\u001b[0;32m      2\u001b[0m \u001b[1;32mfor\u001b[0m \u001b[0mk\u001b[0m \u001b[1;32min\u001b[0m \u001b[0mrange\u001b[0m\u001b[1;33m(\u001b[0m\u001b[0mlen\u001b[0m\u001b[1;33m(\u001b[0m\u001b[0mroots\u001b[0m\u001b[1;33m)\u001b[0m\u001b[1;33m)\u001b[0m\u001b[1;33m:\u001b[0m\u001b[1;33m\u001b[0m\u001b[1;33m\u001b[0m\u001b[0m\n\u001b[0;32m      3\u001b[0m     \u001b[0mplt\u001b[0m\u001b[1;33m.\u001b[0m\u001b[0mplot\u001b[0m\u001b[1;33m(\u001b[0m\u001b[0mtseq\u001b[0m\u001b[1;33m,\u001b[0m \u001b[0mnp\u001b[0m\u001b[1;33m.\u001b[0m\u001b[0mlog\u001b[0m\u001b[1;33m(\u001b[0m\u001b[0mgamma\u001b[0m\u001b[1;33m[\u001b[0m\u001b[1;33m:\u001b[0m\u001b[1;33m,\u001b[0m\u001b[0mk\u001b[0m\u001b[1;33m,\u001b[0m\u001b[0mk\u001b[0m\u001b[1;33m]\u001b[0m\u001b[1;33m)\u001b[0m\u001b[1;33m,\u001b[0m \u001b[0mlabel\u001b[0m\u001b[1;33m=\u001b[0m\u001b[0mk\u001b[0m\u001b[1;33m)\u001b[0m\u001b[1;33m\u001b[0m\u001b[1;33m\u001b[0m\u001b[0m\n\u001b[0;32m      4\u001b[0m \u001b[0mplt\u001b[0m\u001b[1;33m.\u001b[0m\u001b[0mlegend\u001b[0m\u001b[1;33m(\u001b[0m\u001b[0mloc\u001b[0m\u001b[1;33m=\u001b[0m\u001b[1;34m'upper left'\u001b[0m\u001b[1;33m)\u001b[0m\u001b[1;33m\u001b[0m\u001b[1;33m\u001b[0m\u001b[0m\n\u001b[0;32m      5\u001b[0m \u001b[0mplt\u001b[0m\u001b[1;33m.\u001b[0m\u001b[0mshow\u001b[0m\u001b[1;33m(\u001b[0m\u001b[1;33m)\u001b[0m\u001b[1;33m\u001b[0m\u001b[1;33m\u001b[0m\u001b[0m\n",
      "\u001b[1;32m<ipython-input-7-10bf8fc56eeb>\u001b[0m in \u001b[0;36mgetgamma\u001b[1;34m(C)\u001b[0m\n\u001b[0;32m      3\u001b[0m     \u001b[1;32mfor\u001b[0m \u001b[0mt\u001b[0m \u001b[1;32min\u001b[0m \u001b[0mrange\u001b[0m\u001b[1;33m(\u001b[0m\u001b[0mC\u001b[0m\u001b[1;33m.\u001b[0m\u001b[0mshape\u001b[0m\u001b[1;33m[\u001b[0m\u001b[1;36m0\u001b[0m\u001b[1;33m]\u001b[0m\u001b[1;33m)\u001b[0m\u001b[1;33m:\u001b[0m\u001b[1;33m\u001b[0m\u001b[1;33m\u001b[0m\u001b[0m\n\u001b[0;32m      4\u001b[0m         \u001b[0mD\u001b[0m \u001b[1;33m=\u001b[0m \u001b[0mnp\u001b[0m\u001b[1;33m.\u001b[0m\u001b[0mdiag\u001b[0m\u001b[1;33m(\u001b[0m\u001b[0mnp\u001b[0m\u001b[1;33m.\u001b[0m\u001b[0mdiag\u001b[0m\u001b[1;33m(\u001b[0m\u001b[0mC\u001b[0m\u001b[1;33m[\u001b[0m\u001b[0mt\u001b[0m\u001b[1;33m]\u001b[0m\u001b[1;33m)\u001b[0m\u001b[1;33m)\u001b[0m\u001b[1;33m\u001b[0m\u001b[1;33m\u001b[0m\u001b[0m\n\u001b[1;32m----> 5\u001b[1;33m         \u001b[0mD_half\u001b[0m \u001b[1;33m=\u001b[0m \u001b[0mnp\u001b[0m\u001b[1;33m.\u001b[0m\u001b[0mlinalg\u001b[0m\u001b[1;33m.\u001b[0m\u001b[0mcholesky\u001b[0m\u001b[1;33m(\u001b[0m\u001b[0mD\u001b[0m\u001b[1;33m)\u001b[0m\u001b[1;33m\u001b[0m\u001b[1;33m\u001b[0m\u001b[0m\n\u001b[0m\u001b[0;32m      6\u001b[0m         \u001b[0mgamma\u001b[0m\u001b[1;33m[\u001b[0m\u001b[0mt\u001b[0m\u001b[1;33m]\u001b[0m \u001b[1;33m=\u001b[0m \u001b[0mnp\u001b[0m\u001b[1;33m.\u001b[0m\u001b[0mlinalg\u001b[0m\u001b[1;33m.\u001b[0m\u001b[0mmulti_dot\u001b[0m\u001b[1;33m(\u001b[0m\u001b[1;33m[\u001b[0m\u001b[0mnp\u001b[0m\u001b[1;33m.\u001b[0m\u001b[0mlinalg\u001b[0m\u001b[1;33m.\u001b[0m\u001b[0mpinv\u001b[0m\u001b[1;33m(\u001b[0m\u001b[0mD_half\u001b[0m\u001b[1;33m)\u001b[0m\u001b[1;33m,\u001b[0m \u001b[0mC\u001b[0m\u001b[1;33m[\u001b[0m\u001b[0mt\u001b[0m\u001b[1;33m]\u001b[0m\u001b[1;33m,\u001b[0m \u001b[0mD_half\u001b[0m\u001b[1;33m]\u001b[0m\u001b[1;33m)\u001b[0m\u001b[1;33m\u001b[0m\u001b[1;33m\u001b[0m\u001b[0m\n\u001b[0;32m      7\u001b[0m     \u001b[1;32mreturn\u001b[0m \u001b[0mgamma\u001b[0m\u001b[1;33m\u001b[0m\u001b[1;33m\u001b[0m\u001b[0m\n",
      "\u001b[1;32m~\\Anaconda3\\lib\\site-packages\\numpy\\linalg\\linalg.py\u001b[0m in \u001b[0;36mcholesky\u001b[1;34m(a)\u001b[0m\n\u001b[0;32m    757\u001b[0m     \u001b[0mt\u001b[0m\u001b[1;33m,\u001b[0m \u001b[0mresult_t\u001b[0m \u001b[1;33m=\u001b[0m \u001b[0m_commonType\u001b[0m\u001b[1;33m(\u001b[0m\u001b[0ma\u001b[0m\u001b[1;33m)\u001b[0m\u001b[1;33m\u001b[0m\u001b[1;33m\u001b[0m\u001b[0m\n\u001b[0;32m    758\u001b[0m     \u001b[0msignature\u001b[0m \u001b[1;33m=\u001b[0m \u001b[1;34m'D->D'\u001b[0m \u001b[1;32mif\u001b[0m \u001b[0misComplexType\u001b[0m\u001b[1;33m(\u001b[0m\u001b[0mt\u001b[0m\u001b[1;33m)\u001b[0m \u001b[1;32melse\u001b[0m \u001b[1;34m'd->d'\u001b[0m\u001b[1;33m\u001b[0m\u001b[1;33m\u001b[0m\u001b[0m\n\u001b[1;32m--> 759\u001b[1;33m     \u001b[0mr\u001b[0m \u001b[1;33m=\u001b[0m \u001b[0mgufunc\u001b[0m\u001b[1;33m(\u001b[0m\u001b[0ma\u001b[0m\u001b[1;33m,\u001b[0m \u001b[0msignature\u001b[0m\u001b[1;33m=\u001b[0m\u001b[0msignature\u001b[0m\u001b[1;33m,\u001b[0m \u001b[0mextobj\u001b[0m\u001b[1;33m=\u001b[0m\u001b[0mextobj\u001b[0m\u001b[1;33m)\u001b[0m\u001b[1;33m\u001b[0m\u001b[1;33m\u001b[0m\u001b[0m\n\u001b[0m\u001b[0;32m    760\u001b[0m     \u001b[1;32mreturn\u001b[0m \u001b[0mwrap\u001b[0m\u001b[1;33m(\u001b[0m\u001b[0mr\u001b[0m\u001b[1;33m.\u001b[0m\u001b[0mastype\u001b[0m\u001b[1;33m(\u001b[0m\u001b[0mresult_t\u001b[0m\u001b[1;33m,\u001b[0m \u001b[0mcopy\u001b[0m\u001b[1;33m=\u001b[0m\u001b[1;32mFalse\u001b[0m\u001b[1;33m)\u001b[0m\u001b[1;33m)\u001b[0m\u001b[1;33m\u001b[0m\u001b[1;33m\u001b[0m\u001b[0m\n\u001b[0;32m    761\u001b[0m \u001b[1;33m\u001b[0m\u001b[0m\n",
      "\u001b[1;32m~\\Anaconda3\\lib\\site-packages\\numpy\\linalg\\linalg.py\u001b[0m in \u001b[0;36m_raise_linalgerror_nonposdef\u001b[1;34m(err, flag)\u001b[0m\n\u001b[0;32m     98\u001b[0m \u001b[1;33m\u001b[0m\u001b[0m\n\u001b[0;32m     99\u001b[0m \u001b[1;32mdef\u001b[0m \u001b[0m_raise_linalgerror_nonposdef\u001b[0m\u001b[1;33m(\u001b[0m\u001b[0merr\u001b[0m\u001b[1;33m,\u001b[0m \u001b[0mflag\u001b[0m\u001b[1;33m)\u001b[0m\u001b[1;33m:\u001b[0m\u001b[1;33m\u001b[0m\u001b[1;33m\u001b[0m\u001b[0m\n\u001b[1;32m--> 100\u001b[1;33m     \u001b[1;32mraise\u001b[0m \u001b[0mLinAlgError\u001b[0m\u001b[1;33m(\u001b[0m\u001b[1;34m\"Matrix is not positive definite\"\u001b[0m\u001b[1;33m)\u001b[0m\u001b[1;33m\u001b[0m\u001b[1;33m\u001b[0m\u001b[0m\n\u001b[0m\u001b[0;32m    101\u001b[0m \u001b[1;33m\u001b[0m\u001b[0m\n\u001b[0;32m    102\u001b[0m \u001b[1;32mdef\u001b[0m \u001b[0m_raise_linalgerror_eigenvalues_nonconvergence\u001b[0m\u001b[1;33m(\u001b[0m\u001b[0merr\u001b[0m\u001b[1;33m,\u001b[0m \u001b[0mflag\u001b[0m\u001b[1;33m)\u001b[0m\u001b[1;33m:\u001b[0m\u001b[1;33m\u001b[0m\u001b[1;33m\u001b[0m\u001b[0m\n",
      "\u001b[1;31mLinAlgError\u001b[0m: Matrix is not positive definite"
     ]
    }
   ],
   "source": [
    "gamma = getgamma(C)\n",
    "for k in range(len(roots)):\n",
    "    plt.plot(tseq, np.log(gamma[:,k,k]), label=k)\n",
    "plt.legend(loc='upper left')\n",
    "plt.show()\n",
    "#plt.plot(tseq,gamma)"
   ]
  },
  {
   "cell_type": "code",
   "execution_count": null,
   "metadata": {},
   "outputs": [],
   "source": [
    "def decorrelation(roots, k, tol=1e-5):\n",
    "    t = 0.1\n",
    "    \n",
    "    while True:\n",
    "        cov = cov_car(np.array([t]), roots)\n",
    "        gamma_k = getgamma(cov)[0][k,k]\n",
    "        if abs(gamma_k-1/exp(1)) < tol:\n",
    "            return t\n",
    "        elif gamma_k>1/exp(1):\n",
    "            t = t - t/100\n",
    "        else:\n",
    "            t = t + t/100"
   ]
  },
  {
   "cell_type": "code",
   "execution_count": null,
   "metadata": {},
   "outputs": [],
   "source": [
    "decorrelation(roots, 2)"
   ]
  },
  {
   "cell_type": "markdown",
   "metadata": {},
   "source": [
    "# Unit Test"
   ]
  },
  {
   "cell_type": "code",
   "execution_count": null,
   "metadata": {},
   "outputs": [],
   "source": [
    "r0 = 1\n",
    "roots = rootgen(r0, 3)\n",
    "\n",
    "delta = -roots\n",
    "D = np.diag(delta)\n",
    "p = len(roots)\n",
    "Q = np.zeros((p, p))\n",
    "\n",
    "row = np.ones(p)\n",
    "for i in range(p):\n",
    "    Q[i] = row\n",
    "    row = row*roots\n",
    "\n",
    "Q_inv = np.linalg.pinv(Q)\n",
    "Gamma = np.linalg.multi_dot([Q, D, Q_inv])"
   ]
  },
  {
   "cell_type": "code",
   "execution_count": null,
   "metadata": {},
   "outputs": [],
   "source": [
    "from sympy import symbols, expand, Poly\n",
    "s = symbols('s')\n",
    "product = 1\n",
    "for root in roots:\n",
    "    product = product * (s - root)\n",
    "coeffs = Poly(expand(product)).coeffs()\n",
    "np.allclose(np.array(coeffs[:0:-1], dtype='float'),Gamma[-1])"
   ]
  },
  {
   "cell_type": "code",
   "execution_count": null,
   "metadata": {},
   "outputs": [],
   "source": [
    "def V_euler_N1(Sigma, Delta_t):\n",
    "    return Sigma*Delta_t"
   ]
  },
  {
   "cell_type": "code",
   "execution_count": null,
   "metadata": {},
   "outputs": [],
   "source": [
    "def var_car_test(Q, D, Sigma, Delta_t):\n",
    "    p = len(D)\n",
    "    delta = np.diag(D)\n",
    "    Q_inv = np.linalg.pinv(Q)\n",
    "    Gamma = np.linalg.multi_dot([Q, D, Q_inv]) #Q*D*Q^-1\n",
    "    Sigma_tilde = np.linalg.multi_dot([Q_inv, Sigma, Q_inv.T]) #Q^-1*Sigma*Q^-1'\n",
    "\n",
    "    V_tilde = np.zeros((p,p))\n",
    "    for i in range(p):\n",
    "        for j in range(i, p):\n",
    "            V_tilde[i,j] = Sigma_tilde[i,j] / (delta[i] + delta[j]) * (1- exp(- (delta[i] + delta[j]) * Delta_t)) #V_tilde\n",
    "            V_tilde[j,i] = V_tilde[i,j]\n",
    "\n",
    "    V = np.linalg.multi_dot([Q, V_tilde, Q.T]) #V_deltat\n",
    "    return V"
   ]
  },
  {
   "cell_type": "code",
   "execution_count": null,
   "metadata": {},
   "outputs": [],
   "source": [
    "Delta_T = 10**-np.linspace(5, 10, 10)\n",
    "Q = np.ones((3,3))\n",
    "D = np.diag([1,2,3])\n",
    "Sigma = np.random.rand(3,3)\n",
    "Sigma = Sigma.dot(Sigma.T)\n",
    "\n",
    "compare = np.zeros(len(Delta_T))\n",
    "for t in range(len(Delta_T)):\n",
    "    euler = V_euler_N1(Sigma, Delta_T[t])\n",
    "    true = var_car_test(Q, D, Sigma, Delta_T[t])\n",
    "    compare[t] = np.max((abs(euler - true)/(abs(euler) + 0.1)))\n",
    "    \n",
    "plt.plot(np.log10(Delta_T), compare)"
   ]
  },
  {
   "cell_type": "code",
   "execution_count": null,
   "metadata": {},
   "outputs": [],
   "source": [
    "def V_euler(B, N, Sigma, Gamma, delta_t):\n",
    "    p = len(Gamma)\n",
    "    X = np.zeros((N,p,B))\n",
    "    Z = np.random.normal(0,1,(N,p,B))\n",
    "    for n in range(N):\n",
    "        deltaB_n = sqrt(delta_t)*Z[n]\n",
    "        if n==0:\n",
    "            X[n] = np.linalg.cholesky(Sigma).dot(deltaB_n)\n",
    "        else:\n",
    "            X[n] = X[n-1] + Gamma.dot(X[n-1])*delta_t + np.linalg.cholesky(Sigma).dot(deltaB_n)\n",
    "    return np.cov(X[N-1])"
   ]
  },
  {
   "cell_type": "code",
   "execution_count": null,
   "metadata": {},
   "outputs": [],
   "source": [
    "Q = np.ones((3,3))\n",
    "Q_inv = np.linalg.pinv(Q)\n",
    "D = np.diag([1,2,3])\n",
    "Sigma = np.random.rand(3,3)\n",
    "Sigma = Sigma.dot(Sigma.T)\n",
    "Gamma = np.linalg.multi_dot([Q, D, Q_inv]) #Q*D*Q^-1\n",
    "\n",
    "B = 10000\n",
    "N = 10\n",
    "T = 10**-np.linspace(5, 10, 10)\n",
    "\n",
    "compare = np.zeros(len(T))\n",
    "for t in range(len(T)):\n",
    "    euler = V_euler(B, N, Sigma, Gamma, T[t]/N)\n",
    "    true = var_car_test(Q, D, Sigma, T[t])\n",
    "    compare[t] = np.max((abs(euler - true)/(abs(euler) + 0.1)))\n",
    "    \n",
    "plt.plot(np.log10(Delta_T), compare)"
   ]
  }
 ],
 "metadata": {
  "kernelspec": {
   "display_name": "Python 3",
   "language": "python",
   "name": "python3"
  },
  "language_info": {
   "codemirror_mode": {
    "name": "ipython",
    "version": 3
   },
   "file_extension": ".py",
   "mimetype": "text/x-python",
   "name": "python",
   "nbconvert_exporter": "python",
   "pygments_lexer": "ipython3",
   "version": "3.7.3"
  }
 },
 "nbformat": 4,
 "nbformat_minor": 2
}
