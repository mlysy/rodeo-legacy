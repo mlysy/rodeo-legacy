{
 "cells": [
  {
   "cell_type": "code",
   "execution_count": 5,
   "metadata": {},
   "outputs": [],
   "source": [
    "import numpy as np\n",
    "from math import exp, sqrt\n",
    "import matplotlib.pyplot as plt\n",
    "import BayesODE.Bayesian as bo\n",
    "from BayesODE.Tests.root_gen import root_gen\n",
    "from BayesODE.utils.utils import mvCond\n",
    "from BayesODE.Kalman.kalman_initial_draw import kalman_initial_draw\n",
    "from BayesODE.Kalman.kalman_ode_higher import kalman_ode_higher\n",
    "from BayesODE.Kalman.higher_mvCond import higher_mvCond\n",
    "from BayesODE.Tests.test_exp_integrate import cov_yy_ex\n",
    "from BayesODE.Kalman.cov_car import cov_car\n",
    "from BayesODE.Kalman.Old.kalman_filter import kalman_filter\n",
    "from BayesODE.Kalman.Old.kalman_smooth import kalman_smooth\n",
    "from BayesODE.Kalman.pykalman.filter_update_full import filter_update_full\n",
    "from pykalman import standard as pks\n",
    "import scipy as sc"
   ]
  },
  {
   "cell_type": "code",
   "execution_count": 6,
   "metadata": {},
   "outputs": [],
   "source": [
    "from math import sin, cos\n",
    "def chk_F(y_t, t):\n",
    "    return sin(2*t) - y_t[0] #X^{2} = sin(2t) - X\n",
    "\n",
    "def chk_exact_x(t):\n",
    "    return (-3*cos(t) + 2*sin(t) - sin(2*t))/3\n",
    "\n",
    "def chk_exact_x1(t):\n",
    "    return (-2*cos(2*t) + 3*sin(t) + 2*cos(t))/3\n",
    "\n",
    "def chk_exact_x2(t):\n",
    "    return (4*sin(2*t) - 2*sin(t) + 3*cos(t))/3\n"
   ]
  },
  {
   "cell_type": "markdown",
   "metadata": {},
   "source": [
    "# Test Against Pykalman"
   ]
  },
  {
   "cell_type": "code",
   "execution_count": 7,
   "metadata": {},
   "outputs": [],
   "source": [
    "#Define parameters\n",
    "N = 2\n",
    "q = 2\n",
    "p = q+2\n",
    "\n",
    "delta_t = np.array([1/N])\n",
    "r0 = 0.5\n",
    "sigma = 0.001\n",
    "roots = root_gen(r0, p) #Generate roots to draw x^{(3)}_0\n",
    "a = np.array([0,0,1])\n",
    "x0 = np.array([-1,0,0])\n",
    "x0 = np.array([-1,0,chk_F(x0, 0)]) #Initial state\n",
    "\n",
    "Y0 = kalman_initial_draw(roots, sigma, x0, p)\n",
    "A, V = higher_mvCond(delta_t, roots, sigma) \n",
    "lam = np.zeros(p)\n",
    "b = lam - A.dot(lam)\n",
    "fun = chk_F"
   ]
  },
  {
   "cell_type": "code",
   "execution_count": 8,
   "metadata": {},
   "outputs": [],
   "source": [
    "\n",
    "\"\"\"\n",
    ".. module:: kalman_smooth\n",
    "\n",
    "Backward pass algorithm to smooth a Kalman Filter estimate.\n",
    "\"\"\"\n",
    "import numpy as np\n",
    "\n",
    "def kalman_smooth(A, mu_currs, Sigma_currs, mu_preds, Sigma_preds):\n",
    "    \"\"\"Backward pass to smooth a Kalman Filter estimate.\n",
    "    Perform smoothing to estimate the state at time :math:`t`\n",
    "    give an observation at time :math:`[0...N]` for :math: `t=0:N`.  This\n",
    "    method is useful if one wants to track an object with streaming\n",
    "    observations.\n",
    "\n",
    "    Parameters\n",
    "    ----------\n",
    "    A : [n_dim_state, n_dim_state] :obj:`numpy.ndarray`\n",
    "        state transition matrix from time t to t+1.\n",
    "    mu_currs : [n_timesteps, n_dim_state] :obj:`numpy.ndarray`\n",
    "        mean estimate for state at time t given observations from times\n",
    "        [0...t].\n",
    "    Sigma_currs : [n_timesteps, n_dim_state, n_dim_state] :obj:`numpy.ndarray`\n",
    "        covariance of estimate for state at time t given observations from\n",
    "        times [0...t]\n",
    "    mu_preds : [n_timesteps, n_dim_state] :obj:`numpy.ndarray`\n",
    "        mean of hidden state at time t+1 given observations from \n",
    "        times [0...t+1]\n",
    "    Sigma_preds : [n_timesteps, n_dim_state, n_dim_state] :obj:`numpy.ndarray`\n",
    "        covariance of hidden state at time t+1 given observations from \n",
    "        times [0...t+1]\n",
    "\n",
    "    Returns\n",
    "    -------\n",
    "    Y_tt : [n_timesteps, n_dim_state] :obj:`numpy.ndarray`\n",
    "        samples at time t given observations from \n",
    "        times [0...N] for t=0:N.\n",
    "    mu_smooth : [n_timesteps, n_dim_state] :obj:`numpy.ndarray`\n",
    "        mean of hidden state at time t given observations from \n",
    "        times [0...N] for t=0:N.\n",
    "    Sigma_pred : [n_timesteps, n_dim_state, n_dim_state] :obj:`numpy.ndarray`\n",
    "        covariance of hidden state at time t given observations from \n",
    "        times [0...N] for t=0:N.\n",
    "    \"\"\"\n",
    "    n_timesteps, n_dim_state = mu_currs.shape\n",
    "    mu_smooth = np.zeros((n_timesteps, n_dim_state))\n",
    "    Sigma_smooth = np.zeros((n_timesteps, n_dim_state, n_dim_state))\n",
    "    h_tt = np.zeros((n_timesteps, n_dim_state))\n",
    "    W_tt = np.zeros((n_timesteps, n_dim_state, n_dim_state))\n",
    "    Y_tt = np.zeros((n_timesteps, n_dim_state))\n",
    "    \n",
    "    #Base Case Smoothing Sampler\n",
    "    h_tt[-1] = mu_smooth[-1] = mu_currs[-1] #\\mu_{t|N} = \\mu_{N|N} for t=N\n",
    "    W_tt[-1] = Sigma_smooth[-1] = Sigma_currs[-1] #\\Sigma_{t|N} = \\Sigma{N|N} for t=N\n",
    "    Y_tt[-1] = np.random.multivariate_normal(mu_smooth[-1], Sigma_smooth[-1])\n",
    "    \n",
    "    #Iterative Step\n",
    "    for t in reversed(range(n_timesteps-1)):\n",
    "        #B = \\Sigma{t|t}A'_{t+1}\n",
    "        B = Sigma_currs[t].dot(A.T)\n",
    "        \n",
    "        #\\tilde{B} = \\Sigma{t|t}A'_{t+1} \\Sigma_{t+1|t}^{-1}\n",
    "        B_tilde = B.dot(np.linalg.pinv(Sigma_preds[t+1]))\n",
    "        \n",
    "        #h_t = \\mu_{t|t} + B \\mu_{t+1|t}^{-1} (Z_{t+1} - \\mu{t+1|t})\n",
    "        h_tt[t] = mu_currs[t] + B_tilde.dot(Y_tt[t+1] - mu_preds[t+1])\n",
    "        \n",
    "        #W_t = \\Sigma{t|t} - B \\Sigma{t+1|t}^{-1} B'\n",
    "        W_tt[t] = Sigma_currs[t] - B_tilde.dot(B.T)\n",
    "        \n",
    "        #Y_t ~ N{h_t, W_t}\n",
    "        Y_tt[t] = np.random.multivariate_normal(h_tt[t], W_tt[t])\n",
    "        \n",
    "        #\\mu_{t|N} = \\mu_{t|t} + \\tilde{B} (\\mu_{t+1|N} - \\mu_{t+1|t})\n",
    "        mu_smooth[t] = mu_currs[t] + B_tilde.dot(mu_smooth[t+1] - mu_preds[t+1])\n",
    "        \n",
    "        #\\Sigma_{t+1|N} = \\Sigma_{t|t} + \\tilde{B} (\\Sigma_{t+1|N} - \\Sigma_{t+1|t}) \\tilde{B}'\n",
    "        Sigma_smooth[t] = Sigma_currs[t] + np.linalg.multi_dot([B_tilde, (Sigma_smooth[t+1] - Sigma_preds[t+1]), B_tilde.T])\n",
    "        \n",
    "    return (h_tt, W_tt, Y_tt, mu_smooth, Sigma_smooth)"
   ]
  },
  {
   "cell_type": "code",
   "execution_count": 9,
   "metadata": {},
   "outputs": [],
   "source": [
    "n_dim_obs = 1\n",
    "n_dim_state = len(Y0)\n",
    "n_timesteps = N+1\n",
    "\n",
    "# allocate memory\n",
    "us = np.zeros((n_timesteps,n_dim_obs)) \n",
    "\n",
    "# var(us_n | y_n), to be determined during the interrogation process\n",
    "sig2 = np.zeros((n_timesteps, n_dim_obs, n_dim_obs))\n",
    "\n",
    "# solution process\n",
    "# forward mean and variance.\n",
    "mu = np.zeros((n_timesteps, n_dim_state)) # E[y_n | us_0:n]\n",
    "# var(y_n | us_0:n)\n",
    "Sigma = np.zeros((n_timesteps, n_dim_state, n_dim_state))\n",
    "\n",
    "#a padde with 0s\n",
    "p = len(b)\n",
    "q = len(a) - 1\n",
    "a_star = np.pad(a, (0, p-q-1), 'constant', constant_values=(0,0))\n",
    "\n",
    "# argumgents for kalman_filter and kalman_smooth\n",
    "D = np.array([a_star])\n",
    "e = np.array([0.])\n",
    "F = sig2\n",
    "mu_currs = mu\n",
    "Sigma_currs = Sigma\n",
    "mu_preds = np.zeros((n_timesteps, n_dim_state))\n",
    "Sigma_preds = np.zeros((n_timesteps, n_dim_state, n_dim_state))\n",
    "\n",
    "# arguments to use low-level pykalman functions\n",
    "observations = us\n",
    "observation_matrix = np.array([a_star])\n",
    "observation_offset = np.array([0.])\n",
    "observation_covariances = sig2 # multidimensional\n",
    "transition_matrix = A\n",
    "transition_offset = b\n",
    "transition_covariance = V # single dimensional\n",
    "filtered_state_means = mu\n",
    "filtered_state_covariances = Sigma\n",
    "predicted_state_means = np.zeros((n_timesteps, n_dim_state))\n",
    "predicted_state_covariances = np.zeros((n_timesteps, n_dim_state, n_dim_state))\n",
    "\n",
    "# initialize things\n",
    "mu[0] = Y0\n",
    "us[0] = Y0.dot(a_star)\n",
    "mu_preds[0] = mu[0]\n",
    "predicted_state_means[0] = mu[0]\n",
    "Sigma_preds[0] = Sigma[0]\n",
    "predicted_state_covariances[0] = Sigma[0]\n",
    "\n",
    "# forward pass: merging pks._filter to accommodate multiple\n",
    "# observation_covariances\n",
    "# calculate mu_tt = E[y_t | us_0:t-1] and\n",
    "# Sigma_tt = var(y_t | us_0:t-1)\n",
    "\n",
    "for t in range(N):\n",
    "    mu_tt = np.dot(A, mu[t]) + b\n",
    "    Sigma_tt = np.linalg.multi_dot([A, Sigma[t], A.T]) + V #A*Sigma[t]*A.T + V \n",
    "    sig2[t+1] = np.linalg.multi_dot([a_star, Sigma_tt, a_star.T]) # new observation_covariance\n",
    "    I_tt = np.random.multivariate_normal(np.zeros(p), np.eye(p))\n",
    "    D_tt = np.linalg.cholesky(np.absolute(Sigma_tt, where=np.eye(p, dtype=bool)))\n",
    "    Yt1 = mu_tt + D_tt.dot(I_tt) #Y_{t+1} ~ p(Y_{t+1} | Y_t)\n",
    "    us[t+1] = fun(Yt1,(t+1)/N) #new observation (u_{t+1})\n",
    "\n",
    "    (mu_preds[t+1], Sigma_preds[t+1], mu_currs[t+1], Sigma_currs[t+1]) = (\n",
    "        kalman_filter(mu_curr = mu_currs[t],\n",
    "                    Sigma_curr = Sigma_currs[t],\n",
    "                    u_star = us[t+1],\n",
    "                    A = A,\n",
    "                    b = b,\n",
    "                    V = V,\n",
    "                    D = D,\n",
    "                    e = e,\n",
    "                    F = F[t+1]\n",
    "                    )\n",
    "    )\n",
    "    (predicted_state_means[t+1], predicted_state_covariances[t+1],\n",
    "         _, filtered_state_means[t+1],\n",
    "         filtered_state_covariances[t+1]) = (\n",
    "             filter_update_full(filtered_state_mean = filtered_state_means[t],\n",
    "                                filtered_state_covariance = filtered_state_covariances[t],\n",
    "                                observation = observations[t+1],\n",
    "                                transition_matrix = transition_matrix,\n",
    "                                transition_offset = transition_offset,\n",
    "                                transition_covariance = transition_covariance,\n",
    "                                observation_matrix = observation_matrix,\n",
    "                                observation_offset = observation_offset,\n",
    "                                observation_covariance = observation_covariances[t+1])\n",
    "         )\n",
    "# backward pass\n",
    "(htt,Wtt, Y_tt, mu_smooth, Sigma_smooth) = (\n",
    "    kalman_smooth(\n",
    "        A = A, \n",
    "        mu_currs = mu_currs,\n",
    "        Sigma_currs = Sigma_currs, \n",
    "        mu_preds = mu_preds,\n",
    "        Sigma_preds = Sigma_preds\n",
    "    )\n",
    ")\n",
    "# backward pass\n",
    "(smoothed_state_means, smoothed_state_covariances, _) = (\n",
    "    pks._smooth(\n",
    "        transition_matrix, filtered_state_means,\n",
    "        filtered_state_covariances, predicted_state_means,\n",
    "        predicted_state_covariances\n",
    "    )\n",
    ")\n",
    "\n",
    "Yn_mean = mu_smooth\n",
    "Yn_var = Sigma_smooth\n",
    "\n",
    "Yn_pykalman_mean = smoothed_state_means\n",
    "Yn_pykalman_var = smoothed_state_covariances"
   ]
  },
  {
   "cell_type": "code",
   "execution_count": 10,
   "metadata": {},
   "outputs": [
    {
     "name": "stdout",
     "output_type": "stream",
     "text": [
      "Means are equal:True\n",
      "Covariances are equal:True\n"
     ]
    }
   ],
   "source": [
    "print(\"Means are equal:{}\".format(np.allclose(Yn_mean, Yn_pykalman_mean)))\n",
    "print(\"Covariances are equal:{}\".format(np.allclose(Yn_var, Yn_pykalman_var)))"
   ]
  },
  {
   "cell_type": "markdown",
   "metadata": {},
   "source": [
    "# MVGSS"
   ]
  },
  {
   "cell_type": "markdown",
   "metadata": {},
   "source": [
    "To differentiate the notation used in the general model and the state-space model. I will use double letter for the general model. For example, we have\n",
    "\n",
    "$AA_n =\\begin{bmatrix} A_n & 0 \\\\ D_nA_n & 0 \\end{bmatrix}$, \n",
    "$bb_n = \\begin{bmatrix} b_n \\\\ D_nb_n + e_n \\end{bmatrix}$, and \n",
    "$CC_n = \\begin{bmatrix} C_n & 0 \\\\ D_nC_n & F_n \\end{bmatrix}$.\n",
    "\n",
    "We also have \n",
    "\n",
    "$bb_0 = \\begin{bmatrix} b_0 \\\\ D_0b_0 \\end{bmatrix}$ and \n",
    "$CC_0 = \\begin{bmatrix} C_0 & 0 \\\\ D_0C_0 & F_0 \\end{bmatrix}$\n",
    "\n",
    "where \n",
    "\n",
    "$A_n = A$, $b_0 = \\lambda$, $b_n = \\lambda - A \\lambda$, $D_n = a_\\star'$, $e_n = 0$, $F_0 = 0$ and $F_n^2 = \\sigma_n^2 = a_\\star'\\Sigma_{n|n-1}a_\\star$."
   ]
  },
  {
   "cell_type": "code",
   "execution_count": 11,
   "metadata": {},
   "outputs": [],
   "source": [
    "def ss2gss(AA, bb, CC, DD, ee, FF):\n",
    "    p = bb.shape[0]\n",
    "    len_y = bb.shape[0] + ee.shape[0]\n",
    "    N = ee.shape[1] - 1\n",
    "    \n",
    "    Aa = np.zeros((len_y, len_y, N+1))\n",
    "    bB = np.zeros((len_y, N+1))\n",
    "    Cc = np.zeros((len_y, len_y, N+1))\n",
    "    for i in range(N+1):\n",
    "        #Aa\n",
    "        Aan = np.zeros((len_y, len_y))\n",
    "        Aan[0:p,0:p] = AA[:,:,i]\n",
    "        Aan[p,0:p] = DD[:,i].dot(AA[:,:,i])\n",
    "        Aa[:,:,i] = Aan\n",
    "        \n",
    "        #bB\n",
    "        bBn = np.zeros(len_y)\n",
    "        bBn[0:p] = bb[:,i]\n",
    "        bBn[p] = DD[:,i].dot(bb[:,i]) + ee[:,i]\n",
    "        bB[:,i]  = bBn\n",
    "        \n",
    "        #Cc\n",
    "        Ccn = np.zeros((len_y, len_y))\n",
    "        Ccn[0:p,0:p] = CC[:,:,i]\n",
    "        Ccn[p,0:p] = DD[:,i].dot(CC[:,:,i])\n",
    "        Ccn[p,p] = FF[:,i]\n",
    "        Cc[:,:,i] = Ccn\n",
    "        \n",
    "    Aa[:,:,0] = np.nan\n",
    "    return Aa, bB, Cc\n"
   ]
  },
  {
   "cell_type": "code",
   "execution_count": 12,
   "metadata": {},
   "outputs": [],
   "source": [
    "C = np.linalg.cholesky(V)\n",
    "D = np.pad(a, (0, p-q-1), 'constant', constant_values=(0,0)) #a_star\n",
    "\n",
    "AA = np.dstack([A]*(N+1))\n",
    "bb = np.repeat(b[:,np.newaxis],N+1,axis=1)\n",
    "CC = np.dstack([C]*(N+1))\n",
    "DD = np.repeat(D[:,np.newaxis],N+1,axis=1)\n",
    "ee = np.zeros((1, N+1))\n",
    "FF = np.zeros((1, N+1))\n",
    "\n",
    "AA[:,:,0] = np.nan\n",
    "bb[:,0] = Y0\n",
    "V_inf = cov_car([], roots, sigma, v_infinity=True) \n",
    "#CC[:,:,0] = np.linalg.cholesky(V_inf)\n",
    "CC[:,:,0] = np.zeros((CC.shape[0], CC.shape[0]))\n",
    "\n",
    "for i in range(N+1):\n",
    "    FF[:,i] = np.sqrt(np.linalg.multi_dot([D.T, Sigma_preds[i], D]))\n"
   ]
  },
  {
   "cell_type": "code",
   "execution_count": 13,
   "metadata": {},
   "outputs": [],
   "source": [
    "def mvGSS(AA, bb, CC):\n",
    "    d,veclen = bb.shape\n",
    "    N = veclen-1\n",
    "    D = d*N + d\n",
    "    An_m = np.zeros((d,d,N+1,N+1))\n",
    "    for n in range(N+1):\n",
    "        for m in range(N+1):\n",
    "            if m>n:\n",
    "                An_m[:,:,n,m] = np.eye(d)\n",
    "            elif n==m:\n",
    "                An_m[:,:,n,m] = AA[:,:,n]\n",
    "            else:\n",
    "                diff = n-m\n",
    "                A_diff = AA[:,:,m]\n",
    "                for i in range(diff):\n",
    "                    A_diff = np.matmul(AA[:,:,m+i+1],A_diff)\n",
    "                An_m[:,:,n,m] = A_diff\n",
    "    L = np.zeros((D,D))\n",
    "    mean_Y = np.zeros(D)\n",
    "    for n in range(N+1):\n",
    "        for m in range(n,N+1):\n",
    "            if n == N:\n",
    "                L[m*d:m*d+d,n*d:n*d+d] = np.matmul(np.eye(d), CC[:,:,n])\n",
    "            else:\n",
    "                L[m*d:m*d+d,n*d:n*d+d] = np.matmul(An_m[:,:,m,n+1], CC[:,:,n])\n",
    "        for l in range(n):\n",
    "            mean_Y[n*d:n*d+d] = mean_Y[n*d:n*d+d] + An_m[:,:,n,l+1].dot(bb[:,l])\n",
    "    LL = L.dot(L.T)\n",
    "    var_Y = LL\n",
    "    return An_m, L, mean_Y, var_Y"
   ]
  },
  {
   "cell_type": "code",
   "execution_count": 14,
   "metadata": {},
   "outputs": [],
   "source": [
    "Aa, bB, Cc = ss2gss(AA,bb,CC,DD,ee,FF)"
   ]
  },
  {
   "cell_type": "code",
   "execution_count": 15,
   "metadata": {},
   "outputs": [],
   "source": [
    "An_m, L, mean_Y, var_Y = mvGSS(Aa,bB,Cc)"
   ]
  },
  {
   "cell_type": "code",
   "execution_count": 16,
   "metadata": {},
   "outputs": [
    {
     "data": {
      "text/plain": [
       "True"
      ]
     },
     "execution_count": 16,
     "metadata": {},
     "output_type": "execute_result"
    }
   ],
   "source": [
    "#Check Y_0\n",
    "var_YY_0 = np.matmul(Cc[:,:,0], Cc[:,:,0].T)\n",
    "np.allclose(var_Y[0:5, 0:5],var_YY_0)"
   ]
  },
  {
   "cell_type": "code",
   "execution_count": 17,
   "metadata": {},
   "outputs": [
    {
     "data": {
      "text/plain": [
       "True"
      ]
     },
     "execution_count": 17,
     "metadata": {},
     "output_type": "execute_result"
    }
   ],
   "source": [
    "#Check Y_1\n",
    "var_YY_1 = np.linalg.multi_dot([Aa[:,:,1], var_YY_0, Aa[:,:,1].T]) + np.matmul(Cc[:,:,1],Cc[:,:,1].T)\n",
    "np.allclose(var_Y[5:10, 5:10],var_YY_1)"
   ]
  },
  {
   "cell_type": "code",
   "execution_count": 18,
   "metadata": {},
   "outputs": [
    {
     "data": {
      "text/plain": [
       "True"
      ]
     },
     "execution_count": 18,
     "metadata": {},
     "output_type": "execute_result"
    }
   ],
   "source": [
    "#Check Y_2\n",
    "var_YY_2 = np.linalg.multi_dot([Aa[:,:,2], var_YY_1, Aa[:,:,2].T]) + np.matmul(Cc[:,:,2],Cc[:,:,2].T)\n",
    "np.allclose(var_Y[10:15, 10:15],var_YY_2)"
   ]
  },
  {
   "cell_type": "markdown",
   "metadata": {},
   "source": [
    "### Kalman Filter Sanity Check"
   ]
  },
  {
   "cell_type": "code",
   "execution_count": 19,
   "metadata": {},
   "outputs": [],
   "source": [
    "#Kalman Filter p(Z_2|X_{0:2})\n",
    "icond = np.array([False, False, False, False, True]*2 + [False, False, False, False, False]*(N-2))\n",
    "R,s,T = mvCond(mean_Y[5:], var_Y[5:,5:], icond)"
   ]
  },
  {
   "cell_type": "code",
   "execution_count": 20,
   "metadata": {},
   "outputs": [
    {
     "data": {
      "text/plain": [
       "True"
      ]
     },
     "execution_count": 20,
     "metadata": {},
     "output_type": "execute_result"
    }
   ],
   "source": [
    "np.allclose(R.dot(us[1:3]).flatten()[4:] + s[4:], mu_currs[2])"
   ]
  },
  {
   "cell_type": "code",
   "execution_count": 21,
   "metadata": {},
   "outputs": [
    {
     "data": {
      "text/plain": [
       "True"
      ]
     },
     "execution_count": 21,
     "metadata": {},
     "output_type": "execute_result"
    }
   ],
   "source": [
    "np.allclose(Sigma_currs[2], T[4:8,4:8])"
   ]
  },
  {
   "cell_type": "markdown",
   "metadata": {},
   "source": [
    "### Kalman Smoothing Sampler"
   ]
  },
  {
   "cell_type": "code",
   "execution_count": 22,
   "metadata": {},
   "outputs": [],
   "source": [
    "#Kalman Filter p(Z_1|X_{0:2}, Y_2)\n",
    "icond = np.array([False, False, False, False, True] + [True, True, True, True, True])\n",
    "R,s,T = mvCond(mean_Y[5:], var_Y[5:,5:], icond)"
   ]
  },
  {
   "cell_type": "code",
   "execution_count": 23,
   "metadata": {},
   "outputs": [],
   "source": [
    "Smooth_obvs = np.append(np.append(us[1],Y_tt[2]),us[2])"
   ]
  },
  {
   "cell_type": "code",
   "execution_count": 24,
   "metadata": {},
   "outputs": [
    {
     "data": {
      "text/plain": [
       "True"
      ]
     },
     "execution_count": 24,
     "metadata": {},
     "output_type": "execute_result"
    }
   ],
   "source": [
    "np.allclose(htt[1], R.dot(Smooth_obvs).flatten() + s)"
   ]
  },
  {
   "cell_type": "code",
   "execution_count": 25,
   "metadata": {},
   "outputs": [
    {
     "data": {
      "text/plain": [
       "True"
      ]
     },
     "execution_count": 25,
     "metadata": {},
     "output_type": "execute_result"
    }
   ],
   "source": [
    "np.allclose(Wtt[1],T)"
   ]
  }
 ],
 "metadata": {
  "kernelspec": {
   "display_name": "Python 3",
   "language": "python",
   "name": "python3"
  }
 },
 "nbformat": 4,
 "nbformat_minor": 2
}
