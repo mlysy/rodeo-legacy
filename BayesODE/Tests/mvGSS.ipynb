{
 "cells": [
  {
   "cell_type": "code",
   "execution_count": 16,
   "metadata": {},
   "outputs": [],
   "source": [
    "import numpy as np\n",
    "from math import exp, sqrt\n",
    "import matplotlib.pyplot as plt\n",
    "import BayesODE as bo\n",
    "from BayesODE.Tests.root_gen import root_gen\n",
    "from BayesODE.utils import mvCond\n",
    "from BayesODE.kalman_initial_draw import kalman_initial_draw\n",
    "from BayesODE.kalman_ode_higher import kalman_ode_higher\n",
    "from BayesODE.higher_mvCond import higher_mvCond\n",
    "from BayesODE.Tests.test_exp_integrate import cov_yy_ex\n",
    "from BayesODE.cov_car import cov_car\n",
    "from BayesODE.kalman_filter import kalman_filter\n",
    "from BayesODE.kalman_smooth import kalman_smooth\n",
    "from BayesODE.filter_update_full import filter_update_full\n",
    "from pykalman import standard as pks\n",
    "import scipy as sc"
   ]
  },
  {
   "cell_type": "code",
   "execution_count": null,
   "metadata": {},
   "outputs": [],
   "source": [
    "from math import sin, cos\n",
    "def chk_F(y_t, t):\n",
    "    return sin(2*t) - y_t[0] #X^{2} = sin(2t) - X\n",
    "\n",
    "def chk_exact_x(t):\n",
    "    return (-3*cos(t) + 2*sin(t) - sin(2*t))/3\n",
    "\n",
    "def chk_exact_x1(t):\n",
    "    return (-2*cos(2*t) + 3*sin(t) + 2*cos(t))/3\n",
    "\n",
    "def chk_exact_x2(t):\n",
    "    return (4*sin(2*t) - 2*sin(t) + 3*cos(t))/3\n"
   ]
  },
  {
   "cell_type": "markdown",
   "metadata": {},
   "source": [
    "# Test Against Pykalman"
   ]
  },
  {
   "cell_type": "code",
   "execution_count": 3,
   "metadata": {},
   "outputs": [],
   "source": [
    "#Define parameters\n",
    "N = 99\n",
    "q = 2\n",
    "p = q+2\n",
    "\n",
    "delta_t = np.array([1/N])\n",
    "r0 = 0.5\n",
    "sigma = 0.001\n",
    "roots = root_gen(r0, p) #Generate roots to draw x^{(3)}_0\n",
    "a = np.array([0,0,1])\n",
    "x0 = np.array([-1,0,0])\n",
    "x0 = np.array([-1,0,chk_F(x0, 0)]) #Initial state\n",
    "\n",
    "Y0 = kalman_initial_draw(roots, sigma, x0, p)\n",
    "A, V = higher_mvCond(delta_t, roots, sigma) \n",
    "lam = np.zeros(p)\n",
    "b = lam - A.dot(lam)\n",
    "fun = chk_F"
   ]
  },
  {
   "cell_type": "code",
   "execution_count": 4,
   "metadata": {},
   "outputs": [],
   "source": [
    "# notation consistent with pykalman package\n",
    "n_dim_obs = 1\n",
    "n_dim_state = len(Y0)\n",
    "n_timesteps = N+1\n",
    "\n",
    "# allocate memory\n",
    "us = np.zeros((n_timesteps,n_dim_obs)) \n",
    "\n",
    "# var(us_n | y_n), to be determined during the interrogation process\n",
    "sig2 = np.zeros((n_timesteps, n_dim_obs, n_dim_obs))\n",
    "\n",
    "# solution process\n",
    "# forward mean and variance.\n",
    "mu = np.zeros((n_timesteps, n_dim_state)) # E[y_n | us_0:n]\n",
    "# var(y_n | us_0:n)\n",
    "Sigma = np.zeros((n_timesteps, n_dim_state, n_dim_state))\n",
    "\n",
    "#a padde with 0s\n",
    "p = len(b)\n",
    "q = len(a) - 1\n",
    "a_star = np.pad(a, (0, p-q-1), 'constant', constant_values=(0,0))\n",
    "\n",
    "# argumgents for kalman_filter and kalman_smooth\n",
    "D = np.array([a_star])\n",
    "e = np.array([0.])\n",
    "F = sig2\n",
    "mu_currs = mu\n",
    "Sigma_currs = Sigma\n",
    "mu_preds = np.zeros((n_timesteps, n_dim_state))\n",
    "Sigma_preds = np.zeros((n_timesteps, n_dim_state, n_dim_state))\n",
    "\n",
    "# arguments to use low-level pykalman functions\n",
    "observations = us\n",
    "observation_matrix = np.array([a_star])\n",
    "observation_offset = np.array([0.])\n",
    "observation_covariances = sig2 # multidimensional\n",
    "transition_matrix = A\n",
    "transition_offset = b\n",
    "transition_covariance = V # single dimensional\n",
    "filtered_state_means = mu\n",
    "filtered_state_covariances = Sigma\n",
    "predicted_state_means = np.zeros((n_timesteps, n_dim_state))\n",
    "predicted_state_covariances = np.zeros((n_timesteps, n_dim_state, n_dim_state))\n",
    "\n",
    "# initialize things\n",
    "mu[0] = Y0\n",
    "us[0] = Y0.dot(a_star)\n",
    "mu_preds[0] = predicted_state_means[0] = mu[0]\n",
    "Sigma_preds[0] = predicted_state_covariances[0] = Sigma[0]\n",
    "\n",
    "# forward pass: merging pks._filter to accommodate multiple\n",
    "# observation_covariances\n",
    "# calculate mu_tt = E[y_t | us_0:t-1] and\n",
    "# Sigma_tt = var(y_t | us_0:t-1)\n",
    "\n",
    "for t in range(N):\n",
    "    mu_tt = np.dot(A, mu[t]) + b\n",
    "    Sigma_tt = np.linalg.multi_dot([A, Sigma[t], A.T]) + V #A*Sigma[t]*A.T + V \n",
    "    sig2[t+1] = np.linalg.multi_dot([a_star, Sigma_tt, a_star.T]) # new observation_covariance\n",
    "    I_tt = np.random.multivariate_normal(np.zeros(p), np.eye(p))\n",
    "    D_tt = np.linalg.cholesky(np.absolute(Sigma_tt, where=np.eye(p, dtype=bool)))\n",
    "    Yt1 = mu_tt + D_tt.dot(I_tt) #Y_{t+1} ~ p(Y_{t+1} | Y_t)\n",
    "    us[t+1] = fun(Yt1,(t+1)/N) #new observation (u_{t+1})\n",
    "    (mu_preds[t+1], Sigma_preds[t+1], mu_currs[t+1], Sigma_currs[t+1]) = (\n",
    "        kalman_filter(mu_curr = mu_currs[t],\n",
    "                    Sigma_curr = Sigma_currs[t],\n",
    "                    u_star = us[t+1],\n",
    "                    A = A,\n",
    "                    b = b,\n",
    "                    V = V,\n",
    "                    D = D,\n",
    "                    e = e,\n",
    "                    F = F[t+1]\n",
    "                    )\n",
    "    )\n",
    "    (predicted_state_means[t+1], predicted_state_covariances[t+1],\n",
    "         _, filtered_state_means[t+1],\n",
    "         filtered_state_covariances[t+1]) = (\n",
    "             filter_update_full(filtered_state_mean = filtered_state_means[t],\n",
    "                                filtered_state_covariance = filtered_state_covariances[t],\n",
    "                                observation = observations[t+1],\n",
    "                                transition_matrix = transition_matrix,\n",
    "                                transition_offset = transition_offset,\n",
    "                                transition_covariance = transition_covariance,\n",
    "                                observation_matrix = observation_matrix,\n",
    "                                observation_offset = observation_offset,\n",
    "                                observation_covariance = observation_covariances[t+1])\n",
    "         )\n",
    " # backward pass\n",
    "(Y_tt, mu_smooth, Sigma_smooth) = (\n",
    "    kalman_smooth(\n",
    "        A = A, \n",
    "        mu_currs = mu_currs,\n",
    "        Sigma_currs = Sigma_currs, \n",
    "        mu_preds = mu_preds,\n",
    "        Sigma_preds = Sigma_preds\n",
    "    )\n",
    ")\n",
    "# backward pass\n",
    "(smoothed_state_means, smoothed_state_covariances, _) = (\n",
    "    pks._smooth(\n",
    "        transition_matrix, filtered_state_means,\n",
    "        filtered_state_covariances, predicted_state_means,\n",
    "        predicted_state_covariances\n",
    "    )\n",
    ")\n",
    "\n",
    "Yn_mean = mu_smooth\n",
    "Yn_var = Sigma_smooth\n",
    "\n",
    "Yn_pykalman_mean = smoothed_state_means\n",
    "Yn_pykalman_var = smoothed_state_covariances"
   ]
  },
  {
   "cell_type": "code",
   "execution_count": 5,
   "metadata": {},
   "outputs": [
    {
     "name": "stdout",
     "output_type": "stream",
     "text": [
      "Means are equal:True\n",
      "Covariances are equal:True\n"
     ]
    }
   ],
   "source": [
    "print(\"Means are equal:{}\".format(np.allclose(Yn_mean, Yn_pykalman_mean)))\n",
    "print(\"Covariances are equal:{}\".format(np.allclose(Yn_var, Yn_pykalman_var)))"
   ]
  },
  {
   "cell_type": "markdown",
   "metadata": {},
   "source": [
    "# MVGSS"
   ]
  },
  {
   "cell_type": "markdown",
   "metadata": {},
   "source": [
    "To differentiate the notation used in the general model and the state-space model. I will use double letter for the general model. For example, we have\n",
    "\n",
    "$AA_n =\\begin{bmatrix} A_n & 0 \\\\ D_nA_n & 0 \\end{bmatrix}$, \n",
    "$bb_n = \\begin{bmatrix} b_n \\\\ D_nb_n + e_n \\end{bmatrix}$, and \n",
    "$CC_n = \\begin{bmatrix} C_n & 0 \\\\ D_nC_n & F_n \\end{bmatrix}$.\n",
    "\n",
    "We also have \n",
    "\n",
    "$bb_0 = \\begin{bmatrix} b_0 \\\\ D_0b_0 \\end{bmatrix}$ and \n",
    "$CC_0 = \\begin{bmatrix} C_0 & 0 \\\\ D_0C_0 & F_0 \\end{bmatrix}$\n",
    "\n",
    "where \n",
    "\n",
    "$A_n = A$, $b_0 = \\lambda$, $b_n = \\lambda - A \\lambda$, $D_n = a_\\star'$, $e_n = 0$, $F_0 = 0$ and $F_n^2 = \\sigma_n^2 = a_\\star'\\Sigma_{n|n-1}a_\\star$."
   ]
  },
  {
   "cell_type": "code",
   "execution_count": 7,
   "metadata": {},
   "outputs": [],
   "source": [
    "N = 3\n",
    "tseq = np.linspace(0,1,N)\n",
    "XX = np.zeros(N)\n",
    "for t in range(N):\n",
    "    XX[t] = chk_exact_x2(tseq[t])\n",
    "    "
   ]
  },
  {
   "cell_type": "code",
   "execution_count": 8,
   "metadata": {},
   "outputs": [],
   "source": [
    "N = 2\n",
    "q = 2\n",
    "p = q+2\n",
    "delta_t = np.array([1/N])\n",
    "r0 = 0.5\n",
    "sigma = 0.001\n",
    "roots = root_gen(r0, p) #Generate roots to draw x^{(3)}_0\n",
    "a = np.array([0,0,1])\n",
    "Z0 = np.array([-1,0,0])\n",
    "Z0 = np.array([-1,0,chk_F(x0, 0)]) #Initial state\n",
    "\n",
    "Y0 = kalman_initial_draw(roots, sigma, x0, p)\n",
    "A, V = higher_mvCond(delta_t, roots, sigma)\n",
    "lam = np.zeros(p)\n",
    "b = lam - A.dot(lam)\n",
    "\n",
    "Yn_chk_mean, Yn_chk_var, sigma_preds = kalman_ode_higher(chk_F, Y0, N, A, b, V, a, True)"
   ]
  },
  {
   "cell_type": "code",
   "execution_count": 9,
   "metadata": {},
   "outputs": [],
   "source": [
    "a_star = np.pad(a, (0, p-q-1), 'constant', constant_values=(0,0)) #D_n\n",
    "e0 = 0\n",
    "F0 = 0\n",
    "\n",
    "#bb0, CC0\n",
    "bb0 = np.append(lam, np.array(a_star.dot(lam))) \n",
    "V_inf = cov_car([], roots, sigma, v_infinity=True) \n",
    "C = np.linalg.cholesky(V_inf)\n",
    "CC0 = np.zeros((p+1, p+1))\n",
    "CC0[0:p,0:p] = C\n",
    "CC0[p,0:p] = a_star.dot(C)\n",
    "\n",
    "#AA, bb, CC\n",
    "AAn = np.zeros((p+1,p+1))\n",
    "AAn[0:p,0:p] = A\n",
    "AAn[p,0:p] = a_star.dot(A)\n",
    "AA = np.dstack([AAn]*(N+1))\n",
    "AA[:,:,0] = np.nan\n",
    "bbn = np.append(b, a_star.dot(b)) \n",
    "bb = np.repeat(bbn[:,np.newaxis],N+1,axis=1)\n",
    "bb[:,0] = bb0\n",
    "CC = np.zeros((p+1, p+1, N+1))\n",
    "CC[:,:,0] = CC0\n",
    "\n",
    "for i in range(1,N+1):\n",
    "    CCn = np.zeros((p+1, p+1))\n",
    "    Cn = np.linalg.cholesky(V)\n",
    "    CCn[0:p,0:p] = Cn\n",
    "    CCn[p,0:p] = a_star.dot(Cn)\n",
    "    CCn[p,p] = np.sqrt(np.linalg.multi_dot([a_star, sigma_preds[i], a_star]))\n",
    "    CC[:,:,i] = CCn\n"
   ]
  },
  {
   "cell_type": "code",
   "execution_count": 10,
   "metadata": {},
   "outputs": [
    {
     "data": {
      "text/plain": [
       "array([[ 0.98918226,  0.46415456,  0.09019494,  0.00682349,  0.        ],\n",
       "       [-0.06852673,  0.77006529,  0.26983804,  0.02640423,  0.        ],\n",
       "       [-0.26517159, -0.91642356,  0.01813653,  0.02299301,  0.        ],\n",
       "       [-0.23091345, -1.00352665, -1.57120889, -0.19681802,  0.        ],\n",
       "       [-0.26517159, -0.91642356,  0.01813653,  0.02299301,  0.        ]])"
      ]
     },
     "execution_count": 10,
     "metadata": {},
     "output_type": "execute_result"
    }
   ],
   "source": [
    "AA[:,:,1]"
   ]
  },
  {
   "cell_type": "code",
   "execution_count": 11,
   "metadata": {},
   "outputs": [
    {
     "data": {
      "text/plain": [
       "array([[ 4.18968686e-05,  0.00000000e+00,  0.00000000e+00,\n",
       "         0.00000000e+00,  0.00000000e+00],\n",
       "       [-6.71270712e-19,  2.65318878e-05,  0.00000000e+00,\n",
       "         0.00000000e+00,  0.00000000e+00],\n",
       "       [-1.68017585e-05, -5.41338888e-18,  4.62135610e-05,\n",
       "         0.00000000e+00,  0.00000000e+00],\n",
       "       [-3.83019171e-18, -9.11353286e-05, -2.49553366e-17,\n",
       "         2.31264820e-04,  0.00000000e+00],\n",
       "       [-1.68017585e-05, -5.41338888e-18,  4.62135610e-05,\n",
       "         0.00000000e+00,  0.00000000e+00]])"
      ]
     },
     "execution_count": 11,
     "metadata": {},
     "output_type": "execute_result"
    }
   ],
   "source": [
    "CC[:,:,0]"
   ]
  },
  {
   "cell_type": "code",
   "execution_count": 12,
   "metadata": {},
   "outputs": [],
   "source": [
    "def mvGSS(AA, bb, CC):\n",
    "    d,veclen = bb.shape\n",
    "    N = veclen-1\n",
    "    D = d*N + d\n",
    "    An_m = np.zeros((d,d,N+1,N+1))\n",
    "    for n in range(N+1):\n",
    "        for m in range(N+1):\n",
    "            if m>n:\n",
    "                An_m[:,:,n,m] = np.eye(d)\n",
    "            elif n==m:\n",
    "                An_m[:,:,n,m] = AA[:,:,n]\n",
    "            else:\n",
    "                diff = n-m\n",
    "                A_diff = AA[:,:,m]\n",
    "                for i in range(diff):\n",
    "                    A_diff = np.matmul(AA[:,:,m+i+1],A_diff)\n",
    "                An_m[:,:,n,m] = A_diff\n",
    "    L = np.zeros((D,D))\n",
    "    mean_Y = np.zeros(D)\n",
    "    for n in range(N+1):\n",
    "        for m in range(n,N+1):\n",
    "            if n == N:\n",
    "                L[m*d:m*d+d,n*d:n*d+d] = np.matmul(np.eye(d), CC[:,:,n])\n",
    "            else:\n",
    "                L[m*d:m*d+d,n*d:n*d+d] = np.matmul(An_m[:,:,m,n+1], CC[:,:,n])\n",
    "        for l in range(n):\n",
    "            mean_Y[n*d:n*d+d] = mean_Y[n*d:n*d+d] + An_m[:,:,n,l+1].dot(bb[:,l])\n",
    "    LL = np.matmul(L,L.T)\n",
    "    var_Y = LL\n",
    "    return An_m, mean_Y, var_Y"
   ]
  },
  {
   "cell_type": "code",
   "execution_count": 13,
   "metadata": {},
   "outputs": [],
   "source": [
    "An_m, mean_Y, var_Y = mvGSS(AA,bb,CC)"
   ]
  },
  {
   "cell_type": "code",
   "execution_count": 14,
   "metadata": {},
   "outputs": [
    {
     "data": {
      "text/plain": [
       "array([[[ 0.00000000e+00,  0.00000000e+00,  0.00000000e+00,\n",
       "          0.00000000e+00],\n",
       "        [ 0.00000000e+00,  0.00000000e+00,  0.00000000e+00,\n",
       "          0.00000000e+00],\n",
       "        [ 0.00000000e+00,  0.00000000e+00,  0.00000000e+00,\n",
       "          0.00000000e+00],\n",
       "        [ 0.00000000e+00,  0.00000000e+00,  0.00000000e+00,\n",
       "          0.00000000e+00]],\n",
       "\n",
       "       [[ 3.59994777e-12,  1.71577000e-11,  2.34454218e-11,\n",
       "         -1.82105683e-10],\n",
       "        [ 1.71577000e-11,  8.90402979e-11,  1.69561843e-10,\n",
       "         -9.13769494e-10],\n",
       "        [ 2.34454218e-11,  1.69561843e-10,  7.74145113e-10,\n",
       "          2.27709711e-10],\n",
       "        [-1.82105683e-10, -9.13769494e-10,  2.27709711e-10,\n",
       "          5.26572958e-08]],\n",
       "\n",
       "       [[ 6.34214785e-11,  1.18226978e-10, -1.07113858e-11,\n",
       "         -4.87384266e-10],\n",
       "        [ 1.18226978e-10,  2.89544479e-10,  1.42005142e-10,\n",
       "         -1.75011815e-09],\n",
       "        [-1.07113858e-11,  1.42005142e-10,  8.57309816e-10,\n",
       "          8.99686195e-11],\n",
       "        [-4.87384266e-10, -1.75011815e-09,  8.99686195e-11,\n",
       "          5.84461114e-08]]])"
      ]
     },
     "execution_count": 14,
     "metadata": {},
     "output_type": "execute_result"
    }
   ],
   "source": [
    "Yn_chk_var"
   ]
  },
  {
   "cell_type": "code",
   "execution_count": 15,
   "metadata": {},
   "outputs": [],
   "source": [
    "icond = np.array([False, False, False, False, True]*(N+1))\n",
    "R,s,T = mvCond(mean_Y, var_Y, icond)"
   ]
  },
  {
   "cell_type": "code",
   "execution_count": 17,
   "metadata": {},
   "outputs": [
    {
     "data": {
      "text/plain": [
       "array([0., 0., 0.])"
      ]
     },
     "execution_count": 17,
     "metadata": {},
     "output_type": "execute_result"
    }
   ],
   "source": [
    "mean_Y[icond]"
   ]
  },
  {
   "cell_type": "code",
   "execution_count": 18,
   "metadata": {},
   "outputs": [
    {
     "data": {
      "text/plain": [
       "array([[-1.00000000e+00,  0.00000000e+00,  1.00000000e+00,\n",
       "        -1.56166971e-04],\n",
       "       [-8.86826849e-01,  4.47118914e-01,  9.38149364e-01,\n",
       "        -1.28766806e-01],\n",
       "       [-5.61839301e-01,  8.27331702e-01,  6.12046028e-01,\n",
       "        -1.56179179e+00]])"
      ]
     },
     "execution_count": 18,
     "metadata": {},
     "output_type": "execute_result"
    }
   ],
   "source": [
    "Yn_chk_mean"
   ]
  },
  {
   "cell_type": "code",
   "execution_count": 19,
   "metadata": {},
   "outputs": [
    {
     "data": {
      "text/plain": [
       "array([-0.55420287, -0.44324814,  1.        ,  1.44794256, -0.64421652,\n",
       "        0.08842505,  1.0925614 , -0.45892123, -0.48453198,  0.51120902,\n",
       "        0.61980702, -1.47812653])"
      ]
     },
     "execution_count": 19,
     "metadata": {},
     "output_type": "execute_result"
    }
   ],
   "source": [
    "R.dot(XX)"
   ]
  },
  {
   "cell_type": "code",
   "execution_count": 20,
   "metadata": {},
   "outputs": [
    {
     "data": {
      "text/plain": [
       "(15,)"
      ]
     },
     "execution_count": 20,
     "metadata": {},
     "output_type": "execute_result"
    }
   ],
   "source": [
    "mean_Y.shape"
   ]
  },
  {
   "cell_type": "code",
   "execution_count": 21,
   "metadata": {},
   "outputs": [
    {
     "data": {
      "text/plain": [
       "array([[-3.00045374e-01, -9.84891492e-02, -7.44328036e-02],\n",
       "       [-1.42207202e-02, -1.68142363e-01, -1.22982550e-01],\n",
       "       [ 1.00000000e+00,  1.61985982e-17, -2.90598591e-17],\n",
       "       [-8.91897693e-02,  9.19429422e-01, -6.24463389e-03],\n",
       "       [-2.16875225e-01, -1.56333284e-01, -1.38214568e-01],\n",
       "       [ 2.58011532e-01, -7.29905810e-03, -1.32014931e-01],\n",
       "       [ 4.48386891e-02,  6.03400401e-01,  2.85756939e-02],\n",
       "       [-1.33906590e+00,  3.78817169e-02,  6.85150352e-01],\n",
       "       [-9.67557796e-02, -1.04240142e-01, -1.78448548e-01],\n",
       "       [ 2.12520754e-01,  1.62532523e-01,  2.15197783e-02],\n",
       "       [-1.09348214e-01,  3.13830819e-02,  5.67612331e-01],\n",
       "       [ 1.11729428e-03, -9.16937882e-01,  5.13080524e-02]])"
      ]
     },
     "execution_count": 21,
     "metadata": {},
     "output_type": "execute_result"
    }
   ],
   "source": [
    "R"
   ]
  }
 ],
 "metadata": {
  "kernelspec": {
   "display_name": "Python 3",
   "language": "python",
   "name": "python3"
  },
  "language_info": {
   "codemirror_mode": {
    "name": "ipython",
    "version": 3
   },
   "file_extension": ".py",
   "mimetype": "text/x-python",
   "name": "python",
   "nbconvert_exporter": "python",
   "pygments_lexer": "ipython3",
   "version": "3.7.3"
  }
 },
 "nbformat": 4,
 "nbformat_minor": 2
}
