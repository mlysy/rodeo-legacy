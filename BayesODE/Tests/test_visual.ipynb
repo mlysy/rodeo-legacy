{
 "cells": [
  {
   "cell_type": "markdown",
   "metadata": {},
   "source": [
    "# Visual Covariance Test\n",
    "\n",
    "$$\n",
    "% latex macros.  this does not work when converting to latex.\n",
    "\\newcommand{\\bm}[1]{\\boldsymbol{#1}}\n",
    "\\DeclareMathOperator{\\cov}{cov}\n",
    "\\DeclareMathOperator{\\diag}{diag}\n",
    "\\newcommand{\\ud}{\\mathrm{d}}\n",
    "\\newcommand{\\XX}{{\\bm X}}\n",
    "\\newcommand{\\VV}{{\\bm V}}\n",
    "\\newcommand{\\N}{\\mathcal{N}}\n",
    "\\newcommand{\\mmu}{{\\bm \\mu}}\n",
    "\\newcommand{\\SSi}{{\\bm \\Sigma}}\n",
    "\\newcommand{\\ssi}{{\\bm \\sigma}}\n",
    "$$\n",
    "\n",
    "Pick a covariance type. Then for $x_t$ and $v_t = \\ud x_t/\\ud t$, visually check that\n",
    "$$\n",
    "\\begin{aligned}\n",
    "\\cov(x_t, v_s) & = \\int_0^t \\cov(v_u, v_s) \\, \\ud u \\\\\n",
    "\\cov(x_t, x_s) & = \\int_0^t\\int_0^s \\cov(v_u, v_w) \\, \\ud u\\, \\ud w\n",
    "\\end{aligned}\n",
    "$$\n",
    "by comparing analytic formula to numerical integration with `scipy.integrate.quad` and `scipy.integrate.dblquad`."
   ]
  },
  {
   "cell_type": "code",
   "execution_count": 1,
   "metadata": {},
   "outputs": [],
   "source": [
    "import matplotlib.pyplot as plt\n",
    "import numpy as np\n",
    "from numpy.random import uniform as runif\n",
    "from scipy import integrate\n",
    "import BayesODE as bo\n",
    "from BayesODE.Tests.ode_bayes_star import ode_bayes_star\n",
    "from BayesODE.Tests.test_exp_integrate import cov_yy_ex\n",
    "from BayesODE.utils import mvCond"
   ]
  },
  {
   "cell_type": "code",
   "execution_count": 3,
   "metadata": {},
   "outputs": [
    {
     "ename": "TypeError",
     "evalue": "not enough arguments: expected 4, got 3",
     "output_type": "error",
     "traceback": [
      "\u001b[1;31m---------------------------------------------------------------------------\u001b[0m",
      "\u001b[1;31mTypeError\u001b[0m                                 Traceback (most recent call last)",
      "\u001b[1;32m<ipython-input-3-aac011afa9ce>\u001b[0m in \u001b[0;36m<module>\u001b[1;34m\u001b[0m\n\u001b[0;32m     22\u001b[0m \u001b[0mav\u001b[0m \u001b[1;33m=\u001b[0m \u001b[0mnp\u001b[0m\u001b[1;33m.\u001b[0m\u001b[0mzeros\u001b[0m\u001b[1;33m(\u001b[0m\u001b[1;33m(\u001b[0m\u001b[0mnpts\u001b[0m\u001b[1;33m,\u001b[0m \u001b[1;36m1\u001b[0m\u001b[1;33m)\u001b[0m\u001b[1;33m)\u001b[0m\u001b[1;33m\u001b[0m\u001b[1;33m\u001b[0m\u001b[0m\n\u001b[0;32m     23\u001b[0m \u001b[1;32mfor\u001b[0m \u001b[0mii\u001b[0m \u001b[1;32min\u001b[0m \u001b[0mrange\u001b[0m\u001b[1;33m(\u001b[0m\u001b[1;36m0\u001b[0m\u001b[1;33m,\u001b[0m\u001b[0mnpts\u001b[0m\u001b[1;33m)\u001b[0m\u001b[1;33m:\u001b[0m\u001b[1;33m\u001b[0m\u001b[1;33m\u001b[0m\u001b[0m\n\u001b[1;32m---> 24\u001b[1;33m     \u001b[0mav\u001b[0m\u001b[1;33m[\u001b[0m\u001b[0mii\u001b[0m\u001b[1;33m]\u001b[0m \u001b[1;33m=\u001b[0m \u001b[0mcov_vv\u001b[0m\u001b[1;33m(\u001b[0m\u001b[1;36m0\u001b[0m\u001b[1;33m,\u001b[0m \u001b[0mtseq\u001b[0m\u001b[1;33m[\u001b[0m\u001b[0mii\u001b[0m\u001b[1;33m]\u001b[0m\u001b[1;33m,\u001b[0m \u001b[0mgamma\u001b[0m\u001b[1;33m)\u001b[0m\u001b[1;33m\u001b[0m\u001b[1;33m\u001b[0m\u001b[0m\n\u001b[0m\u001b[0;32m     25\u001b[0m \u001b[0mplt\u001b[0m\u001b[1;33m.\u001b[0m\u001b[0mrcParams\u001b[0m\u001b[1;33m[\u001b[0m\u001b[1;34m'figure.figsize'\u001b[0m\u001b[1;33m]\u001b[0m \u001b[1;33m=\u001b[0m \u001b[1;33m[\u001b[0m\u001b[1;36m10\u001b[0m\u001b[1;33m,\u001b[0m \u001b[1;36m6\u001b[0m\u001b[1;33m]\u001b[0m\u001b[1;33m\u001b[0m\u001b[1;33m\u001b[0m\u001b[0m\n\u001b[0;32m     26\u001b[0m \u001b[0mplt\u001b[0m\u001b[1;33m.\u001b[0m\u001b[0msubplot\u001b[0m\u001b[1;33m(\u001b[0m\u001b[1;36m3\u001b[0m\u001b[1;33m,\u001b[0m\u001b[1;36m2\u001b[0m\u001b[1;33m,\u001b[0m\u001b[1;33m(\u001b[0m\u001b[1;36m1\u001b[0m\u001b[1;33m,\u001b[0m\u001b[1;36m2\u001b[0m\u001b[1;33m)\u001b[0m\u001b[1;33m)\u001b[0m\u001b[1;33m\u001b[0m\u001b[1;33m\u001b[0m\u001b[0m\n",
      "\u001b[1;31mTypeError\u001b[0m: not enough arguments: expected 4, got 3"
     ]
    }
   ],
   "source": [
    "npts = 50\n",
    "# pick covariance type\n",
    "type = \"ex\"\n",
    "if type == \"se\":\n",
    "    cov_vv = bo.cov_vv_se\n",
    "    cov_xv = bo.cov_xv_se\n",
    "    cov_xx = bo.cov_xx_se\n",
    "elif type == \"ex\":\n",
    "    cov_vv = bo.cov_vv_ex\n",
    "    cov_xv = bo.cov_xv_ex\n",
    "    cov_xx = bo.cov_xx_ex\n",
    "elif type == \"re\":\n",
    "    cov_vv = bo.cov_vv_re\n",
    "    cov_xv = bo.cov_xv_re\n",
    "    cov_xx = bo.cov_xx_re\n",
    "else:\n",
    "    raise ValueError(\"Invalid covariance type.\")\n",
    "# plot cov_vv\n",
    "tmax = runif(low = 0, high = 10, size = 1)\n",
    "gamma = runif(0, tmax/10, 1)\n",
    "tseq = np.linspace(start = 0, stop = tmax, num = npts)\n",
    "av = np.zeros((npts, 1))\n",
    "for ii in range(0,npts):\n",
    "    av[ii] = cov_vv(0, tseq[ii], gamma)\n",
    "plt.rcParams['figure.figsize'] = [10, 6]\n",
    "plt.subplot(3,2,(1,2))\n",
    "plt.plot(tseq,av)\n",
    "# integrate once and compare to analytic solution\n",
    "t = runif(0, tmax, 1) # first time point\n",
    "s = runif(0, tmax, 1) # second time point\n",
    "tseq = np.linspace(start = 0, stop = tmax, num = npts)\n",
    "xv_an = np.zeros((npts,1)) # analytic solution\n",
    "xv_nu = xv_an # numeric solution\n",
    "for ii in range(0,npts):\n",
    "    xv_an[ii] = cov_xv(tseq[ii], s, gamma)\n",
    "    xv_nu[ii],err = integrate.quad(cov_vv, 0, tseq[ii], args=(s,gamma))\n",
    "plt.subplot(3,2,3)\n",
    "plt.plot(tseq,xv_an,'r',tseq,xv_nu,'b')\n",
    "plt.subplot(3,2,4)\n",
    "plt.plot(tseq,abs(xv_an-xv_nu))\n",
    "# integrate twice and compare to analytic solution\n",
    "xx_an = np.zeros((npts,1)) # analytic solution\n",
    "xx_nu = xx_an # numeric solution\n",
    "for ii in range(0,npts):\n",
    "    xx_an[ii] = cov_xx(tseq[ii], s, gamma)\n",
    "    xx_nu[ii],err = integrate.dblquad(cov_vv, 0, tseq[ii], 0, s, args = (gamma))\n",
    "plt.subplot(3,2,5)\n",
    "plt.plot(tseq,xx_an,'r',tseq,xx_nu,'b')\n",
    "plt.subplot(3,2,6)\n",
    "plt.plot(tseq,abs(xx_an-xx_nu))"
   ]
  },
  {
   "cell_type": "markdown",
   "metadata": {},
   "source": [
    "# Updating Algorithm Test\n",
    "\n",
    "Let $T = (t_1, \\ldots, t_N)$ denote the evaluation time points, and $\\XX$ and $\\VV$ denote vectors of length $N$ corresponding to $x(T)$ and $v(T)$.  The solution prior is then expressed as\n",
    "$$\n",
    "\\begin{bmatrix} \\XX \\\\ \\VV \\end{bmatrix} \\sim \\N\\left(\\begin{bmatrix} \\mmu_X \\\\ \\mmu_V \\end{bmatrix}, \\begin{bmatrix} \\SSi_{XX} & \\SSi_{XV} \\\\ \\SSi_{VX} & \\SSi_{VV} \\end{bmatrix} \\right).\n",
    "$$\n",
    "Now suppose that the $N$ model interrogations $\\VV_\\star$ and their predictive variances $\\ssi_\\star^2$ are given in advance.  Then joint distribution of $(\\XX, \\VV, \\VV_\\star)$ is\n",
    "$$\n",
    "\\begin{bmatrix} \\XX \\\\ \\VV \\\\ \\VV_\\star \\end{bmatrix} \\sim \\N\\left(\\begin{bmatrix} \\mmu_X \\\\ \\mmu_V \\\\ \\mmu_V \\end{bmatrix}, \\begin{bmatrix} \\SSi_{XX} & \\SSi_{XV} & \\SSi_{XV} \\\\ \\SSi_{VX} & \\SSi_{VV} & \\SSi_{VV} \\\\ \\SSi_{VX} & \\SSi_{VV} & \\SSi_{VV} + \\diag(\\ssi_\\star^2) \\end{bmatrix} \\right),\n",
    "$$\n",
    "from which we can deduce calculate the mean and variance of the final update (normal) distribution, $p(\\XX \\mid \\VV_\\star)$.  This suggests the following unit test for the ODE solver:\n",
    "\n",
    "1. Modify `ode_bayes` such that it accepts an optional input of $\\VV_\\star$ and $\\ssi_\\star^2$ (please use argument names consistent with the rest of the function).\n",
    "2. Write a function to compute the mean and variance of $p(\\XX \\mid \\VV_\\star)$ based on $(\\mmu_X, \\mmu_V, \\SSi_{XX}, \\SSi_{XV}, \\SSi_{VV}, \\VV_\\star)$.\n",
    "3. Run `ode_bayes` with predetermined $(\\VV_\\star, \\ssi_\\star^2)$, and check that the mean and variance output is identical to that of step 2."
   ]
  },
  {
   "cell_type": "code",
   "execution_count": 4,
   "metadata": {},
   "outputs": [],
   "source": [
    "#Toy example\n",
    "def f(x,t):\n",
    "    return  3*(t+1/4) - x/(t+1/4)\n",
    "\n",
    "t0 = 0\n",
    "tn = 1\n",
    "x0 = 0\n",
    "N = 10\n",
    "tseq = np.linspace(t0, tn, N)\n",
    "gamma = 1.67\n",
    "alpha = 1000\n",
    "\n",
    "mu_v = np.zeros((N)) # prior mean of v(tseq)\n",
    "mu_x = x0 + mu_v # prior mean of x(tseq)\n",
    "Sigma_vv = bo.cov_vv_ex(tseq, tseq, gamma, alpha)\n",
    "Sigma_xx = bo.cov_xx_ex(tseq, tseq, gamma, alpha)\n",
    "Sigma_xv = bo.cov_xv_ex(tseq, tseq, gamma, alpha)"
   ]
  },
  {
   "cell_type": "code",
   "execution_count": 7,
   "metadata": {},
   "outputs": [],
   "source": [
    "x = integrate.odeint(f,x0,tseq)\n",
    "x = np.ndarray.flatten(x)\n",
    "v = np.array([f(xl,tseq[i]) for i, xl in enumerate(x)])\n",
    "sigma_star_avg = (max(v) - min(v))*0.05\n",
    "\n",
    "upper = 3*sigma_star_avg/2\n",
    "lower = sigma_star_avg/2\n",
    "\n",
    "sigma_star = runif(lower, upper)\n",
    "v_star = v+sigma_star*np.random.normal(0,1)\n",
    "v_star[0] = v[0]"
   ]
  },
  {
   "cell_type": "code",
   "execution_count": 4,
   "metadata": {},
   "outputs": [],
   "source": [
    "mu_star, Sigma_star = ode_bayes_star(mu_x, mu_v, Sigma_vv, Sigma_xx, Sigma_xv, v_star)"
   ]
  },
  {
   "cell_type": "code",
   "execution_count": 5,
   "metadata": {},
   "outputs": [],
   "source": [
    "_, mu_x, Sigma_xx = bo.bayes_ode(f, tseq, x0, Sigma_vv, Sigma_xx, Sigma_xv, v_star)"
   ]
  },
  {
   "cell_type": "code",
   "execution_count": null,
   "metadata": {},
   "outputs": [],
   "source": [
    "np.allclose(mu_star, mu_x), np.allclose(Sigma_star, Sigma_xx)"
   ]
  },
  {
   "cell_type": "markdown",
   "metadata": {},
   "source": [
    "## Implementation via the Kalman Filter\n",
    "\n",
    "For the special case of an exponential kernel (or equivalently, exponential autocorrelation of the solution derivative), the Bayesian ODE solver can be efficiently implemented via Kalman filtering and smoothing algorithms.  To see this, the first step is to derive the conditional distribution $p(y_t \\mid y_s)$, where $y_t = (x_t, v_t)$ and $0 < s < t$."
   ]
  },
  {
   "cell_type": "markdown",
   "metadata": {},
   "source": [
    "### Tests to check positive definite\n"
   ]
  },
  {
   "cell_type": "code",
   "execution_count": 6,
   "metadata": {},
   "outputs": [],
   "source": [
    "import scipy.stats as scs\n",
    "\n",
    "def positive_def(ntest, model, alpha, gamma):\n",
    "    if model == \"se\":\n",
    "        cov_vv = bo.cov_vv_se\n",
    "        cov_xv = bo.cov_xv_se\n",
    "        cov_xx = bo.cov_xx_se\n",
    "    elif model == \"ex\":\n",
    "        cov_vv = bo.cov_vv_ex\n",
    "        cov_xv = bo.cov_xv_ex\n",
    "        cov_xx = bo.cov_xx_ex\n",
    "    elif model == \"re\":\n",
    "        cov_vv = bo.cov_vv_re\n",
    "        cov_xv = bo.cov_xv_re\n",
    "        cov_xx = bo.cov_xx_re\n",
    "    else:\n",
    "        raise ValueError(\"Invalid covariance type.\")\n",
    "        \n",
    "    for ii in range(ntest):\n",
    "        nT = scs.randint.rvs(2, 10, size = 1)\n",
    "        tseq = abs(scs.norm.rvs(size = nT))\n",
    "        Sig_xx = cov_xx(tseq, tseq, gamma, alpha)\n",
    "        Sig_xv = cov_xv(tseq, tseq, gamma, alpha)\n",
    "        Sig_vv = cov_vv(tseq, tseq, gamma, alpha)\n",
    "        Sigma = np.vstack((np.hstack((Sig_xx, Sig_xv)),\n",
    "                                        np.hstack((np.transpose(Sig_xv), Sig_vv))))\n",
    "\n",
    "        if any(round(i, 10) <0 for i in np.linalg.eigvalsh(Sigma)):\n",
    "            print('Failed')\n",
    "            print(np.linalg.eigvalsh(Sigma))\n",
    "            return Sigma\n",
    "        else:\n",
    "            return 'Passed'\n",
    "    "
   ]
  },
  {
   "cell_type": "code",
   "execution_count": null,
   "metadata": {},
   "outputs": [],
   "source": [
    "positive_def(5,'se',1,1)"
   ]
  },
  {
   "cell_type": "code",
   "execution_count": null,
   "metadata": {},
   "outputs": [],
   "source": [
    "positive_def(5,'re',1,1)"
   ]
  },
  {
   "cell_type": "code",
   "execution_count": null,
   "metadata": {},
   "outputs": [],
   "source": [
    "positive_def(5,'ex',1,1)"
   ]
  },
  {
   "cell_type": "markdown",
   "metadata": {},
   "source": [
    "### Kalman Filter"
   ]
  },
  {
   "cell_type": "code",
   "execution_count": 2,
   "metadata": {},
   "outputs": [],
   "source": [
    "import seaborn as sns"
   ]
  },
  {
   "cell_type": "code",
   "execution_count": 5,
   "metadata": {},
   "outputs": [],
   "source": [
    "gamma = 1.67\n",
    "alpha = 1000\n",
    "Sigma = cov_yy_ex(tseq[1:3], tseq[1:3], gamma, alpha)\n",
    "icond = np.array([True]*2 + [False]*2)\n",
    "mu = np.array([x0, 0, x0, 0])\n",
    "A, b, V = mvCond(mu, Sigma, icond)"
   ]
  },
  {
   "cell_type": "code",
   "execution_count": 8,
   "metadata": {},
   "outputs": [],
   "source": [
    "yn_mean, yn_var = bo.kalman_ode(f, x0, N-1, A, V, v_star)"
   ]
  },
  {
   "cell_type": "code",
   "execution_count": 9,
   "metadata": {},
   "outputs": [
    {
     "data": {
      "image/png": "[encoded data removed]",
      "text/plain": [
       "<Figure size 432x288 with 1 Axes>"
      ]
     },
     "metadata": {
      "needs_background": "light"
     },
     "output_type": "display_data"
    }
   ],
   "source": [
    "kalman_x = [yn[0] for yn in yn_mean]\n",
    "plt.plot(tseq, abs(kalman_x-mu_x))\n",
    "plt.show()"
   ]
  },
  {
   "cell_type": "code",
   "execution_count": 37,
   "metadata": {},
   "outputs": [
    {
     "data": {
      "image/png": "[encoded data removed]",
      "text/plain": [
       "<Figure size 432x288 with 1 Axes>"
      ]
     },
     "metadata": {
      "needs_background": "light"
     },
     "output_type": "display_data"
    }
   ],
   "source": [
    "var_kalman = [var[0,0] for var in yn_var]\n",
    "plt.plot(tseq, abs(var_kalman - np.array(Sigma_xx[N-1])))\n",
    "plt.show()"
   ]
  },
  {
   "cell_type": "code",
   "execution_count": 22,
   "metadata": {},
   "outputs": [],
   "source": [
    "def interrogation_test(M, N, gamma, alpha):\n",
    "    \n",
    "    tseq = np.linspace(0, 1, N)\n",
    "    Sigma = cov_yy_ex(tseq[1:3], tseq[1:3], gamma, alpha)\n",
    "    icond = np.array([True]*2 + [False]*2)\n",
    "    mu = np.array([x0, 0, x0, 0])\n",
    "    A, b, V = mvCond(mu, Sigma, icond)\n",
    "    \n",
    "    mu_bayes = np.zeros((M,N))\n",
    "    mu_kalman = np.zeros((M,N))\n",
    "\n",
    "    Sigma_vv = bo.cov_vv_ex(tseq, tseq, gamma, alpha)\n",
    "    Sigma_xx = bo.cov_xx_ex(tseq, tseq, gamma, alpha)\n",
    "    Sigma_xv = bo.cov_xv_ex(tseq, tseq, gamma, alpha)\n",
    "\n",
    "    R = np.random.normal(size=N)\n",
    "\n",
    "    for i in range(M):\n",
    "        _, mu_bayes[i], _ = bo.bayes_ode(f, tseq, x0, Sigma_vv, Sigma_xx, Sigma_xv)\n",
    "        mu_kalman[i] = [yn[0] for yn in bo.kalman_ode(f, x0, N-1, A, V)[0]]\n",
    "\n",
    "    y_bayes = np.dot(mu_bayes, R)\n",
    "    y_kalman = np.dot(mu_kalman, R)\n",
    "\n",
    "    return y_bayes, y_kalman"
   ]
  },
  {
   "cell_type": "code",
   "execution_count": 25,
   "metadata": {},
   "outputs": [
    {
     "data": {
      "image/png": "[encoded data removed]",
      "text/plain": [
       "<Figure size 432x288 with 1 Axes>"
      ]
     },
     "metadata": {
      "needs_background": "light"
     },
     "output_type": "display_data"
    }
   ],
   "source": [
    "M = 1000\n",
    "N = 5\n",
    "gamma = 1.67\n",
    "alpha = 10\n",
    "y_bayes, y_kalman = interrogation_test(M,N,gamma,alpha)\n",
    "\n",
    "sns.kdeplot(y_bayes, label='bayes')\n",
    "sns.kdeplot(y_kalman, label='kalman')\n",
    "plt.show()"
   ]
  }
 ],
 "metadata": {
  "kernelspec": {
   "display_name": "Python 3",
   "language": "python",
   "name": "python3"
  },
  "language_info": {
   "codemirror_mode": {
    "name": "ipython",
    "version": 3
   },
   "file_extension": ".py",
   "mimetype": "text/x-python",
   "name": "python",
   "nbconvert_exporter": "python",
   "pygments_lexer": "ipython3",
   "version": "3.7.3"
  }
 },
 "nbformat": 4,
 "nbformat_minor": 2
}
