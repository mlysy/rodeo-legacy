{
 "cells": [
  {
   "cell_type": "markdown",
   "metadata": {},
   "source": [
    "# Kalman Higher Order Solver\n",
    "\n",
    "$$\n",
    "\\newcommand{\\var}{\\operatorname{var}}\n",
    "\\newcommand{\\cov}{\\operatorname{cov}}\n",
    "\\newcommand{\\N}{\\mathcal N}\n",
    "\\newcommand{\\vi}{v^\\star}\n",
    "$$"
   ]
  },
  {
   "cell_type": "markdown",
   "metadata": {},
   "source": [
    "## Higher Order Solver\n",
    "\n",
    "Let $y_t = (x^{(0)}_t, x^{(1)}_t, \\ldots, x^{(q)}_t)$, such that the ODE is defined as\n",
    "\n",
    "$$\n",
    "a' y_t = F(y_t, t), \\qquad y_0 = b,\n",
    "$$\n",
    "\n",
    "where $a_{q \\times 1}$.  Note that this setup is somewhat flexible.  For instance you could use it to solve the ODE\n",
    "\n",
    "$$\n",
    "x^{(2)}_t + 2 x^{(1)}_t + \\sin(x_t) + t = 0, \\qquad x_0 = 2, \\quad x^{(1)}_0 = 1.\n",
    "$$\n",
    "\n",
    "Then we could write\n",
    "\n",
    "$$\n",
    "a = (0, 1, 0), \\quad F(y_t, t) = \\frac{-x^{(2)}_t - \\sin(x_t) - t}{2},\n",
    "$$\n",
    "\n",
    "or we could write\n",
    "\n",
    "$$\n",
    "a = (0, 2, 1), \\quad F(y_t,t) = -\\sin(x_t) - t.\n",
    "$$\n",
    "\n",
    "The solution prior is going to be on the CAR$(p)$ process $X_t = (x^{(0)}_t, \\ldots, x^{(p-1)}_t)$ where $p > q$, such that the solution assumes at least $q$ continuous derivatives.\n",
    "\n",
    "The algorithm goes like this:\n",
    "\n",
    "1.  Let $X_0$ be compatible with $y_0 = c$.  I think a simple default is to assume that $X_0 \\sim \\N(0, V_{\\infty})$, then condition on $y_0 = c$.  The first model interrogation is deterministic: $v_0^\\star = F(y_0, 0)$ with variance $\\Sigma_0^\\star = 0$.\n",
    "2.  Model interrogation:  Given that we have used the KF to store the mean and variance of $p(X_n \\mid v_{0:n}^\\star)$,\n",
    "    - Do one forward step from Markov process $X_{n+1} \\sim p(X_{n+1} \\mid X_{0:n})$, via \n",
    "    \n",
    "        $$\n",
    "        X_n \\sim p(X_n \\mid v_{0:n}^\\star), \\qquad X_{n+1} \\sim p(X_{n+1} \\mid X_n).\n",
    "        $$\n",
    "        \n",
    "    - Interrogate $v_{n+1}^\\star = F(y_{n+1}, t_{n+1})$, and calculate $\\Sigma_{n+1}^\\star = \\var(a'y_{n+1} \\mid v_{0:n}^{\\star})$.\n",
    "3.  Forward-pass update $p(X_{n+1} \\mid v_{0:n+1}^\\star)$, where the observation model is\n",
    "\n",
    "    $$\n",
    "    v_{n+1}^\\star \\sim \\N(a'y_{n+1}, \\Sigma_{n+1}^\\star),\n",
    "    $$\n",
    "        \n",
    "    where $y_{n+1}$ are the first $p+1$ elements of $X_{n+1}$.\n",
    "4.  Once you've done this for $N$ steps, backward-pass update (KF smoothing) to get $p(X_{0:N} \\mid v_{0:N}^{\\star})$. "
   ]
  },
  {
   "cell_type": "code",
   "execution_count": 1,
   "metadata": {},
   "outputs": [],
   "source": [
    "import numpy as np\n",
    "from math import exp, sqrt\n",
    "import matplotlib.pyplot as plt\n",
    "from BayesODE import var_car, cov_car\n",
    "from BayesODE.Tests.root_gen import root_gen\n",
    "from BayesODE.Tests.V_euler import V_euler\n",
    "from BayesODE.utils import mvCond\n",
    "from BayesODE._mou_car import _mou_car\n",
    "from BayesODE.kalman_ode import filter_update_full"
   ]
  },
  {
   "cell_type": "code",
   "execution_count": 2,
   "metadata": {},
   "outputs": [],
   "source": [
    "def kalman_initial_draw(roots, sigma, y0, p):\n",
    "    \n",
    "    \"\"\"Computes the initial draw X0 for the kalman process X_0 ~ N(0, V_inf)`\n",
    "    \n",
    "    Parameters\n",
    "    ----------\n",
    "    \n",
    "    roots: [p] :obj:`numpy.ndarray` of float\n",
    "        Roots to the p-th order polynomial of the car(p) process (roots must be negative)\n",
    "    sigma: float\n",
    "        Parameter in mOU volatility matrix\n",
    "    y0: [q] :obj:`numpy.ndarray` of float\n",
    "        Initial conditions of the ode\n",
    "    p: float\n",
    "        Size of X0\n",
    "\n",
    "    Returns\n",
    "    -------\n",
    "    \n",
    "    X0: [p] :obj:`numpy.ndarray` of float\n",
    "        Simulate X0 ~ N(0, V_inf) conditioned on y0.\n",
    "    \"\"\"\n",
    "    q = len(y0) - 1\n",
    "    X0 = np.zeros(p)    #Initialize p sized initial X0\n",
    "    V_inf = cov_car([], roots, sigma, v_infinity=True)    #Get V_inf to draw X^{{q+1} ... (p-1)}_0\n",
    "    icond = np.array([True]*(q+1) + [False]*(p-q-1))   #Conditioned on all but X^{{q+1} ... (p-1)}_0\n",
    "    A, b, V = mvCond(np.zeros(p), V_inf, icond)    #Get mean and variance for p(z_0 | y_0 = c) where z_0 = X_0 \\setminus y_0\n",
    "    z_0 = np.random.multivariate_normal(A.dot(y0) + b, V)    #Draw X^{(p-1)}_0\n",
    "    X0[:q+1] = y0    #Replace x^{(0), (1), (2) ... (q)}}_0 with y_0\n",
    "    X0[q+1:] = z_0\n",
    "    \n",
    "    return X0"
   ]
  },
  {
   "cell_type": "markdown",
   "metadata": {},
   "source": [
    "Given \n",
    "    $$\n",
    "    X_{t+\\Delta t} \\mid X_t \\sim \\N(e^{-\\Gamma \\Delta t} X_t, V_{\\Delta t}).\n",
    "    $$\n",
    "we can calculate $X_{n+1} \\sim p(X_{n+1} \\mid X_n)$ using `var_car` on $\\Delta t = 1/N$.\n",
    "\n",
    "So using the old variables we have:\n",
    "    $$\n",
    "    \\begin{align*}\n",
    "    A &= e^{-\\Gamma \\Delta t} \\\\\n",
    "    V &= V_{\\Delta t}\n",
    "    \\end{align*}\n",
    "    $$"
   ]
  },
  {
   "cell_type": "code",
   "execution_count": 3,
   "metadata": {},
   "outputs": [],
   "source": [
    "def higher_mvCond(delta_t, roots, sigma):\n",
    "    \n",
    "    \"\"\"Calculate A, and V in X_{n+1} ~ p(X_{n+1} | X_n) using \n",
    "    .. :math: `A = e^{-\\\\Gamma \\\\Delta t}` and \n",
    "    .. :math: `V = V_{\\\\Delta t}`.\n",
    "        \n",
    "    Parameters\n",
    "    ----------\n",
    "    \n",
    "    delta_t : [1] :obj:`numpy.ndarray` of float\n",
    "        Step size between simulation points\n",
    "    roots : [p] :obj:`numpy.ndarray` of float\n",
    "        Roots to the p-th order polynomial of the car(p) process (roots must be negative)\n",
    "    sigma : float\n",
    "        Parameter in mOU volatility matrix\n",
    "\n",
    "    Returns\n",
    "    -------\n",
    "    \n",
    "    A : [p,p]  :obj:`numpy.ndarray` of float\n",
    "        :math: `A = e^{-\\\\Gamma \\\\Delta t}`\n",
    "    V : [p,p] :obj:`numpy.ndarray` of float\n",
    "        :math: `V = V_{\\\\Delta t}`\n",
    "    \"\"\"\n",
    "\n",
    "    delta = np.array(-roots)\n",
    "    _, Q = _mou_car(roots, sigma)\n",
    "    Q_inv = np.linalg.pinv(Q)\n",
    "    V = var_car(delta_t, roots, sigma)[0]\n",
    "    A = np.matmul(Q_inv.T * np.exp(-delta * delta_t[0]), Q.T)\n",
    "\n",
    "    return A, V   "
   ]
  },
  {
   "cell_type": "code",
   "execution_count": 161,
   "metadata": {},
   "outputs": [],
   "source": [
    "def kalman_ode_higher(fun, X0, N, A, b, V, a):\n",
    "    from pykalman import standard as pks\n",
    "    \"\"\"Probabilistic ODE solver based on the Kalman filter and smoother.\n",
    "\n",
    "    Returns an approximate solution to the higher order ODE\n",
    "\n",
    "    .. math:: a' y_t = F(y_t, t)= f(y_t, t)\n",
    "    \n",
    "    where :math: y_t = (x^{(0)}_t, x^{(1)}_t, \\\\ldots, x^{(q)}_t) on the interval :math:`t \\in [0, 1]`, with initial condition :math:`y_0 = y0`\n",
    "    and :math: X_0 = (x^{(0)}_t, x^{(1)}_t, \\\\ldots, x^{(p)}_t) for p > q+1.\n",
    "    Parameters\n",
    "    ----------\n",
    "\n",
    "    fun : function \n",
    "        Higher order ODE function :math: a' y_t = F(y_t, t) taking arguments `y` and `t`.\n",
    "    X0 : float\n",
    "        Initial value of :math:`x_t` at time :math:`t = 0`.\n",
    "    N : int\n",
    "        Number of discretization points of the time interval,\n",
    "        such that discretization timestep is `dt = 1/N`.\n",
    "    A : [p, p] :obj:`numpy.ndarray` of float\n",
    "        Transition matrix defining the solution prior (see below).\n",
    "    b : [p] :obj:`numpy.ndarray` of float\n",
    "        transition_offsets defining the solution prior (see below).\n",
    "    V : [p, p] :obj:`numpy.ndarray`\n",
    "        Variance matrix defining the solution prior. \n",
    "        \n",
    "        .. math:: y_{n+1} = A y_n + b + V^{1/2} \\epsilon_n, \\qquad \\epsilon_n \\stackrel{iid}{\\sim} \\mathcal N(0, I_2).\n",
    "    a : [q+1]\n",
    "        Observation vector\n",
    "    \n",
    "    Returns\n",
    "    -------\n",
    "\n",
    "    Xn_mean : [N+1, p] :obj:`numpy.ndarray`\n",
    "        Posterior mean of the solution process and its derivative :math:`y_n = (x_n, v_n)` at times :math:`t = 0,1/N,\\ldots,1`.\n",
    "    Xn_var : [N+1, p, p] :obj:`numpy.ndarray`\n",
    "        Posterior variance of the solution process and its derivatives at times :math:`t = 0,1/N,\\ldots,1`.\n",
    "    \"\"\"\n",
    "    \n",
    "    # notation consistent with pykalman package\n",
    "    n_dim_obs = 1\n",
    "    n_dim_state = len(X0)\n",
    "    n_timesteps = N+1\n",
    "\n",
    "    # allocate memory\n",
    "    vs = np.zeros((n_timesteps,n_dim_obs)) \n",
    "\n",
    "    # var(vs_n | y_n), to be determined during the interrogation process\n",
    "    sig2 = np.zeros((n_timesteps, n_dim_obs, n_dim_obs))\n",
    "    \n",
    "    # solution process\n",
    "    # forward mean and variance.\n",
    "    mu = np.zeros((n_timesteps, n_dim_state)) # E[y_n | vs_0:n]\n",
    "    # var(y_n | vs_0:n)\n",
    "    Sigma = np.zeros((n_timesteps, n_dim_state, n_dim_state))\n",
    "    \n",
    "    #a padde with 0s\n",
    "    p = len(b)\n",
    "    q = len(a) - 1\n",
    "    a0 = np.pad(a, (0, p-q-1), 'constant', constant_values=(0,0))\n",
    "\n",
    "    # arguments to use low-level pykalman functions\n",
    "    observations = vs\n",
    "    observation_matrix = np.array([a0])\n",
    "    observation_offset = np.array([0.])\n",
    "    observation_covariances = sig2 # multidimensional\n",
    "    transition_matrix = A\n",
    "    transition_offset = b\n",
    "    transition_covariance = V # single dimensional\n",
    "    filtered_state_means = mu\n",
    "    filtered_state_covariances = Sigma\n",
    "    predicted_state_means = np.zeros((n_timesteps, n_dim_state))\n",
    "    predicted_state_covariances = np.zeros((n_timesteps, n_dim_state, n_dim_state))\n",
    "    # initialize things\n",
    "    mu[0] = X0\n",
    "    vs[0] = X0.dot(a0)\n",
    "    predicted_state_means[0] = mu[0]\n",
    "    predicted_state_covariances[0] = Sigma[0]\n",
    "\n",
    "    # forward pass: merging pks._filter to accommodate multiple\n",
    "    # observation_covariances\n",
    "    # calculate mu_tt = E[y_t | vs_0:t-1] and\n",
    "    # Sigma_tt = var(y_t | vs_0:t-1)\n",
    "\n",
    "    for t in range(N):\n",
    "        mu_tt = np.dot(A, mu[t]) + b\n",
    "        Sigma_tt = np.linalg.multi_dot([A, Sigma[t], A.T]) + V #A*Sigma[n]*A.T + V \n",
    "        sig2[t+1] = np.linalg.multi_dot([a0, Sigma_tt, a0.T]) # new observation_covariance\n",
    "        Z_tt = np.random.multivariate_normal(np.zeros(p), np.eye(p))\n",
    "        C_tt = np.linalg.cholesky(np.absolute(Sigma_tt, where=np.eye(p, dtype=bool)))\n",
    "        Xt1 = mu_tt + C_tt.dot(Z_tt) #X_{n+1} ~ p(X_{n+1} | X_n)\n",
    "        #Xt1 = np.random.multivariate_normal(mu_tt, Sigma_tt)\n",
    "        vs[t+1] = fun(Xt1,(t+1)/N) #new observation (v_{n+1})\n",
    "\n",
    "        (predicted_state_means[t+1], predicted_state_covariances[t+1],\n",
    "                 _, filtered_state_means[t+1],\n",
    "                 filtered_state_covariances[t+1]) = (\n",
    "                     filter_update_full(filtered_state_mean = filtered_state_means[t],\n",
    "                                        filtered_state_covariance = filtered_state_covariances[t],\n",
    "                                        observation = observations[t+1],\n",
    "                                        transition_matrix = transition_matrix,\n",
    "                                        transition_offset = transition_offset,\n",
    "                                        transition_covariance = transition_covariance,\n",
    "                                        observation_matrix = observation_matrix,\n",
    "                                        observation_offset = observation_offset,\n",
    "                                        observation_covariance = observation_covariances[t+1])\n",
    "                 )\n",
    "    # backward pass\n",
    "    (smoothed_state_means, smoothed_state_covariances, _) = (\n",
    "        pks._smooth(\n",
    "            transition_matrix, filtered_state_means,\n",
    "            filtered_state_covariances, predicted_state_means,\n",
    "            predicted_state_covariances\n",
    "        )\n",
    "    )\n",
    "    Xn_mean = smoothed_state_means\n",
    "    Xn_var = smoothed_state_covariances\n",
    "    return Xn_mean, Xn_var"
   ]
  },
  {
   "cell_type": "markdown",
   "metadata": {},
   "source": [
    "## Tests"
   ]
  },
  {
   "cell_type": "code",
   "execution_count": 136,
   "metadata": {},
   "outputs": [],
   "source": [
    "from math import sin\n",
    "def F(y_t, t):\n",
    "    return -2*y_t[1] - sin(y_t[0]) -t\n"
   ]
  },
  {
   "cell_type": "code",
   "execution_count": 164,
   "metadata": {},
   "outputs": [],
   "source": [
    "N = 100\n",
    "q = 2\n",
    "p = q+2\n",
    "\n",
    "delta_t = np.array([1/N])\n",
    "r0 = np.random.uniform()\n",
    "sigma = np.random.uniform()\n",
    "roots = root_gen(r0, p) #Generate roots to draw x^{(3)}_0\n",
    "\n",
    "a = np.array([0,0,1])\n",
    "x0 = np.array([2,1,0])\n",
    "y0 = np.array([2,1,F(x0, 0)]) #Initial state\n",
    "\n",
    "X0 = kalman_initial_draw(roots, sigma, y0, p)\n",
    "A, V = higher_mvCond(delta_t, roots, sigma) \n",
    "b = X0\n",
    "\n",
    "Xn_mean, Xn_var = kalman_ode_higher(F, X0, N, A, b, V, a)"
   ]
  },
  {
   "cell_type": "markdown",
   "metadata": {},
   "source": [
    "## Example (6) in Chkrebtii Paper"
   ]
  },
  {
   "cell_type": "markdown",
   "metadata": {},
   "source": [
    "As a simple example, consider the second order initial value ODE problem,\n",
    "\n",
    "$$\n",
    "\\begin{align*}\n",
    "u_{tt}(t) &= sin(2t) − u, \\quad t ∈ [0, 10], \\\\\n",
    "u_t(0) &= 0, \\quad u(0) = −1. \n",
    "\\end{align*}\n",
    "$$\n",
    "\n",
    "\n",
    "Its exact solution, $u^{\\star}(t) = \\frac{−3 cos(t) + 2 sin(t) − sin(2t)}{3}$"
   ]
  },
  {
   "cell_type": "code",
   "execution_count": 40,
   "metadata": {},
   "outputs": [],
   "source": [
    "from math import sin, cos\n",
    "def chk_F(y_t, t):\n",
    "    return sin(2*t) - y_t[0] #X^{2} = sing(2t) - X\n",
    "\n",
    "def chk_exact_x(t):\n",
    "    return (-3*cos(t) + 2*sin(t) - sin(2*t))/3\n",
    "\n",
    "def chk_exact_x1(t):\n",
    "    return (-2*cos(2*t) + 3*sin(t) + 2*cos(t))/3"
   ]
  },
  {
   "cell_type": "code",
   "execution_count": 174,
   "metadata": {},
   "outputs": [],
   "source": [
    "N = 100\n",
    "q = 2\n",
    "p = q+2\n",
    "\n",
    "delta_t = np.array([1/N])\n",
    "#r0 = np.random.uniform()\n",
    "#sigma = np.random.uniform()\n",
    "r0 = 0.54\n",
    "sigma = 0.001\n",
    "roots = root_gen(r0, p) #Generate roots to draw x^{(3)}_0\n",
    "roots = np.array([-1,-2,-3,-4])\n",
    "a = np.array([0,0,1])\n",
    "x0 = np.array([-1,0,0])\n",
    "y0 = np.array([-1,0,chk_F(x0, 0)]) #Initial state\n",
    "\n",
    "X0 = kalman_initial_draw(roots, sigma, y0, p)\n",
    "A, V = higher_mvCond(delta_t, roots, sigma) \n",
    "b = np.zeros(p)\n",
    "\n",
    "Xn_chk_mean, Xn_chk_var = kalman_ode_higher(chk_F, X0, N-1, A, b, V, a)"
   ]
  },
  {
   "cell_type": "code",
   "execution_count": 175,
   "metadata": {},
   "outputs": [],
   "source": [
    "def kalman_tune(fun, r0p, sigmap, p, x0, y0, b, a, exact_sol_x):\n",
    "    minerr = 1e10\n",
    "    for r0 in r0p:\n",
    "        for sigma in sigmap:\n",
    "            roots = root_gen(r0, p) #Generate roots to draw x^{(3)}_0\n",
    "            try:\n",
    "                X0 = kalman_initial_draw(roots, sigma, y0, p)\n",
    "                A, V = higher_mvCond(delta_t, roots, sigma) \n",
    "                kalman_x = kalman_ode_higher(fun, X0, N-1, A, b, V, a)[0][:,0]\n",
    "                err = sum((exact_sol_x - kalman_x)**2)\n",
    "                if err < minerr:\n",
    "                    minerr = err\n",
    "                    minr0 = r0\n",
    "                    minsigma = sigma\n",
    "            except:\n",
    "                continue\n",
    "    return minr0, minsigma\n"
   ]
  },
  {
   "cell_type": "code",
   "execution_count": 176,
   "metadata": {},
   "outputs": [
    {
     "data": {
      "text/plain": [
       "<matplotlib.legend.Legend at 0x1cdfd80af98>"
      ]
     },
     "execution_count": 176,
     "metadata": {},
     "output_type": "execute_result"
    },
    {
     "data": {
      "image/png": "[encoded data removed]",
      "text/plain": [
       "<Figure size 432x288 with 1 Axes>"
      ]
     },
     "metadata": {
      "needs_background": "light"
     },
     "output_type": "display_data"
    }
   ],
   "source": [
    "N = 100\n",
    "tseq = np.linspace(0,1,N)\n",
    "exact_chk_x = np.zeros(N)\n",
    "exact_chk_x1 = np.zeros(N)\n",
    "for t in range(N):\n",
    "    exact_chk_x[t] = chk_exact_x(tseq[t])\n",
    "    exact_chk_x1[t] = chk_exact_x1(tseq[t])\n",
    "plt.plot(tseq,exact_chk_x,label='x')\n",
    "plt.plot(tseq,exact_chk_x1,label='x^{1}')\n",
    "plt.legend(loc='upper left')"
   ]
  },
  {
   "cell_type": "code",
   "execution_count": 177,
   "metadata": {},
   "outputs": [
    {
     "data": {
      "text/plain": [
       "(0.6545454545454545, 0.001)"
      ]
     },
     "execution_count": 177,
     "metadata": {},
     "output_type": "execute_result"
    }
   ],
   "source": [
    "r0p = np.linspace(0.1, 1, 100)\n",
    "sigmap = np.linspace(0.001,0.001,1)\n",
    "kalman_tune(chk_F, r0p, sigmap, p, x0, y0, b, a, exact_chk_x)"
   ]
  },
  {
   "cell_type": "code",
   "execution_count": 178,
   "metadata": {},
   "outputs": [
    {
     "data": {
      "text/plain": [
       "[<matplotlib.lines.Line2D at 0x1cdfd84ceb8>]"
      ]
     },
     "execution_count": 178,
     "metadata": {},
     "output_type": "execute_result"
    },
    {
     "data": {
      "image/png": "[encoded data removed]",
      "text/plain": [
       "<Figure size 432x288 with 1 Axes>"
      ]
     },
     "metadata": {
      "needs_background": "light"
     },
     "output_type": "display_data"
    }
   ],
   "source": [
    "kalman_chk_x = Xn_chk_mean[:,0]\n",
    "plt.plot(tseq,kalman_chk_x)\n",
    "plt.plot(tseq,exact_chk_x)"
   ]
  },
  {
   "cell_type": "code",
   "execution_count": 179,
   "metadata": {},
   "outputs": [
    {
     "data": {
      "text/plain": [
       "[<matplotlib.lines.Line2D at 0x1cdfd8af898>]"
      ]
     },
     "execution_count": 179,
     "metadata": {},
     "output_type": "execute_result"
    },
    {
     "data": {
      "image/png": "[encoded data removed]",
      "text/plain": [
       "<Figure size 432x288 with 1 Axes>"
      ]
     },
     "metadata": {
      "needs_background": "light"
     },
     "output_type": "display_data"
    }
   ],
   "source": [
    "kalman_chk_x1 = Xn_chk_mean[:,1]\n",
    "plt.plot(tseq,kalman_chk_x1)\n",
    "plt.plot(tseq,exact_chk_x1)"
   ]
  },
  {
   "cell_type": "markdown",
   "metadata": {},
   "source": [
    "## Textbook example 2 in 3.1"
   ]
  },
  {
   "cell_type": "code",
   "execution_count": 165,
   "metadata": {},
   "outputs": [],
   "source": [
    "from math import exp\n",
    "\n",
    "def text_F(y_t, t):\n",
    "    return 4*y_t[0] + 12*t\n",
    "\n",
    "def text_exact_x(t):\n",
    "    return 3*exp(2*t) + exp(-2*t) -3*t\n",
    "\n",
    "def text_exact_x1(t):\n",
    "    return 6*exp(2*t)-2*exp(-2*t)-3\n"
   ]
  },
  {
   "cell_type": "code",
   "execution_count": 180,
   "metadata": {},
   "outputs": [],
   "source": [
    "N = 100\n",
    "q = 2\n",
    "p = q+2\n",
    "\n",
    "delta_t = np.array([1/N])\n",
    "r0 = np.random.uniform()\n",
    "sigma = np.random.uniform()\n",
    "r0 = 0.323\n",
    "sigma = 0.001\n",
    "roots = root_gen(r0, p) #Generate roots to draw x^{(3)}_0\n",
    "a = np.array([0,0,1])\n",
    "x0 = np.array([4,1,0])\n",
    "y0 = np.array([4,1,text_F(x0, 0)]) #Initial state\n",
    "\n",
    "X0 = kalman_initial_draw(roots, sigma, y0, p)\n",
    "A, V = higher_mvCond(delta_t, roots, sigma) \n",
    "\n",
    "Xn_text_mean, Xn_text_var = kalman_ode_higher(text_F, X0, N-1, A, b, V, a)"
   ]
  },
  {
   "cell_type": "code",
   "execution_count": 181,
   "metadata": {},
   "outputs": [
    {
     "data": {
      "text/plain": [
       "<matplotlib.legend.Legend at 0x1cdfd8897b8>"
      ]
     },
     "execution_count": 181,
     "metadata": {},
     "output_type": "execute_result"
    },
    {
     "data": {
      "image/png": "[encoded data removed]",
      "text/plain": [
       "<Figure size 432x288 with 1 Axes>"
      ]
     },
     "metadata": {
      "needs_background": "light"
     },
     "output_type": "display_data"
    }
   ],
   "source": [
    "N = 100\n",
    "tseq = np.linspace(0,1,N)\n",
    "exact_text_x = np.zeros(N)\n",
    "exact_text_x1 = np.zeros(N)\n",
    "for t in range(N):\n",
    "    exact_text_x[t] = text_exact_x(tseq[t])\n",
    "    exact_text_x1[t] = text_exact_x1(tseq[t])\n",
    "plt.plot(tseq,exact_text_x,label='x')\n",
    "plt.plot(tseq,exact_text_x1,label='x^{1}')\n",
    "plt.legend(loc='upper left')"
   ]
  },
  {
   "cell_type": "code",
   "execution_count": 64,
   "metadata": {},
   "outputs": [
    {
     "data": {
      "text/plain": [
       "(0.3239090909090909, 0.001)"
      ]
     },
     "execution_count": 64,
     "metadata": {},
     "output_type": "execute_result"
    }
   ],
   "source": [
    "r0p = np.linspace(0.001, 1, 100)\n",
    "sigmap = np.linspace(0.001,0.001, 1)\n",
    "kalman_tune(text_F, r0p, sigmap, p, x0, y0, b, a, exact_text_x)"
   ]
  },
  {
   "cell_type": "code",
   "execution_count": 182,
   "metadata": {},
   "outputs": [
    {
     "data": {
      "text/plain": [
       "<matplotlib.legend.Legend at 0x1cdfd984898>"
      ]
     },
     "execution_count": 182,
     "metadata": {},
     "output_type": "execute_result"
    },
    {
     "data": {
      "image/png": "[encoded data removed]",
      "text/plain": [
       "<Figure size 432x288 with 1 Axes>"
      ]
     },
     "metadata": {
      "needs_background": "light"
     },
     "output_type": "display_data"
    }
   ],
   "source": [
    "kalman_text_x = Xn_text_mean[:,0]\n",
    "plt.plot(tseq,kalman_text_x, label= 'kalman')\n",
    "plt.plot(tseq,exact_text_x, label = 'text')\n",
    "plt.legend(loc='upper left')"
   ]
  },
  {
   "cell_type": "code",
   "execution_count": 183,
   "metadata": {},
   "outputs": [
    {
     "data": {
      "text/plain": [
       "[<matplotlib.lines.Line2D at 0x1cdfd9d58d0>]"
      ]
     },
     "execution_count": 183,
     "metadata": {},
     "output_type": "execute_result"
    },
    {
     "data": {
      "image/png": "[encoded data removed]",
      "text/plain": [
       "<Figure size 432x288 with 1 Axes>"
      ]
     },
     "metadata": {
      "needs_background": "light"
     },
     "output_type": "display_data"
    }
   ],
   "source": [
    "kalman_text_x1 = Xn_text_mean[:,1]\n",
    "plt.plot(tseq,kalman_text_x1)\n",
    "plt.plot(tseq,exact_text_x1)"
   ]
  },
  {
   "cell_type": "markdown",
   "metadata": {},
   "source": [
    "## First Order ODE example"
   ]
  },
  {
   "cell_type": "code",
   "execution_count": 112,
   "metadata": {},
   "outputs": [],
   "source": [
    "import BayesODE as bo"
   ]
  },
  {
   "cell_type": "code",
   "execution_count": 113,
   "metadata": {},
   "outputs": [],
   "source": [
    "def first_F(y_t,t):\n",
    "    return 3*(t+1/4) - y_t[0]/(t+1/4)\n",
    "\n",
    "def f(y, t):\n",
    "    return 3*(t+1/4) - y/(t+1/4)"
   ]
  },
  {
   "cell_type": "code",
   "execution_count": 168,
   "metadata": {},
   "outputs": [],
   "source": [
    "t0 = 0\n",
    "tn = 1\n",
    "x0 = 0\n",
    "N = 100\n",
    "tseq = np.linspace(t0, tn, N)\n",
    "gamma = 1.67\n",
    "alpha = 1000\n",
    "\n",
    "Sigma_vv = bo.cov_vv_ex(tseq, tseq, gamma, alpha)\n",
    "Sigma_xx = bo.cov_xx_ex(tseq, tseq, gamma, alpha)\n",
    "Sigma_xv = bo.cov_xv_ex(tseq, tseq, gamma, alpha)\n",
    "x_bayes,_,_ = bo.bayes_ode(f, tseq, x0, Sigma_vv, Sigma_xx, Sigma_xv)"
   ]
  },
  {
   "cell_type": "code",
   "execution_count": 169,
   "metadata": {},
   "outputs": [],
   "source": [
    "v_bayes = np.zeros(N)\n",
    "for i in range(N):\n",
    "    v_bayes[i] = f(x_bayes[i], tseq[i])\n",
    "y_bayes = list(zip(x_bayes,v_bayes))"
   ]
  },
  {
   "cell_type": "code",
   "execution_count": 170,
   "metadata": {},
   "outputs": [],
   "source": [
    "from BayesODE.Tests.test_exp_integrate import cov_yy_ex\n",
    "gamma = 1.67\n",
    "alpha = 1000\n",
    "Sigma = cov_yy_ex(tseq[1:3], tseq[1:3], gamma, alpha)\n",
    "icond = np.array([True]*2 + [False]*2)\n",
    "mu = np.array([0, 0, 0, 0])\n",
    "A, b, V = mvCond(mu, Sigma, icond)"
   ]
  },
  {
   "cell_type": "code",
   "execution_count": 171,
   "metadata": {},
   "outputs": [],
   "source": [
    "N = 100\n",
    "q = 1\n",
    "p = q+1\n",
    "\n",
    "delta_t = np.array([1/N])\n",
    "r0 = np.random.uniform()\n",
    "r0 = 0.001\n",
    "sigma = np.random.uniform()\n",
    "roots = root_gen(r0, p) #Generate roots to draw x^{(3)}_0\n",
    "#roots = np.array([-100,-200])\n",
    "a = np.array([0,1])\n",
    "x0 = np.array([0,0])\n",
    "y0 = np.array([0,first_F(x0,0)]) #Initial state\n",
    "\n",
    "if p > q+1:\n",
    "    X0 = kalman_initial_draw(roots, sigma, y0, p)\n",
    "else:\n",
    "    X0 = y0\n",
    "#A, V = higher_mvCond(delta_t, roots, sigma) \n",
    "#b = X0 - X0.dot(A)\n",
    "b = np.zeros(p)\n",
    "Xn_first_mean1, Xn_first_var1 = kalman_ode_higher(first_F, X0, N-1, A, b, V, a)"
   ]
  },
  {
   "cell_type": "code",
   "execution_count": 172,
   "metadata": {},
   "outputs": [
    {
     "data": {
      "text/plain": [
       "<matplotlib.legend.Legend at 0x1cdfd712e10>"
      ]
     },
     "execution_count": 172,
     "metadata": {},
     "output_type": "execute_result"
    },
    {
     "data": {
      "image/png": "[encoded data removed]",
      "text/plain": [
       "<Figure size 432x288 with 1 Axes>"
      ]
     },
     "metadata": {
      "needs_background": "light"
     },
     "output_type": "display_data"
    }
   ],
   "source": [
    "plt.plot(tseq,Xn_first_mean1[:,0], label='p=2; x')\n",
    "plt.plot(tseq,x_bayes, label = 'bayes; x')\n",
    "plt.legend(loc='upper left')"
   ]
  },
  {
   "cell_type": "code",
   "execution_count": 173,
   "metadata": {},
   "outputs": [
    {
     "data": {
      "text/plain": [
       "<matplotlib.legend.Legend at 0x1cdfd785828>"
      ]
     },
     "execution_count": 173,
     "metadata": {},
     "output_type": "execute_result"
    },
    {
     "data": {
      "image/png": "[encoded data removed]",
      "text/plain": [
       "<Figure size 432x288 with 1 Axes>"
      ]
     },
     "metadata": {
      "needs_background": "light"
     },
     "output_type": "display_data"
    }
   ],
   "source": [
    "plt.plot(tseq,Xn_first_mean1[:,1], label='p=2; x^{1}')\n",
    "plt.plot(tseq,v_bayes, label = 'bayes; x^{1}')\n",
    "plt.legend(loc='upper left')"
   ]
  },
  {
   "cell_type": "code",
   "execution_count": 191,
   "metadata": {},
   "outputs": [
    {
     "data": {
      "text/plain": [
       "(1.0, 0.001)"
      ]
     },
     "execution_count": 191,
     "metadata": {},
     "output_type": "execute_result"
    }
   ],
   "source": [
    "N = 100\n",
    "q = 1\n",
    "p = q+2\n",
    "a = np.array([0,1])\n",
    "r0p = np.linspace(0.001, 1, 100)\n",
    "sigmap = np.linspace(0.001, 0.001, 1)\n",
    "kalman_tune(first_F, r0p, sigmap, p, x0, y0, b, a, x_bayes)"
   ]
  },
  {
   "cell_type": "code",
   "execution_count": 195,
   "metadata": {},
   "outputs": [],
   "source": [
    "N = 100\n",
    "q = 1\n",
    "p = q+2\n",
    "\n",
    "delta_t = np.array([1/N])\n",
    "#r0 = np.random.uniform()\n",
    "#sigma = np.random.uniform()\n",
    "r0 = 1.0\n",
    "sigma = 0.0001\n",
    "roots = root_gen(r0, p) #Generate roots to draw x^{(3)}_0\n",
    "#roots = np.array([-1,-2,-1])\n",
    "a = np.array([0,1])\n",
    "x0 = np.array([0,0])\n",
    "y0 = np.array([0,first_F(x0,0)]) #Initial state\n",
    "\n",
    "X0 = kalman_initial_draw(roots, sigma, y0, p)\n",
    "A, V = higher_mvCond(delta_t, roots, sigma) \n",
    "b = np.zeros(p)\n",
    "Xn_first_mean2, Xn_first_var2 = kalman_ode_higher(first_F, X0, N-1, A, b, V, a)"
   ]
  },
  {
   "cell_type": "code",
   "execution_count": 196,
   "metadata": {},
   "outputs": [
    {
     "data": {
      "text/plain": [
       "<matplotlib.legend.Legend at 0x1cdfdda8b70>"
      ]
     },
     "execution_count": 196,
     "metadata": {},
     "output_type": "execute_result"
    },
    {
     "data": {
      "image/png": "[encoded data removed]",
      "text/plain": [
       "<Figure size 432x288 with 1 Axes>"
      ]
     },
     "metadata": {
      "needs_background": "light"
     },
     "output_type": "display_data"
    }
   ],
   "source": [
    "plt.plot(tseq,Xn_first_mean2[:,0], label='p=3; x')\n",
    "plt.plot(tseq,x_bayes, label = 'bayes; x')\n",
    "plt.legend(loc='upper left')"
   ]
  },
  {
   "cell_type": "code",
   "execution_count": 197,
   "metadata": {},
   "outputs": [
    {
     "data": {
      "text/plain": [
       "<matplotlib.legend.Legend at 0x1cdfde0f940>"
      ]
     },
     "execution_count": 197,
     "metadata": {},
     "output_type": "execute_result"
    },
    {
     "data": {
      "image/png": "[encoded data removed]",
      "text/plain": [
       "<Figure size 432x288 with 1 Axes>"
      ]
     },
     "metadata": {
      "needs_background": "light"
     },
     "output_type": "display_data"
    }
   ],
   "source": [
    "plt.plot(tseq,Xn_first_mean2[:,1], label='p=3; x^{1}')\n",
    "plt.plot(tseq,v_bayes, label = 'bayes; x^{1}')\n",
    "plt.legend(loc='upper left')"
   ]
  }
 ],
 "metadata": {
  "kernelspec": {
   "display_name": "Python 3",
   "language": "python",
   "name": "python3"
  },
  "language_info": {
   "codemirror_mode": {
    "name": "ipython",
    "version": 3
   },
   "file_extension": ".py",
   "mimetype": "text/x-python",
   "name": "python",
   "nbconvert_exporter": "python",
   "pygments_lexer": "ipython3",
   "version": "3.7.3"
  }
 },
 "nbformat": 4,
 "nbformat_minor": 2
}
