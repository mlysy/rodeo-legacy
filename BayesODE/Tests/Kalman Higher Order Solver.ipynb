{
 "cells": [
  {
   "cell_type": "markdown",
   "metadata": {},
   "source": [
    "# Kalman Higher Order Solver\n",
    "$$\n",
    "% macros\n",
    "% bold letters\n",
    "\\newcommand{\\s}{\\sigma}\n",
    "\\renewcommand{\\aa}{{\\boldsymbol a}}\n",
    "\\newcommand{\\bb}{{\\boldsymbol b}}\n",
    "\\newcommand{\\cc}{{\\boldsymbol c}}\n",
    "\\newcommand{\\mm}{{\\boldsymbol m}}\n",
    "\\newcommand{\\ee}{{\\boldsymbol e}}\n",
    "\\newcommand{\\uu}{{\\boldsymbol u}}\n",
    "\\newcommand{\\hh}{{\\boldsymbol h}}\n",
    "\\newcommand{\\yy}{{\\boldsymbol y}}\n",
    "\\newcommand{\\xx}{{\\boldsymbol x}}\n",
    "\\newcommand{\\vv}{{\\boldsymbol v}}\n",
    "\\renewcommand{\\AA}{{\\boldsymbol A}}\n",
    "\\newcommand{\\BB}{{\\boldsymbol B}}\n",
    "\\newcommand{\\CC}{{\\boldsymbol C}}\n",
    "\\newcommand{\\DD}{{\\boldsymbol D}}\n",
    "\\newcommand{\\FF}{{\\boldsymbol F}}\n",
    "\\newcommand{\\LL}{{\\boldsymbol L}}\n",
    "\\newcommand{\\QQ}{{\\boldsymbol Q}}\n",
    "\\newcommand{\\VV}{{\\boldsymbol V}}\n",
    "\\newcommand{\\WW}{{\\boldsymbol W}}\n",
    "\\newcommand{\\XX}{{\\boldsymbol X}}\n",
    "\\newcommand{\\YY}{{\\boldsymbol Y}}\n",
    "\\newcommand{\\ZZ}{{\\boldsymbol Z}}\n",
    "\\newcommand{\\VVb}{{\\overline{\\boldsymbol V}_{\\infty}}}\n",
    "% bold symbols\n",
    "\\newcommand{\\eps}{{\\boldsymbol \\epsilon}}\n",
    "\\newcommand{\\eet}{{\\boldsymbol \\eta}}\n",
    "\\newcommand{\\rrh}{{\\boldsymbol \\rho}}\n",
    "\\newcommand{\\tth}{{\\boldsymbol \\theta}}\n",
    "\\newcommand{\\lla}{{\\boldsymbol \\lambda}}\n",
    "\\newcommand{\\mmu}{{\\boldsymbol \\mu}}\n",
    "\\newcommand{\\ssi}{{\\boldsymbol \\sigma}}\n",
    "\\newcommand{\\LLa}{{\\boldsymbol \\Lambda}}\n",
    "\\newcommand{\\GGa}{{\\boldsymbol \\Gamma}}\n",
    "\\newcommand{\\PPs}{{\\boldsymbol \\Psi}}\n",
    "\\newcommand{\\SSi}{{\\boldsymbol \\Sigma}}\n",
    "\\newcommand{\\bz}{{\\boldsymbol 0}}\n",
    "\\newcommand{\\Id}{{\\boldsymbol I}}\n",
    "\\newcommand{\\vi}{v^\\star}\n",
    "\\newcommand{\\vvi}{\\boldsymbol{v^\\star}}\n",
    "\\newcommand{\\pkg}[1]{\\textbf{#1}}\n",
    "\\newcommand{\\llab}{{\\bar{\\boldsymbol \\lambda}}}\n",
    "\\newcommand{\\ui}{u^\\star}\n",
    "\\newcommand{\\uui}{\\boldsymbol{u^\\star}}\n",
    "% other math\n",
    "\\DeclareMathOperator{\\bigO}{\\mathcal O}\n",
    "\\let\\vec\\relax\n",
    "\\DeclareMathOperator{\\vec}{vec}\n",
    "\\newcommand{\\ud}{\\, \\mathrm{d}}\n",
    "\\newcommand{\\iid}{\\stackrel{iid}{\\sim}}\n",
    "\\let\\sp=^\n",
    "\\DeclareMathOperator{\\var}{var}\n",
    "\\DeclareMathOperator{\\cov}{cov}\n",
    "\\newcommand{\\rv}[3][1]{#2_{#1},\\ldots,#2_{#3}}\n",
    "\\newcommand{\\lp}[1]{_{(#1)}}\n",
    "\\newcommand{\\N}{\\mathcal N}\n",
    "\\DeclareMathOperator{\\car}{CAR}\n",
    "\\newcommand{\\correct}[1]{[{\\color{red}#1}]}\n",
    "$$"
   ]
  },
  {
   "cell_type": "code",
   "execution_count": 1,
   "metadata": {},
   "outputs": [
    {
     "data": {
      "application/javascript": [
       "MathJax.Hub.Config({\n",
       "    TeX: { equationNumbers: { autoNumber: \"AMS\" } }\n",
       "});\n",
       "\n",
       "//Enable equation numbering\n"
      ],
      "text/plain": [
       "<IPython.core.display.Javascript object>"
      ]
     },
     "metadata": {},
     "output_type": "display_data"
    }
   ],
   "source": [
    "%%javascript\n",
    "MathJax.Hub.Config({\n",
    "    TeX: { equationNumbers: { autoNumber: \"AMS\" } }\n",
    "});\n",
    "\n",
    "//Enable equation numbering"
   ]
  },
  {
   "cell_type": "markdown",
   "metadata": {},
   "source": [
    "## The Continuous-Time Autoregressive Process"
   ]
  },
  {
   "cell_type": "markdown",
   "metadata": {},
   "source": [
    "The (mean-zero) Multivariate Ornstein-Uhlenbeck (mOU) process $\\XX_t = \\XX(t) = (\\rv [1t] X {dt})$is of the form\n",
    "\\begin{equation}\\label{eq:mou}\n",
    "\\ud \\XX_{t} = -\\GGa \\XX_{t} \\ud t + \\SSi^{1/2} \\ud \\BB_t,\n",
    "\\end{equation}\n",
    "where $\\GGa_{d\\times d} = \\QQ\\DD\\QQ^{-1}$,\n",
    "$\\SSi_{d\\times d}$ is a variance matrix, and $\\BB_t = (\\rv [1t] B {pt})$ are iid Brownian motions.\n",
    "\n",
    "A univariate process $Z_t$ is said to be $\\car(p)$ if it satisfies the equation\n",
    "\\begin{equation}\n",
    "  \\label{eq:car}\n",
    "  Z_t\\sp{p} + \\alpha_1 Z_t\\sp{p-1} + \\cdots + \\alpha_{p-1} Z_t\\sp{1} + \\alpha_p Z_t = \\s B_t\\sp 1,\n",
    "\\end{equation}\n",
    "where superscripts denote derivative order.  This process admits $p-1$ continuous derivatives, and in fact can be described by the $p$-dimensional mOU process~\\eqref{eq:mou} with $\\XX_t = (Z_t, Z_t\\sp 1, \\ldots, Z_t\\sp{p-1})$ and\n",
    "$$\n",
    "  \\GGa = \\begin{bmatrix}\n",
    "    0 & -1 & \\cdots & 0 \\\\\n",
    "    0 & 0 & \\cdots & 0 \\\\\n",
    "    \\vdots & & & \\\\\n",
    "    0 & 0 & \\cdots & -1 \\\\\n",
    "    \\alpha_p & \\alpha_{p-1} & \\cdots & \\alpha_1\n",
    "  \\end{bmatrix}, \\qquad \\SSi^{1/2} = \\begin{bmatrix}\n",
    "    0 & 0 & \\cdots & 0 \\\\\n",
    "    0 & 0 & \\cdots & 0 \\\\\n",
    "    \\vdots & & & \\\\\n",
    "    0 & 0 & \\cdots & 0 \\\\\n",
    "    0 & 0 & \\cdots & \\sigma\n",
    "  \\end{bmatrix}.\n",
    "$$\n",
    "Consider the $p$th order polynomial\n",
    "\\begin{equation}\\label{eq:carpoly}\n",
    "  \\alpha(s) = s^p + \\alpha_1s^{p-1} + \\cdots + \\alpha_{p-1} s + \\alpha_p = \\prod_{k=1}^p (s - r_k).\n",
    "\\end{equation}\n",
    "Then the diagonalization $\\GGa = \\QQ\\DD\\QQ^{-1}$ has terms $\\DD = diag(\\rv {-r} p)$ and\n",
    "\\begin{equation}\\label{eq:careig}\n",
    "  \\QQ = \\begin{bmatrix}\n",
    "    1 & 1 & \\cdots & 1 \\\\\n",
    "    r_1 & r_2 & \\cdots & r_p \\\\\n",
    "    \\vdots & & & \\\\\n",
    "    r_1^{p-1} & r_2^{p-1} & \\cdots & r_p^{p-1}\n",
    "  \\end{bmatrix}.\n",
    "\\end{equation}"
   ]
  },
  {
   "cell_type": "markdown",
   "metadata": {},
   "source": [
    "## Kalman ODE Algorithm "
   ]
  },
  {
   "cell_type": "markdown",
   "metadata": {},
   "source": [
    "### Setup \n",
    "\n",
    "Let $x(t)$ be a $q$ times continuously differentiable function satisfying the higher-order ODE\n",
    "\\begin{equation}\n",
    "  \\label{eq:ode}\n",
    "  \\aa'\\XX(t) = f(\\XX(t), t) = 0, \\qquad t \\in [0, T], \\qquad \\XX(0) = \\cc,\n",
    "\\end{equation}\n",
    "where $\\XX(t) = \\big(x^{(0)}(t), x^{(1)}(t), \\ldots, x^{(q)}(t)\\big)$.\n",
    "The goal is to approximate the ODE at time points $t_n = nT/N$ for $n = 0,\\ldots,N$.  To do this, the Bayesian ODE solver begins with a Gaussian process prior distribution on $\\XX(t)$, and updates the distribution of $\\XX(t)$ based on noisy observations -- or \\emph{interrogations} -- which shall be defined momentarily.  The prior distribution we consider is\n",
    "\\begin{equation}\n",
    "  \\label{eq:prior}\n",
    "  \\YY(t) = \\big(\\XX(t), \\ZZ(t)\\big) \\sim \\car_p(\\lla, \\rrh, \\sigma),\n",
    "\\end{equation}\n",
    "where $\\YY(t) = \\big(x(t), x^{(1)}(t), \\ldots, x^{(p-1)}(t)\\big)$ is a $p-1$ times differentiable process, $p>q$, and $\\car_p(\\rrh, \\sigma)$ denotes a continuous autoregressive process with mean $\\lla = (\\rv \\lambda p)$, roots $\\rrh = (\\rv \\rho p)$ and scale parameter $\\sigma > 0$.  Let $\\YY_n = (x^{(0)}_n, \\ldots, x^{(p-1)}_n)$ be shorthand for $\\YY(t_n) = \\big(x^{(0)}(t_n), \\ldots, x^{(p-1)}(t_n)\\big)$, and similarly for $\\XX_n$ and $\\ZZ_n$.  Then we have\n",
    "\\begin{equation}\n",
    "  \\label{eq:markov}\n",
    "    \\YY_n = \\AA \\YY_{n-1} + \\bb + \\CC \\eps_n,\n",
    "\\end{equation}\n",
    "where $\\bb = \\lla - \\AA\\lla$ and $\\eps_n \\iid \\N(\\bz, \\Id_p)$.  For stationary CAR processes, we have the initial condition $\\YY_0 \\sim \\N(\\lla, \\VV_{\\infty})$.\n"
   ]
  },
  {
   "cell_type": "markdown",
   "metadata": {},
   "source": [
    "### Bayesian ODE Solution\n",
    "The procedure below produces a stochastic sequence of variables $\\rv [0] \\YY N$ that contains $\\rv [0] \\XX N$ which converges to the true ODE solution as $N \\to \\infty$. The algorithm sequentially generates a sequence of model interrogations $\\rv [0] {\\ui} N$, where $\\ui_n$ is a noisy realization of $u_n = \\aa'\\XX_n$.  Then, it updates the solution prior with the information provided by $\\uui_{0:n}$.\n",
    "\n",
    "First consider the process of choosing $\\ZZ_0$ given $\\XX_0 = \\cc$ using the matrix decomposition\n",
    "$$\n",
    "  \\lla = \\begin{bmatrix} \\lla\\sp {X} \\\\ \\lla\\sp {Z} \\end{bmatrix}, \\qquad \\VV_{\\infty} = \\begin{bmatrix} \\VV_{\\infty}\\sp {XX} & \\VV_{\\infty}\\sp {XZ} \\\\ \\VV_{\\infty}\\sp {ZX} & \\VV_{\\infty}\\sp {ZZ} \\end{bmatrix}.\n",
    "$$\n",
    "\n",
    "Using the multivariate normal conditional formula to find the mean and variance of the conditional distribution $p(\\ZZ_0 \\mid \\XX_0 = \\cc) \\sim \\N(\\llab, \\VVb)$, where \n",
    "  \\begin{align*}\n",
    "    \\llab & = \\lla\\sp {Z} + \\VV_{\\infty}\\sp {ZX} [\\VV_{\\infty}\\sp{XX }]^{-1}(c - \\lla\\sp {X})  \\\\\n",
    "    \\VVb & = \\VV_{\\infty}\\sp {ZZ} - \\VV_{\\infty}\\sp {ZX} [\\VV_{\\infty}\\sp {XX}]^{-1} \\VV_{\\infty}\\sp {XZ}.\n",
    "  \\end{align*}"
   ]
  },
  {
   "cell_type": "markdown",
   "metadata": {},
   "source": [
    "Let $\\mmu_{n|m}$ and $\\SSi_{n|m}$ correspond to the mean and variance of $p(\\YY_n \\mid \\uui_{0:m})$.\n",
    "\n",
    "**Base Case.**  At time $t_0 = 0$, we have the exact solution $\\XX_0 = \\cc$ and the initially drawn $\\ZZ_0 \\sim N(\\llab, \\VVb)$.  In this case, the model interrogation is noise-free, i.e., $u_0^\\star = \\aa'\\cc$, $\\mmu_{0|0} = \\YY_0$ and $\\SSi_{0|0} = \\bz_{p\\times p}$.\n",
    "\n",
    "**Forward Steps.**  Suppose that we have calculated $\\mmu_{n-1|n-1}$ and $\\SSi_{n-1|n-1}$, the mean and variance of $p(\\YY_{n-1} \\mid \\uui_{0:n-1})$.  Then our predictive distribution for $\\YY_{n}$ given the current information is\n",
    "$$\n",
    "    \\YY_{n} \\mid \\uui_{0:n-1} \\sim \\N(\\mmu_{n|n-1}, \\SSi_{n|n-1}),\n",
    "$$\n",
    "  where\n",
    "  \\begin{align*}\n",
    "    \\mmu_{n|n-1} & = E[E[\\YY_{n} \\mid \\YY_{n-1}, \\uui_{0:n-1}] \\mid \\uui_{0:n-1}] \\\\\n",
    "                 & = \\AA \\mmu_{n-1|n-1} + \\bb \\\\\n",
    "    \\SSi_{n|n-1} & = \\var(E[\\YY_{n} \\mid \\YY_{n-1}, \\uui_{0:n-1}] \\mid \\uui_{0:n-1}) + E[\\var(\\YY_{n} \\mid \\YY_{n-1}, \\uui_{0:n-1}) \\mid \\uui_{0:n-1}] \\\\\n",
    "                 & = \\AA\\SSi_{n-1|n-1}\\AA' + \\CC\\CC'.\n",
    "  \\end{align*}\n",
    "  The interative step then proceeds in two parts:\n",
    "  \n",
    "  i. *Model Interrogation.* The variable $\\ui_{n}$ is generated as follows:\n",
    "    \\begin{align*}\n",
    "      \\YY_n^\\star & \\sim \\N(\\mmu_{n|n-1}, \\SSi_{n|n-1}) \\implies \\YY_n^\\star = \\mmu_{n|n-1} + \\DD \\rrh_n\\\\ \n",
    "      \\ui_n & = f(\\XX_n^\\star, t_n),\n",
    "    \\end{align*}\n",
    "    where $t_n = nT/N$, $\\DD$ is the cholesky decomposition of $\\SSi_{n|n-1}$ and  $\\rrh_n \\iid \\N(\\bz_{p}, \\Id_{p})$.\n",
    "    \n",
    "  ii. *Update.* The mean and variance $\\mmu_{n|n}$ and $\\SSi_{n|n}$ of $p(\\YY_n \\mid \\uui_{0:n})$ are then calculated using the usual Kalman filter equations for the state space model\n",
    "    \\begin{equation}\n",
    "      \\begin{aligned}\n",
    "        \\YY_n & = \\AA \\YY_{n-1} + \\bb + \\CC \\eps_n \\\\\n",
    "        \\ui_n & = \\aa'\\YY_n + \\s_n \\eta_n,\n",
    "      \\end{aligned}\n",
    "      \\label{eq:kfwd}\n",
    "    \\end{equation}\n",
    "    where $\\s_n^2 = \\aa_\\star'\\SSi_{n|n-1}\\aa_\\star$ and $\\eta_n \\iid \\N(0,1)$ is independent of $\\eps_{0:N}$.  The first line in \\eqref{eq:kfwd} is recognized as the Markov process for the prior, whereas the second line specifies how the noisy interrogation $\\ui_n$ is related to $u_n$.\n",
    "\n",
    "**Smoothing Step.**  Now that we have calculated $\\uui_{0:N}$ and $\\ssi_{0:N}$, apply the Kalman smoother to obtain the mean and variance of $p(\\YY_n \\mid \\uui_{0:N})$ for each $n = 0,\\ldots,N$. Then the mean and variance of $p(\\XX_n \\mid \\uui_{0:N})$ can be obtained from $p(\\YY_n \\mid \\uui_{0:N})$ to approximate the ODE solution.\n"
   ]
  },
  {
   "cell_type": "code",
   "execution_count": 2,
   "metadata": {},
   "outputs": [],
   "source": [
    "import numpy as np\n",
    "from math import exp, sqrt\n",
    "import matplotlib.pyplot as plt\n",
    "import BayesODE as bo\n",
    "from BayesODE import var_car, cov_car\n",
    "from BayesODE.Tests.root_gen import root_gen\n",
    "from BayesODE.Tests.V_euler import V_euler\n",
    "from BayesODE.utils import mvCond\n",
    "from BayesODE._mou_car import _mou_car\n",
    "from BayesODE.kalman_initial_draw import kalman_initial_draw\n",
    "from BayesODE.kalman_ode_higher import kalman_ode_higher\n",
    "from BayesODE.higher_mvCond import higher_mvCond\n",
    "from BayesODE.Tests.test_exp_integrate import cov_yy_ex"
   ]
  },
  {
   "cell_type": "markdown",
   "metadata": {},
   "source": [
    "## Example (6) in Chkrebtii Paper"
   ]
  },
  {
   "cell_type": "markdown",
   "metadata": {},
   "source": [
    "As a simple example, consider the second order initial value ODE problem,\n",
    "\n",
    "$$\n",
    "\\begin{align*}\n",
    "x^{(2)}(t) &= sin(2t) − x, \\quad t ∈ [0, 10], \\\\\n",
    "x^{(1)}(0) &= 0, \\quad x(0) = −1. \n",
    "\\end{align*}\n",
    "$$\n",
    "\n",
    "\n",
    "Its exact solution, $x^{\\star}(t) = \\frac{−3 cos(t) + 2 sin(t) − sin(2t)}{3}$"
   ]
  },
  {
   "cell_type": "code",
   "execution_count": 3,
   "metadata": {},
   "outputs": [],
   "source": [
    "from math import sin, cos\n",
    "def chk_F(y_t, t):\n",
    "    return sin(2*t) - y_t[0] #X^{2} = sing(2t) - X\n",
    "\n",
    "def chk_exact_x(t):\n",
    "    return (-3*cos(t) + 2*sin(t) - sin(2*t))/3\n",
    "\n",
    "def chk_exact_x1(t):\n",
    "    return (-2*cos(2*t) + 3*sin(t) + 2*cos(t))/3"
   ]
  },
  {
   "cell_type": "code",
   "execution_count": 4,
   "metadata": {},
   "outputs": [],
   "source": [
    "N = 100\n",
    "q = 2\n",
    "p = q+2\n",
    "\n",
    "delta_t = np.array([1/N])\n",
    "r0 = 0.5\n",
    "sigma = 0.001\n",
    "roots = root_gen(r0, p) #Generate roots to draw x^{(3)}_0\n",
    "a = np.array([0,0,1])\n",
    "x0 = np.array([-1,0,0])\n",
    "x0 = np.array([-1,0,chk_F(x0, 0)]) #Initial state\n",
    "\n",
    "Y0 = kalman_initial_draw(roots, sigma, x0, p)\n",
    "A, V = higher_mvCond(delta_t, roots, sigma) \n",
    "b = np.zeros(p)\n",
    "\n",
    "Yn_chk_mean, Yn_chk_var = kalman_ode_higher(chk_F, Y0, N-1, A, b, V, a)"
   ]
  },
  {
   "cell_type": "code",
   "execution_count": 5,
   "metadata": {},
   "outputs": [
    {
     "data": {
      "text/plain": [
       "<matplotlib.legend.Legend at 0x2418f855b00>"
      ]
     },
     "execution_count": 5,
     "metadata": {},
     "output_type": "execute_result"
    },
    {
     "data": {
      "image/png": "[encoded data removed]",
      "text/plain": [
       "<Figure size 432x288 with 1 Axes>"
      ]
     },
     "metadata": {
      "needs_background": "light"
     },
     "output_type": "display_data"
    }
   ],
   "source": [
    "N = 100\n",
    "tseq = np.linspace(0,1,N)\n",
    "exact_chk_x = np.zeros(N)\n",
    "exact_chk_x1 = np.zeros(N)\n",
    "for t in range(N):\n",
    "    exact_chk_x[t] = chk_exact_x(tseq[t])\n",
    "    exact_chk_x1[t] = chk_exact_x1(tseq[t])\n",
    "plt.plot(tseq,exact_chk_x,label='x')\n",
    "plt.plot(tseq,exact_chk_x1,label='x^{1}')\n",
    "plt.legend(loc='upper left')"
   ]
  },
  {
   "cell_type": "code",
   "execution_count": 6,
   "metadata": {},
   "outputs": [
    {
     "data": {
      "text/plain": [
       "<matplotlib.legend.Legend at 0x2418f8ff470>"
      ]
     },
     "execution_count": 6,
     "metadata": {},
     "output_type": "execute_result"
    },
    {
     "data": {
      "image/png": "[encoded data removed]",
      "text/plain": [
       "<Figure size 432x288 with 1 Axes>"
      ]
     },
     "metadata": {
      "needs_background": "light"
     },
     "output_type": "display_data"
    }
   ],
   "source": [
    "kalman_chk_x = Yn_chk_mean[:,0]\n",
    "plt.plot(tseq,kalman_chk_x, label = 'kalman')\n",
    "plt.plot(tseq,exact_chk_x, label = 'Chkrebtii')\n",
    "plt.legend(loc='upper left')"
   ]
  },
  {
   "cell_type": "code",
   "execution_count": 7,
   "metadata": {},
   "outputs": [
    {
     "data": {
      "text/plain": [
       "<matplotlib.legend.Legend at 0x2418f970f28>"
      ]
     },
     "execution_count": 7,
     "metadata": {},
     "output_type": "execute_result"
    },
    {
     "data": {
      "image/png": "[encoded data removed]",
      "text/plain": [
       "<Figure size 432x288 with 1 Axes>"
      ]
     },
     "metadata": {
      "needs_background": "light"
     },
     "output_type": "display_data"
    }
   ],
   "source": [
    "kalman_chk_x1 = Yn_chk_mean[:,1]\n",
    "plt.plot(tseq,kalman_chk_x1, label = 'kalman')\n",
    "plt.plot(tseq,exact_chk_x1, label = 'Chkrebtii')\n",
    "plt.legend(loc='upper left')"
   ]
  },
  {
   "cell_type": "markdown",
   "metadata": {},
   "source": [
    "## Textbook example 2 in 3.1"
   ]
  },
  {
   "cell_type": "code",
   "execution_count": 8,
   "metadata": {},
   "outputs": [],
   "source": [
    "from math import exp\n",
    "\n",
    "def text_F(y_t, t):\n",
    "    return 4*y_t[0] + 12*t\n",
    "\n",
    "def text_exact_x(t):\n",
    "    return 3*exp(2*t) + exp(-2*t) -3*t\n",
    "\n",
    "def text_exact_x1(t):\n",
    "    return 6*exp(2*t)-2*exp(-2*t)-3\n"
   ]
  },
  {
   "cell_type": "code",
   "execution_count": 9,
   "metadata": {},
   "outputs": [],
   "source": [
    "N = 100\n",
    "q = 2\n",
    "p = q+2\n",
    "\n",
    "delta_t = np.array([1/N])\n",
    "r0 = 0.5\n",
    "sigma = 0.001\n",
    "roots = root_gen(r0, p) #Generate roots to draw x^{(3)}_0\n",
    "a = np.array([0,0,1])\n",
    "x0 = np.array([4,1,0])\n",
    "x0 = np.array([4,1,text_F(x0, 0)]) #Initial state\n",
    "\n",
    "Y0 = kalman_initial_draw(roots, sigma, x0, p)\n",
    "A, V = higher_mvCond(delta_t, roots, sigma) \n",
    "b = np.zeros(p)\n",
    "\n",
    "Yn_text_mean, Yn_text_var = kalman_ode_higher(text_F, Y0, N-1, A, b, V, a)"
   ]
  },
  {
   "cell_type": "code",
   "execution_count": 10,
   "metadata": {},
   "outputs": [
    {
     "data": {
      "text/plain": [
       "<matplotlib.legend.Legend at 0x241909bc320>"
      ]
     },
     "execution_count": 10,
     "metadata": {},
     "output_type": "execute_result"
    },
    {
     "data": {
      "image/png": "[encoded data removed]",
      "text/plain": [
       "<Figure size 432x288 with 1 Axes>"
      ]
     },
     "metadata": {
      "needs_background": "light"
     },
     "output_type": "display_data"
    }
   ],
   "source": [
    "N = 100\n",
    "tseq = np.linspace(0,1,N)\n",
    "exact_text_x = np.zeros(N)\n",
    "exact_text_x1 = np.zeros(N)\n",
    "for t in range(N):\n",
    "    exact_text_x[t] = text_exact_x(tseq[t])\n",
    "    exact_text_x1[t] = text_exact_x1(tseq[t])\n",
    "plt.plot(tseq,exact_text_x,label='x')\n",
    "plt.plot(tseq,exact_text_x1,label='x^{1}')\n",
    "plt.legend(loc='upper left')"
   ]
  },
  {
   "cell_type": "code",
   "execution_count": 11,
   "metadata": {},
   "outputs": [
    {
     "data": {
      "text/plain": [
       "<matplotlib.legend.Legend at 0x24190a265f8>"
      ]
     },
     "execution_count": 11,
     "metadata": {},
     "output_type": "execute_result"
    },
    {
     "data": {
      "image/png": "[encoded data removed]",
      "text/plain": [
       "<Figure size 432x288 with 1 Axes>"
      ]
     },
     "metadata": {
      "needs_background": "light"
     },
     "output_type": "display_data"
    }
   ],
   "source": [
    "kalman_text_x = Yn_text_mean[:,0]\n",
    "plt.plot(tseq,kalman_text_x, label= 'kalman')\n",
    "plt.plot(tseq,exact_text_x, label = 'text')\n",
    "plt.legend(loc='upper left')"
   ]
  },
  {
   "cell_type": "code",
   "execution_count": 12,
   "metadata": {},
   "outputs": [
    {
     "data": {
      "text/plain": [
       "[<matplotlib.lines.Line2D at 0x24190a62eb8>]"
      ]
     },
     "execution_count": 12,
     "metadata": {},
     "output_type": "execute_result"
    },
    {
     "data": {
      "image/png": "[encoded data removed]",
      "text/plain": [
       "<Figure size 432x288 with 1 Axes>"
      ]
     },
     "metadata": {
      "needs_background": "light"
     },
     "output_type": "display_data"
    }
   ],
   "source": [
    "kalman_text_x1 = Yn_text_mean[:,1]\n",
    "plt.plot(tseq,kalman_text_x1)\n",
    "plt.plot(tseq,exact_text_x1)"
   ]
  },
  {
   "cell_type": "markdown",
   "metadata": {},
   "source": [
    "## First Order ODE example"
   ]
  },
  {
   "cell_type": "code",
   "execution_count": 13,
   "metadata": {},
   "outputs": [],
   "source": [
    "def first_F(y_t,t):\n",
    "    return 3*(t+1/4) - y_t[0]/(t+1/4)\n",
    "\n",
    "def f(y, t):\n",
    "    return 3*(t+1/4) - y/(t+1/4)"
   ]
  },
  {
   "cell_type": "code",
   "execution_count": null,
   "metadata": {},
   "outputs": [],
   "source": [
    "t0 = 0\n",
    "tn = 1\n",
    "x0 = 0\n",
    "N = 100\n",
    "tseq = np.linspace(t0, tn, N)\n",
    "gamma = 1.67\n",
    "alpha = 1000\n",
    "\n",
    "Sigma_vv = bo.cov_vv_ex(tseq, tseq, gamma, alpha)\n",
    "Sigma_xx = bo.cov_xx_ex(tseq, tseq, gamma, alpha)\n",
    "Sigma_xv = bo.cov_xv_ex(tseq, tseq, gamma, alpha)\n",
    "x_bayes,_,_ = bo.bayes_ode(f, tseq, x0, Sigma_vv, Sigma_xx, Sigma_xv)"
   ]
  },
  {
   "cell_type": "code",
   "execution_count": null,
   "metadata": {},
   "outputs": [],
   "source": [
    "v_bayes = np.zeros(N)\n",
    "for i in range(N):\n",
    "    v_bayes[i] = f(x_bayes[i], tseq[i])\n",
    "y_bayes = list(zip(x_bayes,v_bayes))"
   ]
  },
  {
   "cell_type": "code",
   "execution_count": null,
   "metadata": {},
   "outputs": [],
   "source": [
    "gamma = 1.67\n",
    "alpha = 1000\n",
    "Sigma = cov_yy_ex(tseq[1:3], tseq[1:3], gamma, alpha)\n",
    "icond = np.array([True]*2 + [False]*2)\n",
    "mu = np.array([0, 0, 0, 0])\n",
    "A, b, V = mvCond(mu, Sigma, icond)"
   ]
  },
  {
   "cell_type": "code",
   "execution_count": null,
   "metadata": {},
   "outputs": [],
   "source": [
    "N = 100\n",
    "q = 1\n",
    "p = q+1\n",
    "\n",
    "delta_t = np.array([1/N])\n",
    "r0 = np.random.uniform()\n",
    "r0 = 0.5\n",
    "sigma = 0.0001\n",
    "roots = root_gen(r0, p) \n",
    "a = np.array([0,1])\n",
    "x0 = np.array([0,0])\n",
    "x0 = np.array([0,first_F(x0,0)]) #Initial state\n",
    "Y0 = kalman_initial_draw(roots, sigma, x0, p)\n",
    "A, V = higher_mvCond(delta_t, roots, sigma) \n",
    "b = np.zeros(p)\n",
    "\n",
    "Yn_first_mean1, Yn_first_var1 = kalman_ode_higher(first_F, Y0, N-1, A, b, V, a)"
   ]
  },
  {
   "cell_type": "code",
   "execution_count": null,
   "metadata": {},
   "outputs": [],
   "source": [
    "plt.plot(tseq,Yn_first_mean1[:,0], label='p=2; x')\n",
    "plt.plot(tseq,x_bayes, label = 'bayes; x')\n",
    "plt.legend(loc='upper left')"
   ]
  },
  {
   "cell_type": "code",
   "execution_count": null,
   "metadata": {},
   "outputs": [],
   "source": [
    "plt.plot(tseq,Yn_first_mean1[:,1], label='p=2; x^{1}')\n",
    "plt.plot(tseq,v_bayes, label = 'bayes; x^{1}')\n",
    "plt.legend(loc='upper left')"
   ]
  },
  {
   "cell_type": "code",
   "execution_count": null,
   "metadata": {},
   "outputs": [],
   "source": [
    "N = 100\n",
    "q = 1\n",
    "p = q+2\n",
    "\n",
    "delta_t = np.array([1/N])\n",
    "r0 = 0.5\n",
    "sigma = 0.0001\n",
    "roots = root_gen(r0, p)\n",
    "a = np.array([0,1])\n",
    "x0 = np.array([0,0])\n",
    "x0 = np.array([0,first_F(x0,0)]) #Initial state\n",
    "Y0 = kalman_initial_draw(roots, sigma, x0, p)\n",
    "A, V = higher_mvCond(delta_t, roots, sigma) \n",
    "b = np.zeros(p)\n",
    "\n",
    "Yn_first_mean2, Yn_first_var2 = kalman_ode_higher(first_F, Y0, N-1, A, b, V, a)"
   ]
  },
  {
   "cell_type": "code",
   "execution_count": null,
   "metadata": {},
   "outputs": [],
   "source": [
    "plt.plot(tseq,Yn_first_mean2[:,0], label='p=3; x')\n",
    "plt.plot(tseq,x_bayes, label = 'bayes; x')\n",
    "plt.legend(loc='upper left')"
   ]
  },
  {
   "cell_type": "code",
   "execution_count": null,
   "metadata": {},
   "outputs": [],
   "source": [
    "plt.plot(tseq,Yn_first_mean2[:,1], label='p=3; x^{1}')\n",
    "plt.plot(tseq,v_bayes, label = 'bayes; x^{1}')\n",
    "plt.legend(loc='upper left')"
   ]
  }
 ],
 "metadata": {
  "kernelspec": {
   "display_name": "Python 3",
   "language": "python",
   "name": "python3"
  },
  "language_info": {
   "codemirror_mode": {
    "name": "ipython",
    "version": 3
   },
   "file_extension": ".py",
   "mimetype": "text/x-python",
   "name": "python",
   "nbconvert_exporter": "python",
   "pygments_lexer": "ipython3",
   "version": "3.7.3"
  }
 },
 "nbformat": 4,
 "nbformat_minor": 2
}
