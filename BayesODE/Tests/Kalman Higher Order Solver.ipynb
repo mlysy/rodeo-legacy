{
 "cells": [
  {
   "cell_type": "markdown",
   "metadata": {},
   "source": [
    "# Kalman Higher Order Solver\n",
    "\n",
    "$$\n",
    "\\newcommand{\\var}{\\operatorname{var}}\n",
    "\\newcommand{\\cov}{\\operatorname{cov}}\n",
    "\\newcommand{\\N}{\\mathcal N}\n",
    "\\newcommand{\\vi}{v^\\star}\n",
    "$$"
   ]
  },
  {
   "cell_type": "markdown",
   "metadata": {},
   "source": [
    "## Higher Order Solver\n",
    "\n",
    "Let $y_t = (x^{(0)}_t, x^{(1)}_t, \\ldots, x^{(q)}_t)$, such that the ODE is defined as\n",
    "\n",
    "$$\n",
    "a' y_t = F(y_t, t), \\qquad y_0 = b,\n",
    "$$\n",
    "\n",
    "where $a_{q \\times 1}$.  Note that this setup is somewhat flexible.  For instance you could use it to solve the ODE\n",
    "\n",
    "$$\n",
    "x^{(2)}_t + 2 x^{(1)}_t + \\sin(x_t) + t = 0, \\qquad x_0 = 2, \\quad x^{(1)}_0 = 1.\n",
    "$$\n",
    "\n",
    "Then we could write\n",
    "\n",
    "$$\n",
    "a = (0, 1, 0), \\quad F(y_t, t) = \\frac{-x^{(2)}_t - \\sin(x_t) - t}{2},\n",
    "$$\n",
    "\n",
    "or we could write\n",
    "\n",
    "$$\n",
    "a = (0, 2, 1), \\quad F(y_t,t) = -\\sin(x_t) - t.\n",
    "$$\n",
    "\n",
    "The solution prior is going to be on the CAR$(p)$ process $X_t = (x^{(0)}_t, \\ldots, x^{(p-1)}_t)$ where $p > q$, such that the solution assumes at least $q-1$ continuous derivatives.\n",
    "\n",
    "The algorithm goes like this:\n",
    "\n",
    "1.  Let $X_0$ be compatible with $y_0 = c$.  I think a simple default is to assume that $X_0 \\sim \\N(0, V_{\\infty})$, then condition on $y_0 = c$.  The first model interrogation is deterministic: $v_0^\\star = F(y_0, 0)$ with variance $\\Sigma_0^\\star = 0$.\n",
    "2.  Model interrogation:  Given that we have used the KF to store the mean and variance of $p(X_n \\mid v_{0:n}^\\star)$,\n",
    "    - Do one forward step from Markov process $X_{n+1} \\sim p(X_{n+1} \\mid X_{0:n})$, via \n",
    "    \n",
    "        $$\n",
    "        X_n \\sim p(X_n \\mid v_{0:n}^\\star), \\qquad X_{n+1} \\sim p(X_{n+1} \\mid X_n).\n",
    "        $$\n",
    "        \n",
    "    - Interrogate $v_{n+1}^\\star = F(y_{n+1}, t_{n+1})$, and calculate $\\Sigma_{n+1}^\\star = \\var(a'y_{n+1} \\mid v_{0:n}^{\\star})$.\n",
    "3.  Forward-pass update $p(X_{n+1} \\mid v_{0:n+1}^\\star)$, where the observation model is\n",
    "\n",
    "    $$\n",
    "    v_{n+1}^\\star \\sim \\N(a'y_{n+1}, \\Sigma_{n+1}^\\star),\n",
    "    $$\n",
    "        \n",
    "    where $y_{n+1}$ are the first $p+1$ elements of $X_{n+1}$.\n",
    "4.  Once you've done this for $N$ steps, backward-pass update (KF smoothing) to get $p(X_{0:N} \\mid v_{0:N}^{\\star})$. "
   ]
  },
  {
   "cell_type": "code",
   "execution_count": null,
   "metadata": {},
   "outputs": [],
   "source": [
    "import numpy as np\n",
    "from math import exp, sqrt\n",
    "import matplotlib.pyplot as plt\n",
    "from BayesODE import var_car, cov_car\n",
    "from BayesODE.Tests.root_gen import root_gen\n",
    "from BayesODE.Tests.V_euler import V_euler\n",
    "from BayesODE.utils import mvCond\n",
    "from BayesODE._mou_car import _mou_car\n",
    "from BayesODE.kalman_ode import filter_update_full"
   ]
  },
  {
   "cell_type": "code",
   "execution_count": null,
   "metadata": {},
   "outputs": [],
   "source": [
    "def kalman_initial_draw(roots, sigma, y0, p):\n",
    "    \n",
    "    \"\"\"Computes the initial draw X0 for the kalman process X_0 ~ N(0, V_inf)`\n",
    "    \n",
    "    Parameters\n",
    "    ----------\n",
    "    \n",
    "    roots: [p] :obj:`numpy.ndarray` of float\n",
    "        Roots to the p-th order polynomial of the car(p) process (roots must be negative)\n",
    "    sigma: float\n",
    "        Parameter in mOU volatility matrix\n",
    "    y0: [q] :obj:`numpy.ndarray` of float\n",
    "        Initial conditions of the ode\n",
    "    p: float\n",
    "        Size of X0\n",
    "\n",
    "    Returns\n",
    "    -------\n",
    "    \n",
    "    X0: [p] :obj:`numpy.ndarray` of float\n",
    "        Simulate X0 ~ N(0, V_inf) conditioned on y0.\n",
    "    \"\"\"\n",
    "    q = len(y0) - 1\n",
    "    X0 = np.zeros(p)    #Initialize p sized initial X0\n",
    "    V_inf = cov_car([], roots, sigma, v_infinity=True)    #Get V_inf to draw X^{{q+1} ... (p-1)}_0\n",
    "    icond = np.array([True]*(q+1) + [False]*(p-q-1))   #Conditioned on all but X^{{q+1} ... (p-1)}_0\n",
    "    A, b, V = mvCond(np.zeros(p), V_inf, icond)    #Get mean and variance for p(z_0 | y_0 = c) where z_0 = X_0 \\setminus y_0\n",
    "    z_0 = np.random.multivariate_normal(A.dot(y0) + b, V)    #Draw X^{(p-1)}_0\n",
    "    X0[:q+1] = y0    #Replace x^{(0), (1), (2) ... (q)}}_0 with y_0\n",
    "    X0[q+1:] = z_0\n",
    "    \n",
    "    return X0"
   ]
  },
  {
   "cell_type": "markdown",
   "metadata": {},
   "source": [
    "Given \n",
    "    $$\n",
    "    X_{t+\\Delta t} \\mid X_t \\sim \\N(e^{-\\Gamma \\Delta t} X_t, V_{\\Delta t}).\n",
    "    $$\n",
    "we can calculate $X_{n+1} \\sim p(X_{n+1} \\mid X_n)$ using `var_car` on $\\Delta t = 1/N$.\n",
    "\n",
    "So using the old variables we have:\n",
    "    $$\n",
    "    \\begin{align*}\n",
    "    A &= e^{-\\Gamma \\Delta t} \\\\\n",
    "    V &= V_{\\Delta t}\n",
    "    \\end{align*}\n",
    "    $$"
   ]
  },
  {
   "cell_type": "code",
   "execution_count": 3,
   "metadata": {},
   "outputs": [],
   "source": [
    "def higher_mvCond(delta_t, roots, sigma):\n",
    "    \n",
    "    \"\"\"Calculate A, and V in X_{n+1} ~ p(X_{n+1} | X_n) using \n",
    "    .. :math: `A = e^{-\\\\Gamma \\\\Delta t}` and \n",
    "    .. :math: `V = V_{\\\\Delta t}`.\n",
    "        \n",
    "    Parameters\n",
    "    ----------\n",
    "    \n",
    "    delta_t: [1] :obj:`numpy.ndarray` of float\n",
    "        Step size between simulation points\n",
    "    roots: [p] :obj:`numpy.ndarray` of float\n",
    "        Roots to the p-th order polynomial of the car(p) process (roots must be negative)\n",
    "    sigma: float\n",
    "        Parameter in mOU volatility matrix\n",
    "\n",
    "    Returns\n",
    "    -------\n",
    "    \n",
    "    A: [p,p]  :obj:`numpy.ndarray` of float\n",
    "        :math: `A = e^{-\\\\Gamma \\\\Delta t}`\n",
    "    V: [p,p] :obj:`numpy.ndarray` of float\n",
    "        :math: `V = V_{\\\\Delta t}`\n",
    "    \"\"\"\n",
    "\n",
    "    delta = np.array(-roots)\n",
    "    _, Q = _mou_car(roots, sigma)\n",
    "    Q_inv = np.linalg.pinv(Q)\n",
    "    V = var_car(delta_t, roots, sigma)[0]\n",
    "    A = np.matmul(Q_inv.T * np.exp(-delta * delta_t[0]), Q.T)\n",
    "    \n",
    "    return A, V   "
   ]
  },
  {
   "cell_type": "code",
   "execution_count": 55,
   "metadata": {},
   "outputs": [],
   "source": [
    "def kalman_ode_higher(fun, X0, N, A, V, a):\n",
    "    from pykalman import standard as pks\n",
    "    \"\"\"Probabilistic ODE solver based on the Kalman filter and smoother.\n",
    "\n",
    "    Returns an approximate solution to the higher order ODE\n",
    "\n",
    "    .. math:: a' y_t = F(y_t, t)= f(y_t, t)\n",
    "    \n",
    "    where :math: y_t = (x^{(0)}_t, x^{(1)}_t, \\\\ldots, x^{(q)}_t) on the interval :math:`t \\in [0, 1]`, with initial condition :math:`y_0 = y0`\n",
    "    and :math: X_0 = (x^{(0)}_t, x^{(1)}_t, \\\\ldots, x^{(p)}_t) for p > q+1.\n",
    "    Parameters\n",
    "    ----------\n",
    "\n",
    "    fun : function \n",
    "        Higher order ODE function :math: a' y_t = F(y_t, t) taking arguments `y` and `t`.\n",
    "    X0 : float\n",
    "        Initial value of :math:`x_t` at time :math:`t = 0`.\n",
    "    N : int\n",
    "        Number of discretization points of the time interval,\n",
    "        such that discretization timestep is `dt = 1/N`.\n",
    "    A : [p, p] \n",
    "        Transition matrix defining the solution prior (see below).\n",
    "    V : [p, p] :obj:`numpy.ndarray`\n",
    "        Variance matrix defining the solution prior. \n",
    "        \n",
    "        .. math:: y_{n+1} = A y_n + V^{1/2} \\epsilon_n, \\qquad \\epsilon_n \\stackrel{iid}{\\sim} \\mathcal N(0, I_2).\n",
    "    a : [p]\n",
    "        Observation vector\n",
    "    \n",
    "    Returns\n",
    "    -------\n",
    "\n",
    "    Xn_mean : [N+1, p] :obj:`numpy.ndarray`\n",
    "        Posterior mean of the solution process and its derivative :math:`y_n = (x_n, v_n)` at times :math:`t = 0,1/N,\\ldots,1`.\n",
    "    Xn_var : [N+1, p, p] :obj:`numpy.ndarray`\n",
    "        Posterior variance of the solution process and its derivatives at times :math:`t = 0,1/N,\\ldots,1`.\n",
    "    \"\"\"\n",
    "    \n",
    "    # notation consistent with pykalman package\n",
    "    n_dim_obs = 1\n",
    "    n_dim_state = len(X0)\n",
    "    n_timesteps = N+1\n",
    "\n",
    "    # allocate memory\n",
    "    vs = np.zeros((n_timesteps,n_dim_obs)) \n",
    "\n",
    "    # var(vs_n | y_n), to be determined during the interrogation process\n",
    "    sig2 = np.zeros((n_timesteps, n_dim_obs, n_dim_obs))\n",
    "\n",
    "    # solution process\n",
    "    # forward mean and variance.\n",
    "    mu = np.zeros((n_timesteps, n_dim_state)) # E[y_n | vs_0:n]\n",
    "    # var(y_n | vs_0:n)\n",
    "    Sigma = np.zeros((n_timesteps, n_dim_state, n_dim_state))\n",
    "\n",
    "    # arguments to use low-level pykalman functions\n",
    "    observations = vs\n",
    "    observation_matrix = a\n",
    "    observation_offset = np.array([0.])\n",
    "    observation_covariances = sig2 # multidimensional\n",
    "    transition_matrix = np.array(A)\n",
    "    transition_offset = np.zeros(n_dim_state)\n",
    "    transition_covariance = np.array(V) # single dimensional\n",
    "    filtered_state_means = mu\n",
    "    filtered_state_covariances = Sigma\n",
    "    predicted_state_means = np.zeros((n_timesteps, n_dim_state))\n",
    "    predicted_state_covariances = np.zeros((n_timesteps, n_dim_state, n_dim_state))\n",
    "    # initialize things\n",
    "    mu[0] = X0\n",
    "    vs[0] = X0.dot(a[0])\n",
    "    predicted_state_means[0] = mu[0]\n",
    "    predicted_state_covariances[0] = Sigma[0]\n",
    "\n",
    "    # forward pass: merging pks._filter to accommodate multiple\n",
    "    # observation_covariances\n",
    "    # calculate mu_tt = E[y_t | vs_0:t-1] and\n",
    "    # Sigma_tt = var(y_t | vs_0:t-1)\n",
    "\n",
    "    for t in range(N):\n",
    "        Xt = np.random.multivariate_normal(mu[0], Sigma[0]) # X_n ~ p(X_n | v_{0:n}*)\n",
    "        X_tt = np.dot(A, Xt)\n",
    "        Sigma_tt = np.linalg.multi_dot([A, Sigma[t], A.T]) + V #A*Sigma[n]*A.T + V \n",
    "        sig2[t+1] = np.linalg.multi_dot([a, Sigma_tt, a.T]) # new observation_covariance\n",
    "        Xt1 = np.random.multivariate_normal(X_tt, Sigma_tt) #X_{n+1} ~ p(X_{n+1} | X_n)\n",
    "        vs[t+1] = fun(Xt1,(t+1)/N) #new observation (v_{n+1})\n",
    "\n",
    "        (predicted_state_means[t+1], predicted_state_covariances[t+1],\n",
    "                 _, filtered_state_means[t+1],\n",
    "                 filtered_state_covariances[t+1]) = (\n",
    "                     filter_update_full(filtered_state_mean = filtered_state_means[t],\n",
    "                                        filtered_state_covariance = filtered_state_covariances[t],\n",
    "                                        observation = observations[t+1],\n",
    "                                        transition_matrix = transition_matrix,\n",
    "                                        transition_offset = transition_offset,\n",
    "                                        transition_covariance = transition_covariance,\n",
    "                                        observation_matrix = observation_matrix,\n",
    "                                        observation_offset = observation_offset,\n",
    "                                        observation_covariance = observation_covariances[t+1])\n",
    "                 )\n",
    "    # backward pass\n",
    "    (smoothed_state_means, smoothed_state_covariances, _) = (\n",
    "        pks._smooth(\n",
    "            transition_matrix, filtered_state_means,\n",
    "            filtered_state_covariances, predicted_state_means,\n",
    "            predicted_state_covariances\n",
    "        )\n",
    "    )\n",
    "    Xn_mean = smoothed_state_means\n",
    "    Xn_var = smoothed_state_covariances\n",
    "    return Xn_mean, Xn_var"
   ]
  },
  {
   "cell_type": "markdown",
   "metadata": {},
   "source": [
    "## Tests"
   ]
  },
  {
   "cell_type": "code",
   "execution_count": 56,
   "metadata": {},
   "outputs": [],
   "source": [
    "from math import sin\n",
    "def F(y_t, t):\n",
    "    return -2*y_t[1] - sin(y_t[0]) -t\n"
   ]
  },
  {
   "cell_type": "code",
   "execution_count": 57,
   "metadata": {},
   "outputs": [],
   "source": [
    "N = 100\n",
    "q = 2\n",
    "p = q+2\n",
    "\n",
    "delta_t = np.array([1/N])\n",
    "r0 = np.random.uniform()\n",
    "sigma = np.random.uniform()\n",
    "roots = root_gen(r0, p) #Generate roots to draw x^{(3)}_0\n",
    "\n",
    "a = np.array([[0,0,1,0]])\n",
    "x0 = np.array([2,1,0])\n",
    "y0 = np.array([2,1,F(x0, 0)]) #Initial state\n",
    "\n",
    "X0 = kalman_initial_draw(roots, sigma, y0, p)\n",
    "A, V = higher_mvCond(delta_t, roots, sigma) \n",
    "\n",
    "Xn_mean, Xn_var = kalman_ode_higher(F, X0, N, A, V, a)"
   ]
  },
  {
   "cell_type": "code",
   "execution_count": 58,
   "metadata": {},
   "outputs": [
    {
     "data": {
      "text/plain": [
       "(array([[ 2.        ,  1.        , -2.90929743, -1.33311602],\n",
       "        [ 2.01045   ,  1.08857078, -2.87200681, -5.74223325],\n",
       "        [ 2.05508984,  1.40325065, -2.36430912,  1.17119019],\n",
       "        [ 2.0461003 ,  1.36452531, -2.43581596,  2.85268614],\n",
       "        [ 2.02407454,  1.23968767, -2.65177949,  2.75505695],\n",
       "        [ 2.00281428,  1.11967149, -2.86352605,  2.12644758],\n",
       "        [ 1.98643678,  1.03165213, -3.025847  ,  1.45094669],\n",
       "        [ 1.97530372,  0.97806727, -3.13374864,  0.91805104],\n",
       "        [ 1.96830717,  0.95166027, -3.19850106,  0.51486978],\n",
       "        [ 1.96443959,  0.94582658, -3.23016981,  0.27005866],\n",
       "        [ 1.9624716 ,  0.95248701, -3.24158269,  0.13643331],\n",
       "        [ 1.96154024,  0.96596727, -3.24177256,  0.07796036],\n",
       "        [ 1.9610623 ,  0.98242965, -3.23700366,  0.04196684],\n",
       "        [ 1.96086329,  1.00072809, -3.22889791,  0.05961517],\n",
       "        [ 1.96052711,  1.01811971, -3.22202331,  0.08086105],\n",
       "        [ 1.96002591,  1.03442042, -3.21638718,  0.16200449],\n",
       "        [ 1.95889527,  1.04656359, -3.21723213,  0.22544135],\n",
       "        [ 1.95727275,  1.05545011, -3.22324368,  0.2550733 ],\n",
       "        [ 1.95542068,  1.06280576, -3.23167986,  0.25940694],\n",
       "        [ 1.95353534,  1.06992371, -3.24029676,  0.2812125 ],\n",
       "        [ 1.95148124,  1.07590947, -3.25063446,  0.29608898],\n",
       "        [ 1.94931219,  1.08111601, -3.26221542,  0.28973183],\n",
       "        [ 1.94719289,  1.08662978, -3.2730068 ,  0.32606033],\n",
       "        [ 1.94479231,  1.09026714, -3.28657453,  0.38162688],\n",
       "        [ 1.94196137,  1.09104124, -3.30468734,  0.41697025],\n",
       "        [ 1.93885707,  1.08998348, -3.32572631,  0.43413338],\n",
       "        [ 1.93562051,  1.08802134, -3.34839705,  0.40266019],\n",
       "        [ 1.93262888,  1.08764217, -3.36867699,  0.34309182],\n",
       "        [ 1.93009997,  1.09028535, -3.38416678,  0.27895385],\n",
       "        [ 1.928069  ,  1.09618804, -3.39445978,  0.2126472 ],\n",
       "        [ 1.92655261,  1.1054655 , -3.39914592,  0.1844369 ],\n",
       "        [ 1.92525516,  1.11617289, -3.40120629,  0.20699352],\n",
       "        [ 1.92378287,  1.12571438, -3.4048637 ,  0.25299398],\n",
       "        [ 1.92195402,  1.13288856, -3.41226846,  0.27326404],\n",
       "        [ 1.91996827,  1.1390093 , -3.42128974,  0.28203832],\n",
       "        [ 1.91791484,  1.14466312, -3.43111941,  0.25805004],\n",
       "        [ 1.9160478 ,  1.15152554, -3.4390927 ,  0.2060663 ],\n",
       "        [ 1.91458418,  1.16103103, -3.44263265,  0.18645515],\n",
       "        [ 1.91327276,  1.17152647, -3.44434107,  0.19740441],\n",
       "        [ 1.91187651,  1.18144943, -3.44673861,  0.22629588],\n",
       "        [ 1.91025632,  1.1898815 , -3.45126182,  0.27608911],\n",
       "        [ 1.90825019,  1.19575175, -3.45962953,  0.34314244],\n",
       "        [ 1.90572442,  1.19817345, -3.47354297,  0.37147255],\n",
       "        [ 1.90297952,  1.19912357, -3.48993036,  0.35614985],\n",
       "        [ 1.90035407,  1.20083472, -3.50493572,  0.3653421 ],\n",
       "        [ 1.89765793,  1.20205296, -3.52075246,  0.35654486],\n",
       "        [ 1.89503063,  1.20369841, -3.5358128 ,  0.35284048],\n",
       "        [ 1.89243264,  1.20551073, -3.55062042,  0.33561416],\n",
       "        [ 1.8899688 ,  1.20818233, -3.5639332 ,  0.33393863],\n",
       "        [ 1.88751848,  1.21091801, -3.57720427,  0.30778429],\n",
       "        [ 1.88527149,  1.21497066, -3.58827913,  0.2916243 ],\n",
       "        [ 1.88315024,  1.21983022, -3.5980371 ,  0.26930813],\n",
       "        [ 1.88120242,  1.22581251, -3.60597248,  0.24089814],\n",
       "        [ 1.87947521,  1.23323106, -3.61142126,  0.2381682 ],\n",
       "        [ 1.87776939,  1.24077356, -3.61652048,  0.2462444 ],\n",
       "        [ 1.87600113,  1.24788727, -3.62216876,  0.2594049 ],\n",
       "        [ 1.87413105,  1.25431158, -3.62879662,  0.27432759],\n",
       "        [ 1.87214551,  1.2599557 , -3.63651688,  0.29796215],\n",
       "        [ 1.86997699,  1.26437216, -3.64632445,  0.27455133],\n",
       "        [ 1.8679904 ,  1.26996743, -3.65407023,  0.27478117],\n",
       "        [ 1.86600232,  1.27553362, -3.66160708,  0.30836589],\n",
       "        [ 1.86375411,  1.27936357, -3.67189821,  0.32215842],\n",
       "        [ 1.86139935,  1.28246828, -3.68322023,  0.34325592],\n",
       "        [ 1.85888144,  1.28447301, -3.69625631,  0.35499931],\n",
       "        [ 1.85627297,  1.28585506, -3.71026053,  0.35742051],\n",
       "        [ 1.85364627,  1.28709077, -3.72444441,  0.35879766],\n",
       "        [ 1.85100945,  1.28823344, -3.73871458,  0.36134569],\n",
       "        [ 1.84835343,  1.28922284, -3.75324538,  0.34961114],\n",
       "        [ 1.84578897,  1.29078918, -3.76696697,  0.30745067],\n",
       "        [ 1.84355197,  1.29449002, -3.77727077,  0.26374254],\n",
       "        [ 1.8416543 ,  1.30040734, -3.78388876,  0.24319801],\n",
       "        [ 1.83991621,  1.30735881, -3.78863509,  0.25294328],\n",
       "        [ 1.83810273,  1.31379579, -3.79404475,  0.27330537],\n",
       "        [ 1.83613156,  1.31917462, -3.80097715,  0.30431127],\n",
       "        [ 1.83392024,  1.32294953, -3.81033718,  0.33880249],\n",
       "        [ 1.83144182,  1.3249402 , -3.8225044 ,  0.36027305],\n",
       "        [ 1.82879739,  1.32581084, -3.83640481,  0.37631003],\n",
       "        [ 1.82602914,  1.32583754, -3.85180737,  0.34840527],\n",
       "        [ 1.82347788,  1.32726784, -3.86498409,  0.3133602 ],\n",
       "        [ 1.82119888,  1.33046861, -3.87533386,  0.27416652],\n",
       "        [ 1.81922421,  1.33565409, -3.88249719,  0.23256005],\n",
       "        [ 1.81757246,  1.34295086, -3.88598065,  0.24359392],\n",
       "        [ 1.81583528,  1.34966757, -3.89028499,  0.25453783],\n",
       "        [ 1.8140134 ,  1.35580888, -3.89519972,  0.30544369],\n",
       "        [ 1.81179698,  1.3593297 , -3.90402109,  0.38381164],\n",
       "        [ 1.8089732 ,  1.35882077, -3.91945597,  0.39780927],\n",
       "        [ 1.80604148,  1.35757151, -3.93603668,  0.40705621],\n",
       "        [ 1.80303871,  1.35582391, -3.95345884,  0.39840929],\n",
       "        [ 1.80010366,  1.35449225, -3.97044077,  0.34084585],\n",
       "        [ 1.79761565,  1.3560801 , -3.98280635,  0.27817015],\n",
       "        [ 1.79561414,  1.36085292, -3.98991113,  0.25134704],\n",
       "        [ 1.7938209 ,  1.36698035, -3.99458562,  0.26747232],\n",
       "        [ 1.7919028 ,  1.37226688, -4.00029258,  0.32463178],\n",
       "        [ 1.78954169,  1.37461121, -4.01073494,  0.34729712],\n",
       "        [ 1.78700522,  1.37577479, -4.02310748,  0.34390406],\n",
       "        [ 1.78449556,  1.37708938, -4.03530611,  0.31706408],\n",
       "        [ 1.78219449,  1.37975515, -4.04526501,  0.30076253],\n",
       "        [ 1.78002023,  1.38323431, -4.05388875,  0.28247839],\n",
       "        [ 1.77798808,  1.38762913, -4.06102909,  0.25824929],\n",
       "        [ 1.77614409,  1.39324485, -4.06617096,  0.23329537],\n",
       "        [ 1.7744938 ,  1.40011944, -4.06938213,  0.18071954]]),\n",
       " array([[[ 0.00000000e+00,  0.00000000e+00,  0.00000000e+00,\n",
       "           0.00000000e+00],\n",
       "         [ 0.00000000e+00,  0.00000000e+00,  0.00000000e+00,\n",
       "           0.00000000e+00],\n",
       "         [ 0.00000000e+00,  0.00000000e+00,  0.00000000e+00,\n",
       "           0.00000000e+00],\n",
       "         [ 0.00000000e+00,  0.00000000e+00,  0.00000000e+00,\n",
       "           0.00000000e+00]],\n",
       " \n",
       "        [[-6.46510259e-16,  7.32995749e-15,  1.20874174e-12,\n",
       "           5.52984448e-11],\n",
       "         [ 7.28030857e-15,  2.06445809e-12,  4.25148956e-10,\n",
       "           2.36375992e-08],\n",
       "         [ 1.20886411e-12,  4.25148616e-10,  9.81239131e-08,\n",
       "           7.85678645e-06],\n",
       "         [ 5.52757096e-11,  2.36375605e-08,  7.85678662e-06,\n",
       "           1.87757709e-03]],\n",
       " \n",
       "        [[ 1.12904357e-07,  7.44824746e-07,  1.18099266e-06,\n",
       "          -2.90745102e-07],\n",
       "         [ 7.44824746e-07,  4.91357860e-06,  7.79197400e-06,\n",
       "          -1.85976358e-06],\n",
       "         [ 1.18099263e-06,  7.79197384e-06,  1.25905533e-05,\n",
       "           1.44477076e-05],\n",
       "         [-2.90750878e-07, -1.85980164e-06,  1.44476471e-05,\n",
       "           3.38451285e-03]],\n",
       " \n",
       "        ...,\n",
       " \n",
       "        [[ 1.82072053e-06,  1.20309740e-05,  1.85227553e-05,\n",
       "           8.99511528e-07],\n",
       "         [ 1.20309740e-05,  7.95554533e-05,  1.22552323e-04,\n",
       "           8.46525620e-06],\n",
       "         [ 1.85227553e-05,  1.22552323e-04,  1.95524931e-04,\n",
       "           8.18509059e-05],\n",
       "         [ 8.99511526e-07,  8.46525618e-06,  8.18509058e-05,\n",
       "           1.13966992e-02]],\n",
       " \n",
       "        [[ 2.49065783e-06,  1.64492102e-05,  2.51758256e-05,\n",
       "          -6.10447225e-05],\n",
       "         [ 1.64492101e-05,  1.08694308e-04,  1.66428566e-04,\n",
       "          -4.00049804e-04],\n",
       "         [ 2.51758256e-05,  1.66428566e-04,  2.61628904e-04,\n",
       "          -5.33620981e-04],\n",
       "         [-6.10447225e-05, -4.00049804e-04, -5.33620981e-04,\n",
       "           1.71271514e-02]],\n",
       " \n",
       "        [[ 4.46494958e-06,  2.94821611e-05,  4.51547626e-05,\n",
       "          -1.86460327e-04],\n",
       "         [ 2.94821611e-05,  1.94729706e-04,  2.98315350e-04,\n",
       "          -1.22795462e-03],\n",
       "         [ 4.51547626e-05,  2.98315350e-04,  4.63840587e-04,\n",
       "          -1.80298551e-03],\n",
       "         [-1.86460327e-04, -1.22795462e-03, -1.80298551e-03,\n",
       "           2.50954662e-02]]]))"
      ]
     },
     "execution_count": 58,
     "metadata": {},
     "output_type": "execute_result"
    }
   ],
   "source": [
    "Xn_mean, Xn_var"
   ]
  },
  {
   "cell_type": "markdown",
   "metadata": {},
   "source": [
    "## Example (6) in Chkrebtii Paper"
   ]
  },
  {
   "cell_type": "markdown",
   "metadata": {},
   "source": [
    "As a simple example, consider the second order initial value ODE problem,\n",
    "\n",
    "$$\n",
    "\\begin{align*}\n",
    "u_{tt}(t) &= sin(2t) − u, \\quad t ∈ [0, 10], \\\\\n",
    "u_t(0) &= 0, \\quad u(0) = −1. \n",
    "\\end{align*}\n",
    "$$\n",
    "\n",
    "\n",
    "Its exact solution, $u^{\\star}(t) = \\frac{−3 cos(t) + 2 sin(t) − sin(2t)}{3}$"
   ]
  },
  {
   "cell_type": "code",
   "execution_count": 96,
   "metadata": {},
   "outputs": [],
   "source": [
    "from math import sin, cos\n",
    "def chk_F(y_t, t):\n",
    "    return sin(2*t) - y_t[0] #X^{2} = sing(2t) - X\n",
    "\n",
    "def chk_exact_x(t):\n",
    "    return (-3*cos(t) + 2*sin(t) - sin(2*t))/3\n",
    "\n",
    "def chk_exact_x1(t):\n",
    "    return (-2*cos(2*t) + 3*sin(t) + 2*cos(t))/3"
   ]
  },
  {
   "cell_type": "code",
   "execution_count": 151,
   "metadata": {},
   "outputs": [],
   "source": [
    "N = 100\n",
    "q = 2\n",
    "p = q+2\n",
    "\n",
    "delta_t = np.array([1/N])\n",
    "#r0 = np.random.uniform()\n",
    "#sigma = np.random.uniform()\n",
    "r0 = 0.3\n",
    "sigma = 1\n",
    "roots = root_gen(r0, p) #Generate roots to draw x^{(3)}_0\n",
    "a = np.array([[0,0,1,0]])\n",
    "x0 = np.array([-1,0,0])\n",
    "y0 = np.array([-1,0,chk_F(x0, 0)]) #Initial state\n",
    "\n",
    "X0 = kalman_initial_draw(roots, sigma, y0, p)\n",
    "A, V = higher_mvCond(delta_t, roots, sigma) \n",
    "\n",
    "Xn_chk_mean, Xn_chk_var = kalman_ode_higher(chk_F, X0, N-1, A, V, a)"
   ]
  },
  {
   "cell_type": "code",
   "execution_count": 149,
   "metadata": {},
   "outputs": [],
   "source": [
    "def kalman_tune(fun, r0p, sigmap, p, x0, y0, a, exact_sol_x):\n",
    "    minerr = 1e10\n",
    "    for r0 in r0p:\n",
    "        for sigma in sigmap:\n",
    "            roots = root_gen(r0, p) #Generate roots to draw x^{(3)}_0\n",
    "            try:\n",
    "                X0 = kalman_initial_draw(roots, sigma, y0, p)\n",
    "                A, V = higher_mvCond(delta_t, roots, sigma) \n",
    "                kalman_x = kalman_ode_higher(fun, X0, N-1, A, V, a)[0][:,0]\n",
    "                err = sum((exact_sol_x - kalman_x)**2)\n",
    "                if err < minerr:\n",
    "                    minerr = err\n",
    "                    minr0 = r0\n",
    "                    minsigma = sigma\n",
    "            except:\n",
    "                continue\n",
    "    return minr0, minsigma\n"
   ]
  },
  {
   "cell_type": "code",
   "execution_count": 150,
   "metadata": {},
   "outputs": [
    {
     "data": {
      "text/plain": [
       "(0.30000000000000004, 0.6)"
      ]
     },
     "execution_count": 150,
     "metadata": {},
     "output_type": "execute_result"
    }
   ],
   "source": [
    "r0p = np.linspace(0.1, 1, 10)\n",
    "sigmap = np.linspace(0.1,1,10)\n",
    "kalman_tune(chk_F, r0p, sigmap, p, x0, y0, a, exact_chk_x)"
   ]
  },
  {
   "cell_type": "code",
   "execution_count": 152,
   "metadata": {},
   "outputs": [
    {
     "data": {
      "text/plain": [
       "<matplotlib.legend.Legend at 0x1ac871061d0>"
      ]
     },
     "execution_count": 152,
     "metadata": {},
     "output_type": "execute_result"
    },
    {
     "data": {
      "image/png": "[encoded data removed]",
      "text/plain": [
       "<Figure size 432x288 with 1 Axes>"
      ]
     },
     "metadata": {
      "needs_background": "light"
     },
     "output_type": "display_data"
    }
   ],
   "source": [
    "N = 100\n",
    "tseq = np.linspace(0,1,N)\n",
    "exact_chk_x = np.zeros(N)\n",
    "exact_chk_x1 = np.zeros(N)\n",
    "for t in range(N):\n",
    "    exact_chk_x[t] = chk_exact_x(tseq[t])\n",
    "    exact_chk_x1[t] = chk_exact_x1(tseq[t])\n",
    "plt.plot(tseq,exact_chk_x,label='x')\n",
    "plt.plot(tseq,exact_chk_x1,label='x^{1}')\n",
    "plt.legend(loc='upper left')"
   ]
  },
  {
   "cell_type": "code",
   "execution_count": 153,
   "metadata": {},
   "outputs": [
    {
     "data": {
      "text/plain": [
       "[<matplotlib.lines.Line2D at 0x1ac871f9b00>]"
      ]
     },
     "execution_count": 153,
     "metadata": {},
     "output_type": "execute_result"
    },
    {
     "data": {
      "image/png": "[encoded data removed]",
      "text/plain": [
       "<Figure size 432x288 with 1 Axes>"
      ]
     },
     "metadata": {
      "needs_background": "light"
     },
     "output_type": "display_data"
    }
   ],
   "source": [
    "kalman_chk_x = Xn_chk_mean[:,0]\n",
    "plt.plot(tseq,kalman_chk_x)\n",
    "plt.plot(tseq,exact_chk_x)"
   ]
  },
  {
   "cell_type": "code",
   "execution_count": 154,
   "metadata": {},
   "outputs": [
    {
     "data": {
      "text/plain": [
       "[<matplotlib.lines.Line2D at 0x1ac87253a90>]"
      ]
     },
     "execution_count": 154,
     "metadata": {},
     "output_type": "execute_result"
    },
    {
     "data": {
      "image/png": "[encoded data removed]",
      "text/plain": [
       "<Figure size 432x288 with 1 Axes>"
      ]
     },
     "metadata": {
      "needs_background": "light"
     },
     "output_type": "display_data"
    }
   ],
   "source": [
    "kalman_chk_x1 = Xn_chk_mean[:,1]\n",
    "plt.plot(tseq,kalman_chk_x1)\n",
    "plt.plot(tseq,exact_chk_x1)"
   ]
  },
  {
   "cell_type": "markdown",
   "metadata": {},
   "source": [
    "## Textbook example 2 in 3.1"
   ]
  },
  {
   "cell_type": "code",
   "execution_count": 155,
   "metadata": {},
   "outputs": [],
   "source": [
    "from math import exp\n",
    "\n",
    "def text_F(y_t, t):\n",
    "    return 4*y_t[0] + 12*t\n",
    "\n",
    "def text_exact_x(t):\n",
    "    return 3*exp(2*t) + exp(-2*t) -3*t\n",
    "\n",
    "def text_exact_x1(t):\n",
    "    return 6*exp(2*t)-2*exp(-2*t)-3\n"
   ]
  },
  {
   "cell_type": "code",
   "execution_count": 156,
   "metadata": {},
   "outputs": [
    {
     "data": {
      "text/plain": [
       "(0.5, 0.7000000000000001)"
      ]
     },
     "execution_count": 156,
     "metadata": {},
     "output_type": "execute_result"
    }
   ],
   "source": [
    "r0p = np.linspace(0.1, 1, 10)\n",
    "sigmap = np.linspace(0.1,1,10)\n",
    "kalman_tune(text_F, r0p, sigmap, p, x0, y0, a, exact_text_x)"
   ]
  },
  {
   "cell_type": "code",
   "execution_count": 157,
   "metadata": {},
   "outputs": [],
   "source": [
    "N = 100\n",
    "q = 2\n",
    "p = q+2\n",
    "\n",
    "delta_t = np.array([1/N])\n",
    "#r0 = np.random.uniform()\n",
    "#sigma = np.random.uniform()\n",
    "r0 = 0.5\n",
    "sigma = 0.7\n",
    "roots = root_gen(r0, p) #Generate roots to draw x^{(3)}_0\n",
    "a = np.array([[0,0,1,0]])\n",
    "x0 = np.array([4,1,0])\n",
    "y0 = np.array([4,1,text_F(x0, 0)]) #Initial state\n",
    "\n",
    "X0 = kalman_initial_draw(roots, sigma, y0, p)\n",
    "A, V = higher_mvCond(delta_t, roots, sigma) \n",
    "\n",
    "Xn_text_mean, Xn_text_var = kalman_ode_higher(text_F, X0, N-1, A, V, a)"
   ]
  },
  {
   "cell_type": "code",
   "execution_count": 139,
   "metadata": {},
   "outputs": [
    {
     "data": {
      "text/plain": [
       "<matplotlib.legend.Legend at 0x1ac870a50f0>"
      ]
     },
     "execution_count": 139,
     "metadata": {},
     "output_type": "execute_result"
    },
    {
     "data": {
      "image/png": "[encoded data removed]",
      "text/plain": [
       "<Figure size 432x288 with 1 Axes>"
      ]
     },
     "metadata": {
      "needs_background": "light"
     },
     "output_type": "display_data"
    }
   ],
   "source": [
    "N = 100\n",
    "tseq = np.linspace(0,1,N)\n",
    "exact_text_x = np.zeros(N)\n",
    "exact_text_x1 = np.zeros(N)\n",
    "for t in range(N):\n",
    "    exact_text_x[t] = text_exact_x(tseq[t])\n",
    "    exact_text_x1[t] = text_exact_x1(tseq[t])\n",
    "plt.plot(tseq,exact_text_x,label='x')\n",
    "plt.plot(tseq,exact_text_x1,label='x^{1}')\n",
    "plt.legend(loc='upper left')"
   ]
  },
  {
   "cell_type": "code",
   "execution_count": 158,
   "metadata": {},
   "outputs": [
    {
     "data": {
      "text/plain": [
       "[<matplotlib.lines.Line2D at 0x1ac8729e160>]"
      ]
     },
     "execution_count": 158,
     "metadata": {},
     "output_type": "execute_result"
    },
    {
     "data": {
      "image/png": "[encoded data removed]",
      "text/plain": [
       "<Figure size 432x288 with 1 Axes>"
      ]
     },
     "metadata": {
      "needs_background": "light"
     },
     "output_type": "display_data"
    }
   ],
   "source": [
    "kalman_text_x = Xn_text_mean[:,0]\n",
    "plt.plot(tseq,kalman_text_x)\n",
    "plt.plot(tseq,exact_text_x)"
   ]
  },
  {
   "cell_type": "code",
   "execution_count": 159,
   "metadata": {},
   "outputs": [
    {
     "data": {
      "text/plain": [
       "[<matplotlib.lines.Line2D at 0x1ac87322048>]"
      ]
     },
     "execution_count": 159,
     "metadata": {},
     "output_type": "execute_result"
    },
    {
     "data": {
      "image/png": "[encoded data removed]",
      "text/plain": [
       "<Figure size 432x288 with 1 Axes>"
      ]
     },
     "metadata": {
      "needs_background": "light"
     },
     "output_type": "display_data"
    }
   ],
   "source": [
    "kalman_text_x1 = Xn_text_mean[:,1]\n",
    "plt.plot(tseq,kalman_text_x1)\n",
    "plt.plot(tseq,exact_text_x1)"
   ]
  }
 ],
 "metadata": {
  "kernelspec": {
   "display_name": "Python 3",
   "language": "python",
   "name": "python3"
  },
  "language_info": {
   "codemirror_mode": {
    "name": "ipython",
    "version": 3
   },
   "file_extension": ".py",
   "mimetype": "text/x-python",
   "name": "python",
   "nbconvert_exporter": "python",
   "pygments_lexer": "ipython3",
   "version": "3.7.3"
  }
 },
 "nbformat": 4,
 "nbformat_minor": 2
}
