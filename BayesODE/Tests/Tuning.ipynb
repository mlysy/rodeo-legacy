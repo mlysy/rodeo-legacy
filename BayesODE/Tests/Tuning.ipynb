{
 "cells": [
  {
   "cell_type": "code",
   "execution_count": 1,
   "metadata": {},
   "outputs": [],
   "source": [
    "import matplotlib.pyplot as plt\n",
    "import numpy as np\n",
    "from numpy.random import uniform as runif\n",
    "from scipy import integrate\n",
    "import BayesODE.Bayesian as bo"
   ]
  },
  {
   "cell_type": "code",
   "execution_count": 2,
   "metadata": {},
   "outputs": [],
   "source": [
    "def f(x,t):\n",
    "    return  3*(t+1/4) - x/(t+1/4)\n",
    "\n",
    "a = 0\n",
    "b = 4.75\n",
    "x0_f1 = 10\n",
    "N = 100\n",
    "tseq1 = np.linspace(a, b, N)"
   ]
  },
  {
   "cell_type": "code",
   "execution_count": 3,
   "metadata": {},
   "outputs": [],
   "source": [
    "from math import pi, sin, cos\n",
    "def f2(x, t):\n",
    "    return -x + sin(t)+ cos(t) \n",
    "\n",
    "a = 0\n",
    "b = 6*pi\n",
    "x0_f2 = 1\n",
    "N = 100\n",
    "tseq2 = np.linspace(a, b, N)"
   ]
  },
  {
   "cell_type": "code",
   "execution_count": 4,
   "metadata": {},
   "outputs": [],
   "source": [
    "gammap = np.linspace(0.01, 2, 50)\n",
    "alphap = np.linspace(1000,1000,1)"
   ]
  },
  {
   "cell_type": "code",
   "execution_count": 5,
   "metadata": {},
   "outputs": [],
   "source": [
    "def tune(model, f, alphap, gammap, tseq, x0):\n",
    "    x = integrate.odeint(f,x0,tseq)\n",
    "    x = [i for l in x for i in l]\n",
    "    minerr = float('inf')\n",
    "    if model == \"se\":\n",
    "        cov_vv = bo.cov_vv_se\n",
    "        cov_xv = bo.cov_xv_se\n",
    "        cov_xx = bo.cov_xx_se\n",
    "    elif model == \"ex\":\n",
    "        cov_vv = bo.cov_vv_ex\n",
    "        cov_xv = bo.cov_xv_ex\n",
    "        cov_xx = bo.cov_xx_ex\n",
    "    elif model == \"re\":\n",
    "        cov_vv = bo.cov_vv_re\n",
    "        cov_xv = bo.cov_xv_re\n",
    "        cov_xx = bo.cov_xx_re\n",
    "    else:\n",
    "        raise ValueError(\"Invalid covariance type.\")\n",
    "    for alpha in alphap:\n",
    "        for gamma in gammap:\n",
    "            try:\n",
    "                Sigma_vv = cov_vv(tseq, tseq, gamma, alpha)\n",
    "                Sigma_xx = cov_xx(tseq, tseq, gamma, alpha)\n",
    "                Sigma_xv = cov_xv(tseq, tseq, gamma, alpha)\n",
    "                xt1, _, _= bo.bayes_ode(f, tseq, x0, Sigma_vv, Sigma_xx, Sigma_xv)\n",
    "                err = sum((xt1 - x)**2)\n",
    "                if err < minerr:\n",
    "                    minerr = err\n",
    "                    mingamma = gamma\n",
    "                    minalpha = alpha\n",
    "            except:\n",
    "                continue\n",
    "    return minalpha, mingamma"
   ]
  },
  {
   "cell_type": "code",
   "execution_count": 6,
   "metadata": {},
   "outputs": [],
   "source": [
    "alpha_exp2, gamma_exp2 = tune('se', f, alphap, gammap, tseq1, x0_f1)\n",
    "alpha_exp, gamma_exp = tune('ex', f, alphap, gammap, tseq1, x0_f1)\n",
    "alpha_rect, gamma_rect = tune('re', f, alphap, gammap, tseq1, x0_f1)"
   ]
  },
  {
   "cell_type": "code",
   "execution_count": 7,
   "metadata": {},
   "outputs": [
    {
     "data": {
      "image/png": "[encoded data removed]",
      "text/plain": [
       "<Figure size 432x288 with 1 Axes>"
      ]
     },
     "metadata": {
      "needs_background": "light"
     },
     "output_type": "display_data"
    }
   ],
   "source": [
    "Sigma_vv = bo.cov_vv_se(tseq1, tseq1, gamma_exp2, alpha_exp2)\n",
    "Sigma_xx = bo.cov_xx_se(tseq1, tseq1, gamma_exp2, alpha_exp2)\n",
    "Sigma_xv = bo.cov_xv_se(tseq1, tseq1, gamma_exp2, alpha_exp2)\n",
    "xt1,_,_ = bo.bayes_ode(f, tseq1, x0_f1, Sigma_vv, Sigma_xx, Sigma_xv)\n",
    "\n",
    "Sigma_vv = bo.cov_vv_re(tseq1, tseq1, gamma_rect, alpha_rect)\n",
    "Sigma_xx = bo.cov_xx_re(tseq1, tseq1, gamma_rect, alpha_rect)\n",
    "Sigma_xv = bo.cov_xv_re(tseq1, tseq1, gamma_rect, alpha_rect)\n",
    "xt2,_,_ = bo.bayes_ode(f, tseq1, x0_f1, Sigma_vv, Sigma_xx, Sigma_xv)\n",
    "\n",
    "Sigma_vv = bo.cov_vv_ex(tseq1, tseq1, gamma_exp, alpha_exp)\n",
    "Sigma_xx = bo.cov_xx_ex(tseq1, tseq1, gamma_exp, alpha_exp)\n",
    "Sigma_xv = bo.cov_xv_ex(tseq1, tseq1, gamma_exp, alpha_exp)\n",
    "xt3,_,_ = bo.bayes_ode(f, tseq1, x0_f1, Sigma_vv, Sigma_xx, Sigma_xv)\n",
    "\n",
    "plt.plot(tseq1, xt1, label = 'exp2')\n",
    "plt.plot(tseq1, xt2, label = 'rect')\n",
    "plt.plot(tseq1, xt3, label = 'exp')\n",
    "plt.legend(loc='upper left')\n",
    "\n",
    "x = integrate.odeint(f,x0_f1,tseq1)\n",
    "plt.scatter(tseq1, x, facecolor = 'none', edgecolor = 'b', label='analytical')\n",
    "plt.legend(loc='upper left')\n",
    "plt.show()"
   ]
  },
  {
   "cell_type": "code",
   "execution_count": null,
   "metadata": {},
   "outputs": [],
   "source": [
    "alpha_exp2, gamma_exp2 = tune('se', f2, alphap, gammap, tseq2, x0_f2)\n",
    "alpha_exp, gamma_exp = tune('ex', f2, alphap, gammap, tseq2, x0_f2)\n",
    "alpha_rect, gamma_rect = tune('re', f2, alphap, gammap, tseq2, x0_f2)"
   ]
  },
  {
   "cell_type": "code",
   "execution_count": null,
   "metadata": {},
   "outputs": [],
   "source": [
    "Sigma_vv = bo.cov_vv_se(tseq2, tseq2, gamma_exp2, alpha_exp2)\n",
    "Sigma_xx = bo.cov_xx_se(tseq2, tseq2, gamma_exp2, alpha_exp2)\n",
    "Sigma_xv = bo.cov_xv_se(tseq2, tseq2, gamma_exp2, alpha_exp2)\n",
    "xt1,_,_ = bo.bayes_ode(f2, tseq2, x0_f2, Sigma_vv, Sigma_xx, Sigma_xv)\n",
    "\n",
    "Sigma_vv = bo.cov_vv_re(tseq2, tseq2, gamma_rect, alpha_rect)\n",
    "Sigma_xx = bo.cov_xx_re(tseq2, tseq2, gamma_rect, alpha_rect)\n",
    "Sigma_xv = bo.cov_xv_re(tseq2, tseq2, gamma_rect, alpha_rect)\n",
    "xt2,_,_ = bo.bayes_ode(f2, tseq2, x0_f2, Sigma_vv, Sigma_xx, Sigma_xv)\n",
    "\n",
    "Sigma_vv = bo.cov_vv_ex(tseq2, tseq2, gamma_exp, alpha_exp)\n",
    "Sigma_xx = bo.cov_xx_ex(tseq2, tseq2, gamma_exp, alpha_exp)\n",
    "Sigma_xv = bo.cov_xv_ex(tseq2, tseq2, gamma_exp, alpha_exp)\n",
    "xt3,_,_ = bo.bayes_ode(f2, tseq2, x0_f2, Sigma_vv, Sigma_xx, Sigma_xv)\n",
    "\n",
    "plt.plot(tseq2, xt1, label = 'exp2')\n",
    "plt.plot(tseq2, xt2, label = 'rect')\n",
    "plt.plot(tseq2, xt3, label = 'exp')\n",
    "plt.legend(loc='upper left')\n",
    "\n",
    "x = integrate.odeint(f2,x0_f2,tseq2)\n",
    "plt.scatter(tseq2, x, facecolor = 'none', edgecolor = 'b', label='analytical')\n",
    "plt.legend(loc='upper left')\n",
    "plt.show()"
   ]
  }
 ],
 "metadata": {
  "kernelspec": {
   "display_name": "Python 3",
   "language": "python",
   "name": "python3"
  },
  "language_info": {
   "codemirror_mode": {
    "name": "ipython",
    "version": 3
   },
   "file_extension": ".py",
   "mimetype": "text/x-python",
   "name": "python",
   "nbconvert_exporter": "python",
   "pygments_lexer": "ipython3",
   "version": "3.7.3"
  }
 },
 "nbformat": 4,
 "nbformat_minor": 2
}
