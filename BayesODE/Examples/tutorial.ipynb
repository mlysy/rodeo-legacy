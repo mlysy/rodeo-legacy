{
 "cells": [
  {
   "cell_type": "markdown",
   "metadata": {},
   "source": [
    "$$%\n",
    "\\newcommand{\\BB}{{\\boldsymbol B}}%\n",
    "\\newcommand{\\cc}{{\\boldsymbol c}}%\n",
    "\\let\\dd\\relax%\n",
    "\\newcommand{\\dd}{{\\boldsymbol d}}%\n",
    "\\newcommand{\\DD}{{\\boldsymbol D}}%\n",
    "\\newcommand{\\Id}{{\\boldsymbol I}}%\n",
    "\\newcommand{\\HH}{{\\boldsymbol H}}%\n",
    "\\newcommand{\\RR}{{\\boldsymbol R}}%\n",
    "\\newcommand{\\TT}{{\\boldsymbol T}}%\n",
    "\\newcommand{\\VV}{{\\boldsymbol V}}%\n",
    "\\newcommand{\\WW}{{\\boldsymbol W}}%\n",
    "\\newcommand{\\ww}{{\\boldsymbol w}}%\n",
    "\\newcommand{\\XX}{{\\boldsymbol X}}%\n",
    "\\renewcommand{\\aa}{{\\boldsymbol a}}%\n",
    "\\newcommand{\\xx}{{\\boldsymbol x}}%\n",
    "\\newcommand{\\yy}{{\\boldsymbol y}}%\n",
    "% Math Symbols\n",
    "\\newcommand{\\rrh}{{\\boldsymbol \\rho}}%\n",
    "\\newcommand{\\lla}{{\\boldsymbol \\lambda}}%\n",
    "\\newcommand{\\ssi}{{\\boldsymbol \\sigma}}%\n",
    "\\newcommand{\\SSi}{{\\boldsymbol \\Sigma}}%\n",
    "\\newcommand{\\eps}{{\\boldsymbol \\epsilon}}%\n",
    "\\newcommand{\\GGa}{{\\boldsymbol \\Gamma}}%\n",
    "\\newcommand{\\bz}{{\\boldsymbol 0}}%\n",
    "\\DeclareMathOperator{\\car}{CAR}%\n",
    "\\newcommand{\\N}{\\mathcal N}%\n",
    "\\newcommand{\\iid}{\\stackrel{iid}{\\sim}}%\n",
    "\\newcommand{\\ud}{\\, \\mathrm{d}}%\n",
    "\\newcommand{\\tmin}{t_{\\mathrm{min}}}%\n",
    "\\newcommand{\\tmax}{t_{\\mathrm{max}}}%\n",
    "\\newcommand{\\carp}{\\mathrm{CAR}(p)}\n",
    "$$\n",
    "# probDE: Probabilistic solution of ordinary differential equations\n",
    "\n",
    "*Mohan Wu, Martin Lysy*\n",
    "\n",
    "---"
   ]
  },
  {
   "cell_type": "markdown",
   "metadata": {},
   "source": [
    "## Description\n",
    "\n",
    "**probDE** is a Python library that uses [probabilistic numerics](http://probabilistic-numerics.org/) to solve ordinary differential equations (ODEs).  That is, most ODE solvers (such as [Euler's method](https://en.wikipedia.org/wiki/Euler_method)) produce a deterministic approximation to the ODE on a grid of size $\\delta$.  As $\\delta$ goes to zero, the approximation converges to the true ODE solution.  Probabilistic solvers such as **probDE** also output a solution an a grid of size $\\delta$; however, the solution is random.  Still, as $\\delta$ goes to zero we get the correct answer.\n",
    "\n",
    "**probDE** provides a probabilistic solver for univariate ordinary differential equations (ODEs) of the form\n",
    "\n",
    "\\begin{equation*}\n",
    "  \\ww'\\xx_t = f(\\xx_t, t), \\qquad \\xx_L = \\aa,\n",
    "\\end{equation*}\n",
    "\n",
    "where $\\xx_t = \\big(x_t^{(0)}, x_t^{(1)}, ..., x_t^{(q)}\\big)$ consists of the first $q$ derivatives of the process $x_t = x_t^{(0)}$, and a solution is sought on the interval $t \\in [L, U]$.  \n",
    "\n",
    "**probDE** implements the probabilistic solver of [Chkrebtii et al (2016)](https://projecteuclid.org/euclid.ba/1473276259).  This begins by putting a [Gaussian process](https://en.wikipedia.org/wiki/Gaussian_process) prior on the ODE solution, and updating it sequentially as the solver steps through the grid."
   ]
  },
  {
   "cell_type": "markdown",
   "metadata": {},
   "source": [
    "## Installation\n",
    "\n",
    "Download the repo from GitHub and then install with the `setup.py` script:\n",
    "\n",
    "```bash\n",
    "git clone https://github.com/mlysy/probDE.git\n",
    "cd probDE\n",
    "python setup.py install\n",
    "```"
   ]
  },
  {
   "cell_type": "markdown",
   "metadata": {},
   "source": [
    "## Usage\n",
    "\n",
    "To illustrate, let's consider the following ODE example of order $q = 2$:\n",
    "\n",
    "\\begin{equation*}\n",
    "x_t^{(2)} = \\sin(2t) − x_t^{(0)}, \\qquad \\xx_0 = (-1, 0, 1).\n",
    "\\end{equation*}\n",
    "\n",
    "The Gaussian process prior we will use is a so-called [Continuous Autoregressive](https://CRAN.R-project.org/package=cts/vignettes/kf.pdf) process, \n",
    "\n",
    "\\begin{equation*}\n",
    "\\XX_t \\sim \\car_p(\\lla, \\rrh, \\sigma).\n",
    "\\end{equation*}\n",
    "\n",
    "Here $\\XX_t = \\big(x_t^{(0)}, ..., x_t^{(p-1)}\\big)$ consists of $x_t$ and its first $p-1$ derivatives.  The $\\carp$ model specifies that each of these is continuous, but $x_t^{(p)}$ is not.  Therefore, we need to pick $p > q$.  It's usually a good idea to have $p$ a bit larger than $q$, especially when we think that the true solution $x_t$ is smooth.  However, increasing $p$ also increases the computational burden, and doesn't necessarily have to be large for the solver to work.  The tuning parameters of the $\\carp$ prior are:\n",
    "\n",
    "- The mean vector $\\lla$.  We can usually set this to 0.\n",
    "- The scale parameter $\\sigma$.\n",
    "- The \"roots\" of the process $\\rrh = (\\rho_0, \\ldots, \\rho_{p-1})$.  These can be any distinct set of negative numbers.  We suggest parametrizing them as $\\rho_k = -\\exp(k/\\tau)$, in which case $\\tau$ becomes a decorrelation-time parameter.\n",
    "\n",
    "Finally, we need a way to initialize the remaining derivatives $\\yy_t = \\big(x_t^{(q+1)}, ..., x_t^{(p-1)}\\big)$ at time $t = L$.  We suggest doing this by drawing $\\yy_L \\sim p(\\yy_L \\mid \\xx_L = \\aa)$, where\n",
    "\n",
    "\n",
    "Since the $\\carp$ process has a multivariate normal stationary distribtuion, we suggest initializing $\\yy_L \\sim p(\\yy_L \\mid \\xx_L = \\aa)$, i.e., as a random draw from this stationary distribution conditional on the value of $\\xx_L = \\aa$.  The Python code to implement all this is as follows."
   ]
  },
  {
   "cell_type": "code",
   "execution_count": 2,
   "metadata": {},
   "outputs": [],
   "source": [
    "# flesh out the example with full comments for everything\n",
    "\n",
    "# RHS of ODE\n",
    "def ode_fun(x_t, t):\n",
    "    return sin(2*t) - x_t[0] \n",
    "\n",
    "# etc..."
   ]
  },
  {
   "cell_type": "markdown",
   "metadata": {},
   "source": [
    "**NOTES:** \n",
    "\n",
    "- Should we write the roots in such a way that they need to be all positive, or all negative?\n",
    "- reparametrize via $\\tau$.\n",
    "- The user-facing code should not require them to e.g., zero pad things, etc.  We should have functions e.g., in `utils` which do this for them inside of `kalman_ode_higher`.\n",
    "- Inputs to `kalman_ode_higher`:\n",
    "\n",
    "    - `tmin`, `tmax`, `N`.\n",
    "    - `w`, `fun`, `X0`.  `X0` can be shorter, i.e., `x0`, in which case random draw is computed inside `kalman_ode_higher`.\n",
    "    - `roots`, `sigma`, `lambda`.  Can have `lambda` default to 0.\n",
    "\n",
    "- Is there any advantage to having the whole `kalman` solver be a class???  Maybe not now, but we should have one user-facing function that calls `kalman_ode_higher` and `higher_mvncond`.\n",
    "\n",
    "- Also, let's put all code that is just \"scratch\" for you and me into a single folder somewhere.  Maybe `probDE/BayesODE/depreciated`.\n",
    "\n",
    "- Please write some `.py` files to produce the Chkrebtii figure.  Those files can just be `import`ed here, because we don't really need to see the contents in the tutorial."
   ]
  },
  {
   "cell_type": "markdown",
   "metadata": {},
   "source": [
    "**probDE** currently supports two types of Gaussian process priors: \n",
    "\n",
    "- [Continuous Autoregressive](https://CRAN.R-project.org/package=cts/vignettes/kf.pdf) processes.\n",
    "- Arbitrary Gaussian processes.\n",
    "\n",
    "The advantage of the former is that calculations scale linearly with $\\delta$.  The latter is much slower, and mainly presented here for testing code."
   ]
  },
  {
   "cell_type": "markdown",
   "metadata": {},
   "source": [
    "### Continuous Autoregressive Priors"
   ]
  },
  {
   "cell_type": "code",
   "execution_count": 6,
   "metadata": {},
   "outputs": [],
   "source": [
    "#Imports needed\n",
    "from math import sin, cos\n",
    "import numpy as np\n",
    "import matplotlib.pyplot as plt\n",
    "\n",
    "from BayesODE.Tests.root_gen import root_gen\n",
    "from BayesODE.Kalman.kalman_initial_draw import kalman_initial_draw\n",
    "from BayesODE.Kalman.higher_mvCond import higher_mvCond\n",
    "from BayesODE.Kalman import kalman_ode_higher"
   ]
  },
  {
   "cell_type": "markdown",
   "metadata": {},
   "source": [
    "The advantage of CAR(p) processes is that they are Markov, and so the probabilistic solver can be efficiently implemented in linear time using the [Kalman](https://en.wikipedia.org/wiki/Kalman_filter) filtering and smoothing recursions. As present, **probDE** can be used to solve any ODE initial value problem of the form\n",
    "\n",
    "\\begin{equation}\n",
    "  \\ww\\xx_t = f(\\xx_t, t) = 0, \\qquad t \\in [0, t_{max}], \\qquad \\xx_0 = x0,\n",
    "\\end{equation}\n",
    "\n",
    "where $\\xx_t = \\big(x_t^{(0)}, x_t^{(1)}, ..., x_t^{(q)}\\big)$ consists of the first q derivatives of the process, and a solution is sought on the interval $t \\in [0, t_{max}]$. The CAR(p) solution prior is a continuous process of the form $\\XX_t = \\big(x_t^{(0)}, ..., x_t^{(p-1)}\\big)$, where we should have $p > q$ so that it is smooth enough to solver the ODE above. We can write $\\XX_t = (\\xx_t, \\yy_t)$ where $\\yy_t = \\big(x_t^{(q+1)}, ..., x_t^{(p-1)}\\big)$. So we have\n",
    "\n",
    "\\begin{equation}\n",
    "  \\XX_t = (\\xx_t, \\yy_t) \\sim \\car_p(\\lla, \\rrh, \\sigma),\n",
    "\\end{equation}\n",
    "\n",
    "$\\car_p(\\rrh, \\sigma)$ denotes a continuous autoregressive process with mean $\\lla = (\\lambda_1, ..., \\lambda_p)$, roots $\\rrh = (\\rho_1, ..., \\rho_p)$ and scale parameter $\\sigma > 0$. For simplicity, we can redefine the IVP as:\n",
    "\n",
    "\\begin{equation}\n",
    "  \\WW\\XX_t = f(\\XX_t, t) = 0, \\qquad t \\in [0, t_{max}], \\qquad \\XX_0 = (x0, y0),\n",
    "\\end{equation}\n",
    "\n",
    "where $\\WW = (\\ww, \\bz_{p-q-1})$ and $y0$ will be drawn later in the tutorial.\n",
    "\n",
    "As a simple example, consider the second order ODE initial value problem\n",
    "\\begin{align*}\n",
    "x_t^{(2)} &= sin(2t) − x_t^{(0)} \\\\\n",
    "x_0^{(1)} &= 0 \\\\\n",
    "x_0^{(0)} &= −1\n",
    "\\end{align*}\n",
    "\n",
    "Its exact solution is \n",
    "\\begin{align*}\n",
    "x_t^{(0)} &= (-3cos(t) + 2sin(t) - sin(2t))/3 \\\\\n",
    "x_t^{(1)} &= (-2cos(2t) + 3sin(t) + 2cos(t))/3\n",
    "\\end{align*}\n",
    "\n",
    "The equations to this IVP can be coded:"
   ]
  },
  {
   "cell_type": "code",
   "execution_count": 7,
   "metadata": {},
   "outputs": [],
   "source": [
    "# RHS function in the IVP\n",
    "def ode_F(X_t, t):\n",
    "    return sin(2*t) - X_t[0] \n",
    "\n",
    "#Exact Solution for x_t^{(0)}\n",
    "def ode_exact_x(t):\n",
    "    return (-3*cos(t) + 2*sin(t) - sin(2*t))/3\n",
    "\n",
    "#Exact Solution for x_t^{(1)}\n",
    "def ode_exact_x1(t):\n",
    "    return (-2*cos(2*t) + 3*sin(t) + 2*cos(t))/3"
   ]
  },
  {
   "cell_type": "markdown",
   "metadata": {},
   "source": [
    "In this example, we have $q=2$ since we have up to $x_t^{(2)}$ defined. We will use $p=4$ for this example. Now to setup the initial variables stated above we have:"
   ]
  },
  {
   "cell_type": "code",
   "execution_count": 8,
   "metadata": {},
   "outputs": [],
   "source": [
    "# ODE definition\n",
    "# LHS vector\n",
    "w_vec = np.array([0, 0, 1.0])\n",
    "\n",
    "# algorithm tuning parameters\n",
    "q = 2 # ODE order\n",
    "p = q+2 # number of continuous derivatives of CAR(p) solution prior\n",
    "W_vec = np.array([np.pad(w_vec, (0, p-q-1), 'constant', constant_values=(0,0))])\n",
    "\n",
    "# it is assumed that the solution is sought on the interval [0,tmax].\n",
    "# this next parameter specifies the size of the discretization grid\n",
    "N = 100\n",
    "tmin = 0\n",
    "tmax = 10 \n",
    "delta_t = np.array([(tmax-tmin)*1/N])\n",
    "\n",
    "# Generate roots, rho, for the CAR(p) prior using root_gen\n",
    "# #root_gen is a simple exponential function with the decorrelation r0 to generate p roots for CAR(p) prior\n",
    "r0 = 0.01 # decorrelation parameter\n",
    "roots = root_gen(r0, p) \n",
    "\n",
    "# now the tuning parameters of the CAR(p) prior\n",
    "sigma = 0.0001 # scale paramater\n",
    "lamb = np.zeros(p) #CAR(p) mean\n",
    "\n",
    "#Initial Value x0\n",
    "x0 = np.array([-1, 0, ode_F([-1, 0], 0)])"
   ]
  },
  {
   "cell_type": "markdown",
   "metadata": {},
   "source": [
    "We now need to draw $y0$ for $\\yy_0$ in the initial state $\\XX_0$. We can do so by drawing $y0$ from their stationary CAR(p) distribution conditioned on $\\xx_0 = x0$. We then have $\\XX_0 \\sim p(\\N(\\lla, \\VV_{\\infty}) | \\xx_0=x0)$ and $\\VV_{\\infty}$ is derived from the $\\car_p(\\lla, \\rrh, \\sigma)$."
   ]
  },
  {
   "cell_type": "code",
   "execution_count": 9,
   "metadata": {},
   "outputs": [],
   "source": [
    "X0 = kalman_initial_draw(roots, sigma, x0, p)"
   ]
  },
  {
   "cell_type": "markdown",
   "metadata": {},
   "source": [
    "Now the state space model we use to find our solution will be of the form:\n",
    "\\begin{align*}\n",
    "  \\XX_n &= \\TT \\XX_{n-1} + \\cc + \\RR^{1/2} \\eps_n \\\\\n",
    "  \\yy_n &= \\WW \\XX_n + \\HH^{1/2} \\eta_n\n",
    "\\end{align*}\n",
    "\n",
    "where $\\eps_n \\iid \\N(\\bz, \\Id_p)$ are independent of $\\eta_n \\iid \\N(\\bz, \\Id_p)$. \n",
    "\n",
    "Now we must define these parameters to calculate a probalistic solution to the IVP. $\\HH^{1/2}$ is calculated in the function `kalman_ode_higher`, and we have already defined $\\WW$ above as the variable `W_vec`. $\\TT$ and $\\RR$ can be derived from the CAR(p) process depending the grid size delta. Finally, $\\cc = \\lla - \\TT \\lla$."
   ]
  },
  {
   "cell_type": "code",
   "execution_count": 11,
   "metadata": {},
   "outputs": [],
   "source": [
    "# Define T, R in the state space model\n",
    "# higher_mvCond uses the CAR(p) process to define the desired parameters\n",
    "T, R = higher_mvCond(delta_t, roots, sigma) \n",
    "c = lamb - T.dot(lamb.T)"
   ]
  },
  {
   "cell_type": "markdown",
   "metadata": {},
   "source": [
    "With everything defined, we can run the solver to get a realization, $\\bar{\\XX_t}$, of $\\XX_t$ for $t \\in [0, t_{max}]$, as well as the mean and variance of the distribution. Finally, we can get the a probablistic solution to the IVP, $\\bar{\\xx_t}$, in $\\bar{\\XX_t} = (\\bar{\\xx_t}, \\bar{\\yy_t})$."
   ]
  },
  {
   "cell_type": "code",
   "execution_count": 12,
   "metadata": {},
   "outputs": [],
   "source": [
    "Xn, Xn_mean, Xn_var = kalman_ode_higher(ode_F, X0, tmin, tmax, N-1, T, c, R, W_vec)"
   ]
  },
  {
   "cell_type": "markdown",
   "metadata": {},
   "source": [
    "We can plot the probablistic solution for $x_t^{(0)}$ and $x_t^{(1)}$ to the exact solution to see how well the solver approximates."
   ]
  },
  {
   "cell_type": "code",
   "execution_count": 14,
   "metadata": {},
   "outputs": [],
   "source": [
    "tseq = np.linspace(tmin, tmax, N)\n",
    "exact_x = np.zeros(N)\n",
    "exact_x1 = np.zeros(N)\n",
    "for t in range(N):\n",
    "    exact_x[t] = ode_exact_x(tseq[t])\n",
    "    exact_x1[t] = ode_exact_x1(tseq[t])"
   ]
  },
  {
   "cell_type": "code",
   "execution_count": 15,
   "metadata": {},
   "outputs": [
    {
     "data": {
      "text/plain": [
       "<matplotlib.legend.Legend at 0x25140bf3518>"
      ]
     },
     "execution_count": 15,
     "metadata": {},
     "output_type": "execute_result"
    },
    {
     "data": {
      "image/png": "[encoded data removed]",
      "text/plain": [
       "<Figure size 432x288 with 1 Axes>"
      ]
     },
     "metadata": {
      "needs_background": "light"
     },
     "output_type": "display_data"
    }
   ],
   "source": [
    "plt.plot(tseq, Xn[:,0], label = 'Kalman')\n",
    "plt.plot(tseq, exact_x, label = 'Chkrebtii')\n",
    "plt.legend(loc='upper left')"
   ]
  },
  {
   "cell_type": "code",
   "execution_count": 16,
   "metadata": {},
   "outputs": [
    {
     "data": {
      "text/plain": [
       "<matplotlib.legend.Legend at 0x25140cacd30>"
      ]
     },
     "execution_count": 16,
     "metadata": {},
     "output_type": "execute_result"
    },
    {
     "data": {
      "image/png": "[encoded data removed]",
      "text/plain": [
       "<Figure size 432x288 with 1 Axes>"
      ]
     },
     "metadata": {
      "needs_background": "light"
     },
     "output_type": "display_data"
    }
   ],
   "source": [
    "plt.plot(tseq, Xn[:,1], label = 'Kalman')\n",
    "plt.plot(tseq, exact_x1, label = 'Chkrebtii')\n",
    "plt.legend(loc='upper left')"
   ]
  },
  {
   "cell_type": "markdown",
   "metadata": {},
   "source": [
    "## Non-Markov Priors"
   ]
  },
  {
   "cell_type": "code",
   "execution_count": 17,
   "metadata": {},
   "outputs": [],
   "source": [
    "import BayesODE.Bayesian as bo\n",
    "from scipy import integrate"
   ]
  },
  {
   "cell_type": "markdown",
   "metadata": {},
   "source": [
    "For this method, we can only solve first order ODE problems of the form\n",
    "\\begin{equation}\n",
    "  v_t = f(x_t,t)\n",
    "\\end{equation}\n",
    "where $v_t = dx_t/dt$.\n",
    "\n",
    "We use this simple example:"
   ]
  },
  {
   "cell_type": "code",
   "execution_count": 18,
   "metadata": {},
   "outputs": [],
   "source": [
    "def ode_first(x, t):\n",
    "    return  3*(t+1/4) - x/(t+1/4)"
   ]
  },
  {
   "cell_type": "markdown",
   "metadata": {},
   "source": [
    "The initial values of the problem and the grid size can be defined as follows:"
   ]
  },
  {
   "cell_type": "code",
   "execution_count": 19,
   "metadata": {},
   "outputs": [],
   "source": [
    "a = 0\n",
    "b = 4.75\n",
    "x0_f1 = 10\n",
    "N = 100\n",
    "tseq1 = np.linspace(a, b, N)"
   ]
  },
  {
   "cell_type": "markdown",
   "metadata": {},
   "source": [
    "There are two parameters needed for this method. $\\alpha$ is the covariance scale parameter and $\\gamma$ is the decorrelation time such that $cov(v_t, v_{t+\\gamma}) = 1/e$."
   ]
  },
  {
   "cell_type": "code",
   "execution_count": 20,
   "metadata": {},
   "outputs": [],
   "source": [
    "gamma = 0.1\n",
    "alpha = 100"
   ]
  },
  {
   "cell_type": "markdown",
   "metadata": {},
   "source": [
    "This method only requires the calculation of the initial covariance matrices: $cov(v_t, v_t)$, $cov(x_t, v_t)$ and $cov(x_t, x_t)$. Currently, we have 3 kernels to calculate these matrices: square exponential, exponential, and rectangular. For example we can use the square exponential kernel."
   ]
  },
  {
   "cell_type": "code",
   "execution_count": 21,
   "metadata": {},
   "outputs": [],
   "source": [
    "Sigma_vv = bo.cov_vv_se(tseq1, tseq1, gamma, alpha)\n",
    "Sigma_xx = bo.cov_xx_se(tseq1, tseq1, gamma, alpha)\n",
    "Sigma_xv = bo.cov_xv_se(tseq1, tseq1, gamma, alpha)"
   ]
  },
  {
   "cell_type": "markdown",
   "metadata": {},
   "source": [
    "Once these matrices are calculated, we are ready to use the bayes solver."
   ]
  },
  {
   "cell_type": "code",
   "execution_count": 22,
   "metadata": {},
   "outputs": [],
   "source": [
    "xn, xn_mu, xn_var = bo.bayes_ode(ode_first, tseq1, x0_f1, Sigma_vv, Sigma_xx, Sigma_xv)"
   ]
  },
  {
   "cell_type": "markdown",
   "metadata": {},
   "source": [
    "Again, we can plot the probablistic solution against the exact solution to see how well the solver approximates."
   ]
  },
  {
   "cell_type": "code",
   "execution_count": 23,
   "metadata": {},
   "outputs": [
    {
     "data": {
      "image/png": "[encoded data removed]",
      "text/plain": [
       "<Figure size 432x288 with 1 Axes>"
      ]
     },
     "metadata": {
      "needs_background": "light"
     },
     "output_type": "display_data"
    }
   ],
   "source": [
    "exact = integrate.odeint(ode_first,x0_f1,tseq1)\n",
    "plt.plot(tseq1, xn, label = 'Bayes')\n",
    "plt.plot(tseq1, exact, label='exact')\n",
    "plt.legend(loc='upper left')\n",
    "plt.show()"
   ]
  }
 ],
 "metadata": {
  "kernelspec": {
   "display_name": "Python 3",
   "language": "python",
   "name": "python3"
  },
  "language_info": {
   "codemirror_mode": {
    "name": "ipython",
    "version": 3
   },
   "file_extension": ".py",
   "mimetype": "text/x-python",
   "name": "python",
   "nbconvert_exporter": "python",
   "pygments_lexer": "ipython3",
   "version": "3.7.3"
  }
 },
 "nbformat": 4,
 "nbformat_minor": 2
}
