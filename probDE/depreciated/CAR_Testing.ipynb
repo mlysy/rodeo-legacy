{
 "cells": [
  {
   "cell_type": "markdown",
   "metadata": {},
   "source": [
    "# CAR Variance and Covariance Tests \n",
    "$$\n",
    "\\newcommand{\\var}{\\operatorname{var}}\n",
    "\\newcommand{\\cov}{\\operatorname{cov}}\n",
    "\\newcommand{\\N}{\\mathcal N}\n",
    "$$"
   ]
  },
  {
   "cell_type": "code",
   "execution_count": 2,
   "metadata": {},
   "outputs": [],
   "source": [
    "import numpy as np\n",
    "from math import exp, sqrt\n",
    "import matplotlib.pyplot as plt\n",
    "#import os\n",
    "#os.chdir(\"/Users/mlysy/Documents/proj/buqDE/probDE\")\n",
    "#!python3 setup.py install\n",
    "from probDE.Kalman.var_car import var_car\n",
    "from probDE.Kalman.cov_car import cov_car\n",
    "from probDE.Tests.root_gen import root_gen\n",
    "from probDE.Tests.V_euler import V_euler"
   ]
  },
  {
   "cell_type": "markdown",
   "metadata": {},
   "source": [
    "## Variance as a function of time"
   ]
  },
  {
   "cell_type": "code",
   "execution_count": 3,
   "metadata": {},
   "outputs": [
    {
     "data": {
      "image/png": "[encoded data removed]",
      "text/plain": [
       "<Figure size 432x288 with 1 Axes>"
      ]
     },
     "metadata": {
      "needs_background": "light"
     },
     "output_type": "display_data"
    }
   ],
   "source": [
    "# quick picture\n",
    "r0 = 1\n",
    "p = 3\n",
    "roots = root_gen(r0, p) #All roots need to be negative\n",
    "tseq = np.linspace(0.001,0.5,100)\n",
    "V = var_car(tseq, roots)\n",
    "for k in range(len(roots)):\n",
    "    plt.plot(tseq, np.log(V[:,k,k]), label=k)\n",
    "plt.legend(loc='lower right')\n",
    "plt.show()"
   ]
  },
  {
   "cell_type": "code",
   "execution_count": 10,
   "metadata": {},
   "outputs": [
    {
     "data": {
      "text/plain": [
       "True"
      ]
     },
     "execution_count": 10,
     "metadata": {},
     "output_type": "execute_result"
    }
   ],
   "source": [
    "# test against Euler\n",
    "\n",
    "# car parameters\n",
    "p = 3\n",
    "r0 = np.random.uniform()\n",
    "sigma = np.random.uniform()\n",
    "roots = root_gen(r0, p)\n",
    "# construct mOU process\n",
    "#Gamma, Sigma = mou_car(roots = roots, sigma = sigma)\n",
    "\n",
    "B = 10000\n",
    "tval = np.array([1.])\n",
    "N = 100\n",
    "delta_t = tval/N\n",
    "V_ex = var_car(tval, roots=roots, sigma=sigma) # exact variance\n",
    "V_eu = V_euler(roots = roots,\n",
    "               sigma = sigma,\n",
    "               delta_t=delta_t, \n",
    "               N=N, \n",
    "               B=B, \n",
    "               X0=None)\n",
    "np.allclose(V_ex, V_eu, atol=1e-2)\n"
   ]
  },
  {
   "cell_type": "markdown",
   "metadata": {},
   "source": [
    "## Correlation as a function of time\n",
    "\n",
    "First, let's calculate this analytically.  Suppose that the function `var_car` to compute $V_t = \\var(X_t)$ is correct.  In fact what this is computing is $\\var(X_t | X_0 = x_0)$, i.e., we condition on the value at $t = 0$ being fixed.  What we would like to compute with `cov_car` is $\\cov(X_0, X_t)$ with $X_0 \\sim \\N(0, V_\\infty)$ being drawn from its stationary distribution.\n",
    "\n",
    "So we should modify the Euler simulation to draw the initial value randomly from this distribution."
   ]
  },
  {
   "cell_type": "code",
   "execution_count": 11,
   "metadata": {},
   "outputs": [
    {
     "data": {
      "image/png": "[encoded data removed]",
      "text/plain": [
       "<Figure size 432x288 with 1 Axes>"
      ]
     },
     "metadata": {
      "needs_background": "light"
     },
     "output_type": "display_data"
    }
   ],
   "source": [
    "C = cov_car(tseq, roots, corr=True)\n",
    "for k in range(len(roots)):\n",
    "    plt.plot(tseq, C[:,k,k], label=k)\n",
    "plt.legend(loc='lower right')\n",
    "plt.show()"
   ]
  },
  {
   "cell_type": "markdown",
   "metadata": {},
   "source": [
    "# Unit Test"
   ]
  },
  {
   "cell_type": "code",
   "execution_count": 13,
   "metadata": {},
   "outputs": [],
   "source": [
    "r0 = 1\n",
    "roots = root_gen(r0, 3)\n",
    "\n",
    "delta = -roots\n",
    "D = np.diag(delta)\n",
    "p = len(roots)\n",
    "Q = np.zeros((p, p))\n",
    "\n",
    "row = np.ones(p)\n",
    "for i in range(p):\n",
    "    Q[i] = row\n",
    "    row = row*roots\n",
    "\n",
    "Q_inv = np.linalg.pinv(Q)\n",
    "Gamma = np.linalg.multi_dot([Q, D, Q_inv])"
   ]
  },
  {
   "cell_type": "code",
   "execution_count": 14,
   "metadata": {},
   "outputs": [
    {
     "data": {
      "text/plain": [
       "True"
      ]
     },
     "execution_count": 14,
     "metadata": {},
     "output_type": "execute_result"
    }
   ],
   "source": [
    "from sympy import symbols, expand, Poly\n",
    "s = symbols('s')\n",
    "product = 1\n",
    "for root in roots:\n",
    "    product = product * (s - root)\n",
    "coeffs = Poly(expand(product)).coeffs()\n",
    "np.allclose(np.array(coeffs[:0:-1], dtype='float'),Gamma[-1])"
   ]
  },
  {
   "cell_type": "code",
   "execution_count": 15,
   "metadata": {},
   "outputs": [],
   "source": [
    "def V_euler_N1(Sigma, Delta_t):\n",
    "    return Sigma*Delta_t"
   ]
  },
  {
   "cell_type": "code",
   "execution_count": 16,
   "metadata": {},
   "outputs": [],
   "source": [
    "def var_car_test(Q, D, Sigma, Delta_t):\n",
    "    p = len(D)\n",
    "    delta = np.diag(D)\n",
    "    Q_inv = np.linalg.pinv(Q)\n",
    "    Gamma = np.linalg.multi_dot([Q, D, Q_inv]) #Q*D*Q^-1\n",
    "    Sigma_tilde = np.linalg.multi_dot([Q_inv, Sigma, Q_inv.T]) #Q^-1*Sigma*Q^-1'\n",
    "\n",
    "    V_tilde = np.zeros((p,p))\n",
    "    for i in range(p):\n",
    "        for j in range(i, p):\n",
    "            V_tilde[i,j] = Sigma_tilde[i,j] / (delta[i] + delta[j]) * (1- exp(- (delta[i] + delta[j]) * Delta_t)) #V_tilde\n",
    "            V_tilde[j,i] = V_tilde[i,j]\n",
    "\n",
    "    V = np.linalg.multi_dot([Q, V_tilde, Q.T]) #V_deltat\n",
    "    return V"
   ]
  },
  {
   "cell_type": "code",
   "execution_count": 17,
   "metadata": {},
   "outputs": [
    {
     "data": {
      "text/plain": [
       "[<matplotlib.lines.Line2D at 0x2457f898748>]"
      ]
     },
     "execution_count": 17,
     "metadata": {},
     "output_type": "execute_result"
    },
    {
     "data": {
      "image/png": "[encoded data removed]",
      "text/plain": [
       "<Figure size 432x288 with 1 Axes>"
      ]
     },
     "metadata": {
      "needs_background": "light"
     },
     "output_type": "display_data"
    }
   ],
   "source": [
    "Delta_T = 10**-np.linspace(5, 10, 10)\n",
    "Q = np.ones((3,3))\n",
    "D = np.diag([1,2,3])\n",
    "Sigma = np.random.rand(3,3)\n",
    "Sigma = Sigma.dot(Sigma.T)\n",
    "\n",
    "compare = np.zeros(len(Delta_T))\n",
    "for t in range(len(Delta_T)):\n",
    "    euler = V_euler_N1(Sigma, Delta_T[t])\n",
    "    true = var_car_test(Q, D, Sigma, Delta_T[t])\n",
    "    compare[t] = np.max((abs(euler - true)/(abs(euler) + 0.1)))\n",
    "    \n",
    "plt.plot(np.log10(Delta_T), compare)"
   ]
  }
 ],
 "metadata": {
  "kernelspec": {
   "display_name": "Python 3",
   "language": "python",
   "name": "python3"
  },
  "language_info": {
   "codemirror_mode": {
    "name": "ipython",
    "version": 3
   },
   "file_extension": ".py",
   "mimetype": "text/x-python",
   "name": "python",
   "nbconvert_exporter": "python",
   "pygments_lexer": "ipython3",
   "version": "3.7.3"
  }
 },
 "nbformat": 4,
 "nbformat_minor": 2
}
