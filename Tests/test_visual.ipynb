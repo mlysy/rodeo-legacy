{
 "cells": [
  {
   "cell_type": "markdown",
   "metadata": {},
   "source": [
    "# Visual Covariance Test\n",
    "\n",
    "$$\n",
    "% latex macros.  this does not work when converting to latex.\n",
    "\\newcommand{\\bm}[1]{\\boldsymbol{#1}}\n",
    "\\DeclareMathOperator{\\cov}{cov}\n",
    "\\DeclareMathOperator{\\diag}{diag}\n",
    "\\newcommand{\\ud}{\\mathrm{d}}\n",
    "\\newcommand{\\XX}{{\\bm X}}\n",
    "\\newcommand{\\VV}{{\\bm V}}\n",
    "\\newcommand{\\N}{\\mathcal{N}}\n",
    "\\newcommand{\\mmu}{{\\bm \\mu}}\n",
    "\\newcommand{\\SSi}{{\\bm \\Sigma}}\n",
    "\\newcommand{\\ssi}{{\\bm \\sigma}}\n",
    "$$\n",
    "\n",
    "Pick a covariance type. Then for $x_t$ and $v_t = \\ud x_t/\\ud t$, visually check that\n",
    "$$\n",
    "\\begin{aligned}\n",
    "\\cov(x_t, v_s) & = \\int_0^t \\cov(v_u, v_s) \\, \\ud u \\\\\n",
    "\\cov(x_t, x_s) & = \\int_0^t\\int_0^s \\cov(v_u, v_w) \\, \\ud u\\, \\ud w\n",
    "\\end{aligned}\n",
    "$$\n",
    "by comparing analytic formula to numerical integration with `scipy.integrate.quad` and `scipy.integrate.dblquad`."
   ]
  },
  {
   "cell_type": "code",
   "execution_count": 1,
   "metadata": {},
   "outputs": [],
   "source": [
    "import os\n",
    "#os.chdir('C:\\\\Users\\\\mohan\\\\Documents\\\\probDE')\n",
    "os.chdir('../')"
   ]
  },
  {
   "cell_type": "code",
   "execution_count": 2,
   "metadata": {},
   "outputs": [],
   "source": [
    "import matplotlib.pyplot as plt\n",
    "import numpy as np\n",
    "from numpy.random import uniform as runif\n",
    "from scipy import integrate\n",
    "import BayesODE as bo\n",
    "from Tests.ode_bayes_star import ode_bayes_star"
   ]
  },
  {
   "cell_type": "code",
   "execution_count": null,
   "metadata": {},
   "outputs": [],
   "source": [
    "npts = 50\n",
    "# pick covariance type\n",
    "type = \"ex\"\n",
    "if type == \"se\":\n",
    "    cov_vv = bo.cov_vv_se\n",
    "    cov_xv = bo.cov_xv_se\n",
    "    cov_xx = bo.cov_xx_se\n",
    "elif type == \"ex\":\n",
    "    cov_vv = bo.cov_vv_ex\n",
    "    cov_xv = bo.cov_xv_ex\n",
    "    cov_xx = bo.cov_xx_ex\n",
    "elif type == \"re\":\n",
    "    cov_vv = bo.cov_vv_re\n",
    "    cov_xv = bo.cov_xv_re\n",
    "    cov_xx = bo.cov_xx_re\n",
    "else:\n",
    "    raise ValueError(\"Invalid covariance type.\")\n",
    "# plot cov_vv\n",
    "tmax = runif(low = 0, high = 10, size = 1)\n",
    "gamma = runif(0, tmax/10, 1)\n",
    "tseq = np.linspace(start = 0, stop = tmax, num = npts)\n",
    "av = np.zeros((npts, 1))\n",
    "for ii in range(0,npts):\n",
    "    av[ii] = cov_vv(0, tseq[ii], gamma)\n",
    "plt.rcParams['figure.figsize'] = [10, 6]\n",
    "plt.subplot(3,2,(1,2))\n",
    "plt.plot(tseq,av)\n",
    "# integrate once and compare to analytic solution\n",
    "t = runif(0, tmax, 1) # first time point\n",
    "s = runif(0, tmax, 1) # second time point\n",
    "tseq = np.linspace(start = 0, stop = tmax, num = npts)\n",
    "xv_an = np.zeros((npts,1)) # analytic solution\n",
    "xv_nu = xv_an # numeric solution\n",
    "for ii in range(0,npts):\n",
    "    xv_an[ii] = cov_xv(tseq[ii], s, gamma)\n",
    "    xv_nu[ii],err = integrate.quad(cov_vv, 0, tseq[ii], args=(s,gamma))\n",
    "plt.subplot(3,2,3)\n",
    "plt.plot(tseq,xv_an,'r',tseq,xv_nu,'b')\n",
    "plt.subplot(3,2,4)\n",
    "plt.plot(tseq,abs(xv_an-xv_nu))\n",
    "# integrate twice and compare to analytic solution\n",
    "xx_an = np.zeros((npts,1)) # analytic solution\n",
    "xx_nu = xx_an # numeric solution\n",
    "for ii in range(0,npts):\n",
    "    xx_an[ii] = cov_xx(tseq[ii], s, gamma)\n",
    "    xx_nu[ii],err = integrate.dblquad(cov_vv, 0, tseq[ii], 0, s, args = (gamma))\n",
    "plt.subplot(3,2,5)\n",
    "plt.plot(tseq,xx_an,'r',tseq,xx_nu,'b')\n",
    "plt.subplot(3,2,6)\n",
    "plt.plot(tseq,abs(xx_an-xx_nu))"
   ]
  },
  {
   "cell_type": "markdown",
   "metadata": {},
   "source": [
    "# Updating Algorithm Test\n",
    "\n",
    "Let $T = (t_1, \\ldots, t_N)$ denote the evaluation time points, and $\\XX$ and $\\VV$ denote vectors of length $N$ corresponding to $x(T)$ and $v(T)$.  The solution prior is then expressed as\n",
    "$$\n",
    "\\begin{bmatrix} \\XX \\\\ \\VV \\end{bmatrix} \\sim \\N\\left(\\begin{bmatrix} \\mmu_X \\\\ \\mmu_V \\end{bmatrix}, \\begin{bmatrix} \\SSi_{XX} & \\SSi_{XV} \\\\ \\SSi_{VX} & \\SSi_{VV} \\end{bmatrix} \\right).\n",
    "$$\n",
    "Now suppose that the $N$ model interrogations $\\VV_\\star$ and their predictive variances $\\ssi_\\star^2$ are given in advance.  Then joint distribution of $(\\XX, \\VV, \\VV_\\star)$ is\n",
    "$$\n",
    "\\begin{bmatrix} \\XX \\\\ \\VV \\\\ \\VV_\\star \\end{bmatrix} \\sim \\N\\left(\\begin{bmatrix} \\mmu_X \\\\ \\mmu_V \\\\ \\mmu_V \\end{bmatrix}, \\begin{bmatrix} \\SSi_{XX} & \\SSi_{XV} & \\SSi_{XV} \\\\ \\SSi_{VX} & \\SSi_{VV} & \\SSi_{VV} \\\\ \\SSi_{VX} & \\SSi_{VV} & \\SSi_{VV} + \\diag(\\ssi_\\star^2) \\end{bmatrix} \\right),\n",
    "$$\n",
    "from which we can deduce calculate the mean and variance of the final update (normal) distribution, $p(\\XX \\mid \\VV_\\star)$.  This suggests the following unit test for the ODE solver:\n",
    "\n",
    "1. Modify `ode_bayes` such that it accepts an optional input of $\\VV_\\star$ and $\\ssi_\\star^2$ (please use argument names consistent with the rest of the function).\n",
    "2. Write a function to compute the mean and variance of $p(\\XX \\mid \\VV_\\star)$ based on $(\\mmu_X, \\mmu_V, \\SSi_{XX}, \\SSi_{XV}, \\SSi_{VV}, \\VV_\\star)$.\n",
    "3. Run `ode_bayes` with predetermined $(\\VV_\\star, \\ssi_\\star^2)$, and check that the mean and variance output is identical to that of step 2."
   ]
  },
  {
   "cell_type": "code",
   "execution_count": 3,
   "metadata": {},
   "outputs": [],
   "source": [
    "#Toy example\n",
    "def f(x,t):\n",
    "    return  3*(t+1/4) - x/(t+1/4)\n",
    "\n",
    "a = 0\n",
    "b = 4.75\n",
    "x0 = 0\n",
    "N = 100\n",
    "tseq = np.linspace(a, b, N)\n",
    "w = gamma = 1.0642211055276383\n",
    "alpha = N/10\n",
    "\n",
    "mu_v = np.zeros((N)) # prior mean of v(tseq)\n",
    "mu_x = x0 + mu_v # prior mean of x(tseq)\n",
    "Sigma_vv, Sigma_xx, Sigma_xv = bo.cov_prior(tseq, 'exp', gamma, alpha)"
   ]
  },
  {
   "cell_type": "code",
   "execution_count": null,
   "metadata": {},
   "outputs": [],
   "source": [
    "x = integrate.odeint(f,x0,tseq)\n",
    "x = np.ndarray.flatten(x)\n",
    "v = np.array([f(xl,tseq[i]) for i, xl in enumerate(x)])\n",
    "sigma_star_avg = (max(v) - min(v))*0.05\n",
    "\n",
    "upper = 3*sigma_star_avg/2\n",
    "lower = sigma_star_avg/2\n",
    "\n",
    "sigma_star = runif(lower, upper)\n",
    "vstar = v+sigma_star*np.random.normal(0,1)"
   ]
  },
  {
   "cell_type": "code",
   "execution_count": null,
   "metadata": {},
   "outputs": [],
   "source": [
    "mu_star, Sigma_star = ode_bayes_star(mu_x, mu_v, Sigma_vv, Sigma_xx, Sigma_xv, vstar)"
   ]
  },
  {
   "cell_type": "code",
   "execution_count": null,
   "metadata": {},
   "outputs": [],
   "source": [
    "_, mu_x, Sigma_xx = bo.ode_bayes(f, tseq, x0, Sigma_vv, Sigma_xx, Sigma_xv, vstar)"
   ]
  },
  {
   "cell_type": "code",
   "execution_count": null,
   "metadata": {},
   "outputs": [],
   "source": [
    "np.allclose(mu_star, mu_x), np.allclose(Sigma_star, Sigma_xx)"
   ]
  },
  {
   "cell_type": "markdown",
   "metadata": {},
   "source": [
    "## Implementation via the Kalman Filter\n",
    "\n",
    "For the special case of an exponential kernel (or equivalently, exponential autocorrelation of the solution derivative), the Bayesian ODE solver can be efficiently implemented via Kalman filtering and smoothing algorithms.  To see this, the first step is to derive the conditional distribution $p(y_t \\mid y_s)$, where $y_t = (x_t, v_t)$ and $0 < s < t$."
   ]
  },
  {
   "cell_type": "code",
   "execution_count": 4,
   "metadata": {},
   "outputs": [],
   "source": [
    "import scipy.linalg as scl\n",
    "\n",
    "def mvCond(mu, Sigma, icond):\n",
    "    \"\"\"\n",
    "    For y ~ N(mu, Sigma), returns A, b, and V such that y[~icond] | y[icond] ~ N(A * y[icond] + b, V).\n",
    "    \"\"\"\n",
    "    # if y1 = y[~icond] and y2 = y[icond], should have A = Sigma12 * Sigma22^{-1}\n",
    "    A = np.dot(Sigma[np.ix_(~icond, icond)],scl.cho_solve(scl.cho_factor(Sigma[np.ix_(icond,icond)]), np.identity(sum(icond))))\n",
    "    b = mu[~icond] - np.dot(A, mu[icond]) # mu1 - A * mu2\n",
    "    V = Sigma[np.ix_(~icond,~icond)] - np.dot(A, Sigma[np.ix_(icond,~icond)]) # Sigma11 - A * Sigma21\n",
    "    return A, b, V\n",
    "\n",
    "# simple test\n",
    "mu = np.array([1, 2, 3, 4, 5])\n",
    "Sigma = np.diag([1, 2, 3, 4, 5])\n",
    "icond = np.array([True, True, True, False, False])\n",
    "i,o,p = mvCond(mu, Sigma, icond)"
   ]
  },
  {
   "cell_type": "code",
   "execution_count": 5,
   "metadata": {},
   "outputs": [
    {
     "data": {
      "text/plain": [
       "array([ 0.05919278,  0.24789939,  0.76248666,  3.93685063])"
      ]
     },
     "execution_count": 5,
     "metadata": {},
     "output_type": "execute_result"
    }
   ],
   "source": [
    "def mvCondExp(t1, t2, x0, gamma):\n",
    "    \"\"\"Calculates A, b, V for p(y(t2) | y(t1)), where 0 < t1 < t2.\"\"\"\n",
    "    mu = np.array([x0, 0, x0, 0])\n",
    "    Sigma = np.zeros((4,4))\n",
    "    # cov(x1,:)\n",
    "    Sigma[0,0] = bo.cov_xx_ex(t1, t1, gamma) # x1, x1\n",
    "    Sigma[0,1] = bo.cov_xv_ex(t1, t1, gamma) # x1, v1\n",
    "    Sigma[0,2] = bo.cov_xx_ex(t1, t2, gamma) # x1, x2\n",
    "    Sigma[0,3] = bo.cov_xv_ex(t1, t2, gamma) # x1, v2\n",
    "    # cov(v1,:)\n",
    "    Sigma[1,0] = Sigma[0,1]                  # v1, x1\n",
    "    Sigma[1,1] = bo.cov_vv_ex(t1, t1, gamma) # v1, v1\n",
    "    Sigma[1,2] = bo.cov_xv_ex(t2, t1, gamma) # v1, x2 <- this is the calculation I'm suspicious of, i.e., time_x > time_v\n",
    "    Sigma[1,3] = bo.cov_vv_ex(t1, t2, gamma) # v1, v2\n",
    "    # cov(x2,:)\n",
    "    Sigma[2,0] = Sigma[0,2]                  # x2, x1\n",
    "    Sigma[2,1] = Sigma[1,2]                  # x2, v1\n",
    "    Sigma[2,2] = bo.cov_xx_ex(t2, t2, gamma) # x2, x2\n",
    "    Sigma[2,3] = bo.cov_xv_ex(t2, t2, gamma) # x2, v2\n",
    "    # cov(v2,:)\n",
    "    Sigma[3,0] = Sigma[0,3]                  # v2, x1\n",
    "    Sigma[3,1] = Sigma[1,3]                  # v2, v1\n",
    "    Sigma[3,2] = Sigma[2,3]                  # v2, x2\n",
    "    Sigma[3,3] = bo.cov_vv_ex(t2, t2, gamma) # v2, v2\n",
    "    return Sigma # stop here for now...\n",
    "\n",
    "# should give the same answer for any x0 and fixed dt = t2 - t1...\n",
    "dt = 1\n",
    "t1 = 1\n",
    "t2 = t1 + dt\n",
    "x0 = 2\n",
    "scl.eigvalsh(mvCondExp(t1, t2, x0, 1)) # should always be positive..."
   ]
  },
  {
   "cell_type": "code",
   "execution_count": 6,
   "metadata": {},
   "outputs": [
    {
     "data": {
      "text/plain": [
       "array([ 0.06451011,  0.28664054,  1.47350766,  9.1753417 ])"
      ]
     },
     "execution_count": 6,
     "metadata": {},
     "output_type": "execute_result"
    }
   ],
   "source": [
    "def mvCondRE(t1, t2, x0, gamma):\n",
    "    \"\"\"Calculates A, b, V for p(y(t2) | y(t1)), where 0 < t1 < t2.\"\"\"\n",
    "    mu = np.array([x0, 0, x0, 0])\n",
    "    Sigma = np.zeros((4,4))\n",
    "    # cov(x1,:)\n",
    "    Sigma[0,0] = bo.cov_xx_re(t1, t1, gamma) # x1, x1\n",
    "    Sigma[0,1] = bo.cov_xv_re(t1, t1, gamma) # x1, v1\n",
    "    Sigma[0,2] = bo.cov_xx_re(t1, t2, gamma) # x1, x2\n",
    "    Sigma[0,3] = bo.cov_xv_re(t1, t2, gamma) # x1, v2\n",
    "    # cov(v1,:)\n",
    "    Sigma[1,0] = Sigma[0,1]                  # v1, x1\n",
    "    Sigma[1,1] = bo.cov_vv_re(t1, t1, gamma) # v1, v1\n",
    "    Sigma[1,2] = bo.cov_xv_re(t2, t1, gamma) # v1, x2 <- this is the calculation I'm suspicious of, i.e., time_x > time_v\n",
    "    Sigma[1,3] = bo.cov_vv_re(t1, t2, gamma) # v1, v2\n",
    "    # cov(x2,:)\n",
    "    Sigma[2,0] = Sigma[0,2]                  # x2, x1\n",
    "    Sigma[2,1] = Sigma[1,2]                  # x2, v1\n",
    "    Sigma[2,2] = bo.cov_xx_re(t2, t2, gamma) # x2, x2\n",
    "    Sigma[2,3] = bo.cov_xv_re(t2, t2, gamma) # x2, v2\n",
    "    # cov(v2,:)\n",
    "    Sigma[3,0] = Sigma[0,3]                  # v2, x1\n",
    "    Sigma[3,1] = Sigma[1,3]                  # v2, v1\n",
    "    Sigma[3,2] = Sigma[2,3]                  # v2, x2\n",
    "    Sigma[3,3] = bo.cov_vv_re(t2, t2, gamma) # v2, v2\n",
    "    return Sigma # stop here for now...\n",
    "\n",
    "# should give the same answer for any x0 and fixed dt = t2 - t1...\n",
    "dt = 1\n",
    "t1 = 1\n",
    "t2 = t1 + dt\n",
    "x0 = 2\n",
    "scl.eigvalsh(mvCondRE(t1, t2, x0, 1)) # should always be positive..."
   ]
  },
  {
   "cell_type": "code",
   "execution_count": 7,
   "metadata": {},
   "outputs": [
    {
     "data": {
      "text/plain": [
       "array([ -1.44485376,   0.21247491,   1.01510326,  11.57239126])"
      ]
     },
     "execution_count": 7,
     "metadata": {},
     "output_type": "execute_result"
    }
   ],
   "source": [
    "def mvCondSE(t1, t2, x0, gamma):\n",
    "    \"\"\"Calculates A, b, V for p(y(t2) | y(t1)), where 0 < t1 < t2.\"\"\"\n",
    "    mu = np.array([x0, 0, x0, 0])\n",
    "    Sigma = np.zeros((4,4))\n",
    "    # cov(x1,:)\n",
    "    Sigma[0,0] = bo.cov_xx_se(t1, t1, gamma) # x1, x1\n",
    "    Sigma[0,1] = bo.cov_xv_se(t1, t1, gamma) # x1, v1\n",
    "    Sigma[0,2] = bo.cov_xx_se(t1, t2, gamma) # x1, x2\n",
    "    Sigma[0,3] = bo.cov_xv_se(t1, t2, gamma) # x1, v2\n",
    "    # cov(v1,:)\n",
    "    Sigma[1,0] = Sigma[0,1]                  # v1, x1\n",
    "    Sigma[1,1] = bo.cov_vv_se(t1, t1, gamma) # v1, v1\n",
    "    Sigma[1,2] = bo.cov_xv_se(t2, t1, gamma) # v1, x2 <- this is the calculation I'm suspicious of, i.e., time_x > time_v\n",
    "    Sigma[1,3] = bo.cov_vv_se(t1, t2, gamma) # v1, v2\n",
    "    # cov(x2,:)\n",
    "    Sigma[2,0] = Sigma[0,2]                  # x2, x1\n",
    "    Sigma[2,1] = Sigma[1,2]                  # x2, v1\n",
    "    Sigma[2,2] = bo.cov_xx_se(t2, t2, gamma) # x2, x2\n",
    "    Sigma[2,3] = bo.cov_xv_se(t2, t2, gamma) # x2, v2\n",
    "    # cov(v2,:)\n",
    "    Sigma[3,0] = Sigma[0,3]                  # v2, x1\n",
    "    Sigma[3,1] = Sigma[1,3]                  # v2, v1\n",
    "    Sigma[3,2] = Sigma[2,3]                  # v2, x2\n",
    "    Sigma[3,3] = bo.cov_vv_se(t2, t2, gamma) # v2, v2\n",
    "    return Sigma # stop here for now...\n",
    "\n",
    "# should give the same answer for any x0 and fixed dt = t2 - t1...\n",
    "dt = 1\n",
    "t1 = 1\n",
    "t2 = t1 + dt\n",
    "x0 = 2\n",
    "scl.eigvalsh(mvCondSE(t1, t2, x0, 1)) # should always be positive..."
   ]
  },
  {
   "cell_type": "code",
   "execution_count": 8,
   "metadata": {},
   "outputs": [
    {
     "data": {
      "text/plain": [
       "array([[ 0.73575888,  0.63212056,  1.13533528,  0.23254416],\n",
       "       [ 0.63212056,  1.        ,  1.26424112,  0.36787944],\n",
       "       [ 1.13533528,  1.26424112,  2.27067057,  0.86466472],\n",
       "       [ 0.23254416,  0.36787944,  0.86466472,  1.        ]])"
      ]
     },
     "execution_count": 8,
     "metadata": {},
     "output_type": "execute_result"
    }
   ],
   "source": [
    "mvCondExp(t1, t2, x0, 1)"
   ]
  },
  {
   "cell_type": "code",
   "execution_count": 9,
   "metadata": {},
   "outputs": [
    {
     "data": {
      "text/plain": [
       "array([[ 1.66666667,  1.5       ,  2.66666667,  0.5       ],\n",
       "       [ 1.5       ,  2.        ,  3.        ,  1.        ],\n",
       "       [ 2.66666667,  3.        ,  5.33333333,  2.        ],\n",
       "       [ 0.5       ,  1.        ,  2.        ,  2.        ]])"
      ]
     },
     "execution_count": 9,
     "metadata": {},
     "output_type": "execute_result"
    }
   ],
   "source": [
    "mvCondRE(t1, t2, x0, 1)"
   ]
  },
  {
   "cell_type": "code",
   "execution_count": 10,
   "metadata": {},
   "outputs": [
    {
     "data": {
      "text/plain": [
       "array([[ 1.70213557,  1.63519859,  4.6892348 ,  1.01222403],\n",
       "       [ 1.63519859,  1.77245385,  3.27039718,  1.38038845],\n",
       "       [ 4.6892348 ,  3.27039718,  6.10807241,  2.64742262],\n",
       "       [ 1.01222403,  1.38038845,  2.64742262,  1.77245385]])"
      ]
     },
     "execution_count": 10,
     "metadata": {},
     "output_type": "execute_result"
    }
   ],
   "source": [
    "mvCondSE(t1, t2, x0, 1)"
   ]
  },
  {
   "cell_type": "code",
   "execution_count": null,
   "metadata": {},
   "outputs": [],
   "source": [
    "from pykalman import KalmanFilter"
   ]
  },
  {
   "cell_type": "code",
   "execution_count": null,
   "metadata": {},
   "outputs": [],
   "source": [
    "tseq2 = np.linspace(a,b,50)\n",
    "def mvCond(tseq, x0):\n",
    "    N = len(tseq)\n",
    "    mu = [x0, 0]*N\n",
    "    Sigma = np.matrix([[0]*N*2]*N*2)\n",
    "    for i in range(N):\n",
    "        for j in range(N):\n",
    "            Sigma[2*i, 2*j] = bo.cov_xx_ex(tseq[i], tseq[j], gamma)\n",
    "            Sigma[2*i, 2*j+1] = bo.cov_xv_ex(tseq[i], tseq[j], gamma)\n",
    "            Sigma[2*i+1, 2*j] = bo.cov_xv_ex(tseq[j], tseq[i], gamma)\n",
    "            Sigma[2*i+1, 2*j+1] = bo.cov_vv_ex(tseq[i], tseq[j], gamma)\n",
    "    Sigma_00 = Sigma[0:2*N-2, 0:2*N-2]\n",
    "    Sigma_10 = Sigma[2*N-2:, 0:2*N-2]\n",
    "    Sigma_01 = Sigma[0:2*N-2, 2*N-2:]\n",
    "    Sigma_11 = Sigma[2*N-2:, 2*N-2:]\n",
    "    A = Sigma_10*np.linalg.pinv(Sigma_00)\n",
    "    b = mu[2*N-2:]\n",
    "    V = Sigma_11 - Sigma_10*np.linalg.pinv(Sigma_00)*Sigma_01\n",
    "    return A,b,V\n",
    "A, b, V = mvCond(tseq2, x0)\n",
    "A"
   ]
  },
  {
   "cell_type": "code",
   "execution_count": null,
   "metadata": {},
   "outputs": [],
   "source": [
    "Sigma_vv_00 = bo.cov_vv_ex(tseq[0], tseq[0], gamma)\n",
    "Sigma_xx_00 = bo.cov_xx_ex(tseq[0], tseq[0], gamma)\n",
    "Sigma_xv_00 = bo.cov_xv_ex(tseq[0], tseq[0], gamma)\n",
    "Sigma_vv_10 = bo.cov_vv_ex(tseq[1], tseq[0], gamma)\n",
    "Sigma_xx_10 = bo.cov_xx_ex(tseq[1], tseq[0], gamma)\n",
    "Sigma_xv_10 = bo.cov_xv_ex(tseq[1], tseq[0], gamma)\n",
    "\n",
    "Sigma_00 = np.matrix([[Sigma_xx_00, Sigma_xv_00],[Sigma_xv_00, Sigma_vv_00]])\n",
    "Sigma_10 = np.matrix([[Sigma_xx_10, Sigma_xv_10],[Sigma_xv_10, Sigma_vv_10]])\n",
    "A = Sigma_10*np.linalg.pinv(Sigma_00)\n",
    "\n",
    "Sigma_vv_11 = bo.cov_vv_ex(tseq[1], tseq[1], gamma)\n",
    "Sigma_xx_11 = bo.cov_xx_ex(tseq[1], tseq[1], gamma)\n",
    "Sigma_xv_11 = bo.cov_xv_ex(tseq[1], tseq[1], gamma)\n",
    "Sigma_vv_01 = bo.cov_vv_ex(tseq[0], tseq[1], gamma)\n",
    "Sigma_xx_01 = bo.cov_xx_ex(tseq[0], tseq[1], gamma)\n",
    "Sigma_xv_01 = bo.cov_xv_ex(tseq[0], tseq[1], gamma)\n",
    "\n",
    "Sigma_11 = np.matrix([[Sigma_xx_11, Sigma_xv_11],[Sigma_xv_11, Sigma_vv_11]])\n",
    "Sigma_01 = np.matrix([[Sigma_xx_01, Sigma_xv_01],[Sigma_xv_01, Sigma_vv_01]])\n",
    "CC = Sigma_11 - Sigma_10*np.linalg.pinv(Sigma_00)*Sigma_01"
   ]
  },
  {
   "cell_type": "code",
   "execution_count": null,
   "metadata": {},
   "outputs": [],
   "source": [
    "A"
   ]
  },
  {
   "cell_type": "code",
   "execution_count": null,
   "metadata": {},
   "outputs": [],
   "source": [
    "CC"
   ]
  },
  {
   "cell_type": "code",
   "execution_count": null,
   "metadata": {},
   "outputs": [],
   "source": [
    "def bayes_ode_kalman(fun, x0, tseq, gamma, alpha, A, CC):\n",
    "    y0 = [x0, f(x0, tseq[0])]\n",
    "    mu = [y0]*N\n",
    "    Sigma = [[[0, 0], [0,0]]]*N\n",
    "    yt = np.array([y0]*N)\n",
    "    mu_nn = np.array((A*np.matrix(mu[0]).T)).T\n",
    "    Sigma_nn = A*Sigma[0]*A.T + CC\n",
    "    kf = KalmanFilter(initial_state_mean=mu[0], initial_state_covariance=Sigma[0], n_dim_obs=2) #Initialization of Kalman Filter\n",
    "    for n in range(N-1):\n",
    "        mu_nn = np.array((A*np.matrix(mu[n]).T)).T\n",
    "        Sigma_nn = A*Sigma[n]*A.T + CC\n",
    "        \n",
    "        #Model Interrogation Step\n",
    "        xt = np.random.normal(mu_nn[0][0], Sigma_nn[0,0])\n",
    "        vt = fun(xt, tseq[n+1])\n",
    "        yt[n+1] = [xt,vt]\n",
    "        mu[n+1], Sigma[n+1] = kf.filter_update(mu_nn[0], Sigma_nn, yt[n+1])\n",
    "    \n",
    "    kf2 = KalmanFilter(initial_state_mean=mu[0], initial_state_covariance=Sigma[0], n_dim_obs=2)\n",
    "    yt_mean = kf2.smooth(yt)[0]\n",
    "    \n",
    "    return mu, yt_mean"
   ]
  },
  {
   "cell_type": "code",
   "execution_count": null,
   "metadata": {},
   "outputs": [],
   "source": [
    "u,v = bayes_ode_kalman(f, x0, tseq, gamma, alpha, A, CC)\n"
   ]
  }
 ],
 "metadata": {
  "kernelspec": {
   "display_name": "Python 3",
   "language": "python",
   "name": "python3"
  },
  "language_info": {
   "codemirror_mode": {
    "name": "ipython",
    "version": 3
   },
   "file_extension": ".py",
   "mimetype": "text/x-python",
   "name": "python",
   "nbconvert_exporter": "python",
   "pygments_lexer": "ipython3",
   "version": "3.6.5"
  }
 },
 "nbformat": 4,
 "nbformat_minor": 2
}
