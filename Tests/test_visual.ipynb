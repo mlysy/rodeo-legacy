{
 "cells": [
  {
   "cell_type": "markdown",
   "metadata": {},
   "source": [
    "# Visual Covariance Test\n",
    "\n",
    "$$\n",
    "% latex macros.  this does not work when converting to latex.\n",
    "\\newcommand{\\bm}[1]{\\boldsymbol{#1}}\n",
    "\\DeclareMathOperator{\\cov}{cov}\n",
    "\\DeclareMathOperator{\\diag}{diag}\n",
    "\\newcommand{\\ud}{\\mathrm{d}}\n",
    "\\newcommand{\\XX}{{\\bm X}}\n",
    "\\newcommand{\\VV}{{\\bm V}}\n",
    "\\newcommand{\\N}{\\mathcal{N}}\n",
    "\\newcommand{\\mmu}{{\\bm \\mu}}\n",
    "\\newcommand{\\SSi}{{\\bm \\Sigma}}\n",
    "\\newcommand{\\ssi}{{\\bm \\sigma}}\n",
    "$$\n",
    "\n",
    "Pick a covariance type. Then for $x_t$ and $v_t = \\ud x_t/\\ud t$, visually check that\n",
    "$$\n",
    "\\begin{aligned}\n",
    "\\cov(x_t, v_s) & = \\int_0^t \\cov(v_u, v_s) \\, \\ud u \\\\\n",
    "\\cov(x_t, x_s) & = \\int_0^t\\int_0^s \\cov(v_u, v_w) \\, \\ud u\\, \\ud w\n",
    "\\end{aligned}\n",
    "$$\n",
    "by comparing analytic formula to numerical integration with `scipy.integrate.quad` and `scipy.integrate.dblquad`."
   ]
  },
  {
   "cell_type": "code",
   "execution_count": 1,
   "metadata": {},
   "outputs": [],
   "source": [
    "import os\n",
    "os.chdir('C:\\\\Users\\\\mohan\\\\Documents\\\\probDE')"
   ]
  },
  {
   "cell_type": "code",
   "execution_count": 2,
   "metadata": {},
   "outputs": [],
   "source": [
    "import matplotlib.pyplot as plt\n",
    "import numpy as np\n",
    "from numpy.random import uniform as runif\n",
    "from scipy import integrate\n",
    "import BayesODE as bo\n",
    "from Tests.ode_bayes_star import ode_bayes_star"
   ]
  },
  {
   "cell_type": "code",
   "execution_count": 3,
   "metadata": {},
   "outputs": [
    {
     "data": {
      "text/plain": [
       "[<matplotlib.lines.Line2D at 0x271c0c934a8>]"
      ]
     },
     "execution_count": 3,
     "metadata": {},
     "output_type": "execute_result"
    },
    {
     "data": {
      "image/png": "[encoded data removed]",
      "text/plain": [
       "<Figure size 720x432 with 5 Axes>"
      ]
     },
     "metadata": {},
     "output_type": "display_data"
    }
   ],
   "source": [
    "npts = 50\n",
    "# pick covariance type\n",
    "type = \"ex\"\n",
    "if type == \"se\":\n",
    "    cov_vv = bo.cov_vv_se\n",
    "    cov_xv = bo.cov_xv_se\n",
    "    cov_xx = bo.cov_xx_se\n",
    "elif type == \"ex\":\n",
    "    cov_vv = bo.cov_vv_ex\n",
    "    cov_xv = bo.cov_xv_ex\n",
    "    cov_xx = bo.cov_xx_ex\n",
    "elif type == \"re\":\n",
    "    cov_vv = bo.cov_vv_re\n",
    "    cov_xv = bo.cov_xv_re\n",
    "    cov_xx = bo.cov_xx_re\n",
    "else:\n",
    "    raise ValueError(\"Invalid covariance type.\")\n",
    "# plot cov_vv\n",
    "tmax = runif(low = 0, high = 10, size = 1)\n",
    "gamma = runif(0, tmax/10, 1)\n",
    "tseq = np.linspace(start = 0, stop = tmax, num = npts)\n",
    "av = np.zeros((npts, 1))\n",
    "for ii in range(0,npts):\n",
    "    av[ii] = cov_vv(0, tseq[ii], gamma)\n",
    "plt.rcParams['figure.figsize'] = [10, 6]\n",
    "plt.subplot(3,2,(1,2))\n",
    "plt.plot(tseq,av)\n",
    "# integrate once and compare to analytic solution\n",
    "t = runif(0, tmax, 1) # first time point\n",
    "s = runif(0, tmax, 1) # second time point\n",
    "tseq = np.linspace(start = 0, stop = tmax, num = npts)\n",
    "xv_an = np.zeros((npts,1)) # analytic solution\n",
    "xv_nu = xv_an # numeric solution\n",
    "for ii in range(0,npts):\n",
    "    xv_an[ii] = cov_xv(tseq[ii], s, gamma)\n",
    "    xv_nu[ii],err = integrate.quad(cov_vv, 0, tseq[ii], args=(s,gamma))\n",
    "plt.subplot(3,2,3)\n",
    "plt.plot(tseq,xv_an,'r',tseq,xv_nu,'b')\n",
    "plt.subplot(3,2,4)\n",
    "plt.plot(tseq,abs(xv_an-xv_nu))\n",
    "# integrate twice and compare to analytic solution\n",
    "xx_an = np.zeros((npts,1)) # analytic solution\n",
    "xx_nu = xx_an # numeric solution\n",
    "for ii in range(0,npts):\n",
    "    xx_an[ii] = cov_xx(tseq[ii], s, gamma)\n",
    "    xx_nu[ii],err = integrate.dblquad(cov_vv, 0, tseq[ii], 0, s, args = (gamma))\n",
    "plt.subplot(3,2,5)\n",
    "plt.plot(tseq,xx_an,'r',tseq,xx_nu,'b')\n",
    "plt.subplot(3,2,6)\n",
    "plt.plot(tseq,abs(xx_an-xx_nu))"
   ]
  },
  {
   "cell_type": "markdown",
   "metadata": {},
   "source": [
    "# Updating Algorithm Test\n",
    "\n",
    "Let $T = (t_1, \\ldots, t_N)$ denote the evaluation time points, and $\\XX$ and $\\VV$ denote vectors of length $N$ corresponding to $x(T)$ and $v(T)$.  The solution prior is then expressed as\n",
    "$$\n",
    "\\begin{bmatrix} \\XX \\\\ \\VV \\end{bmatrix} \\sim \\N\\left(\\begin{bmatrix} \\mmu_X \\\\ \\mmu_V \\end{bmatrix}, \\begin{bmatrix} \\SSi_{XX} & \\SSi_{XV} \\\\ \\SSi_{VX} & \\SSi_{VV} \\end{bmatrix} \\right).\n",
    "$$\n",
    "Now suppose that the $N$ model interrogations $\\VV_\\star$ and their predictive variances $\\ssi_\\star^2$ are given in advance.  Then joint distribution of $(\\XX, \\VV, \\VV_\\star)$ is\n",
    "$$\n",
    "\\begin{bmatrix} \\XX \\\\ \\VV \\\\ \\VV_\\star \\end{bmatrix} \\sim \\N\\left(\\begin{bmatrix} \\mmu_X \\\\ \\mmu_V \\\\ \\mmu_V \\end{bmatrix}, \\begin{bmatrix} \\SSi_{XX} & \\SSi_{XV} & \\SSi_{XV} \\\\ \\SSi_{VX} & \\SSi_{VV} & \\SSi_{VV} \\\\ \\SSi_{VX} & \\SSi_{VV} & \\SSi_{VV} + \\diag(\\ssi_\\star^2) \\end{bmatrix} \\right),\n",
    "$$\n",
    "from which we can deduce calculate the mean and variance of the final update (normal) distribution, $p(\\XX \\mid \\VV_\\star)$.  This suggests the following unit test for the ODE solver:\n",
    "\n",
    "1. Modify `ode_bayes` such that it accepts an optional input of $\\VV_\\star$ and $\\ssi_\\star^2$ (please use argument names consistent with the rest of the function).\n",
    "2. Write a function to compute the mean and variance of $p(\\XX \\mid \\VV_\\star)$ based on $(\\mmu_X, \\mmu_V, \\SSi_{XX}, \\SSi_{XV}, \\SSi_{VV}, \\VV_\\star)$.\n",
    "3. Run `ode_bayes` with predetermined $(\\VV_\\star, \\ssi_\\star^2)$, and check that the mean and variance output is identical to that of step 2."
   ]
  },
  {
   "cell_type": "code",
   "execution_count": 4,
   "metadata": {},
   "outputs": [],
   "source": [
    "#Toy example\n",
    "def f(x,t):\n",
    "    return  3*(t+1/4) - x/(t+1/4)\n",
    "\n",
    "a = 0\n",
    "b = 4.75\n",
    "x0 = 10\n",
    "N = 100\n",
    "tseq = np.linspace(a, b, N)\n",
    "w = gamma = (b-a)/(N-1)\n",
    "alpha = N/10\n",
    "\n",
    "mu_v = np.zeros((N)) # prior mean of v(tseq)\n",
    "mu_x = x0 + mu_v # prior mean of x(tseq)\n",
    "Sigma_vv, Sigma_xx, Sigma_xv = bo.cov_prior(tseq, 'exp', gamma, alpha)"
   ]
  },
  {
   "cell_type": "code",
   "execution_count": 5,
   "metadata": {},
   "outputs": [],
   "source": [
    "x = integrate.odeint(f,x0,tseq)\n",
    "x = np.ndarray.flatten(x)\n",
    "sigma_star_avg = (max(x) - min(x))*0.05\n",
    "\n",
    "upper = 3*sigma_star_avg/2\n",
    "lower = sigma_star_avg/2\n",
    "\n",
    "sigma_star = runif(lower, upper)\n",
    "vstar = x+sigma_star*np.random.normal(0,1)"
   ]
  },
  {
   "cell_type": "code",
   "execution_count": 11,
   "metadata": {},
   "outputs": [],
   "source": [
    "mu_star, Sigma_star = ode_bayes_star(mu_x, mu_v, Sigma_vv, Sigma_xx, Sigma_xv, vstar)"
   ]
  },
  {
   "cell_type": "code",
   "execution_count": 12,
   "metadata": {},
   "outputs": [
    {
     "name": "stderr",
     "output_type": "stream",
     "text": [
      "C:\\Users\\mohan\\Documents\\probDE\\BayesODE\\ode_bayes.py:50: RuntimeWarning: covariance is not positive-semidefinite.\n",
      "  return np.random.multivariate_normal(mu_x, Sigma_xx), mu_x, Sigma_xx\n"
     ]
    }
   ],
   "source": [
    "a, mu_x, Sigma_xx = bo.ode_bayes(f, tseq, x0, Sigma_vv, Sigma_xx, Sigma_xv, vstar)"
   ]
  },
  {
   "cell_type": "code",
   "execution_count": 13,
   "metadata": {},
   "outputs": [
    {
     "data": {
      "text/plain": [
       "(True, True)"
      ]
     },
     "execution_count": 13,
     "metadata": {},
     "output_type": "execute_result"
    }
   ],
   "source": [
    "np.allclose(mu_star, mu_x), np.allclose(Sigma_star, Sigma_xx)"
   ]
  },
  {
   "cell_type": "code",
   "execution_count": 15,
   "metadata": {},
   "outputs": [],
   "source": [
    "from pykalman import KalmanFilter"
   ]
  },
  {
   "cell_type": "code",
   "execution_count": 45,
   "metadata": {},
   "outputs": [],
   "source": [
    "def bayes_ode_kalman(fun, x0, tseq, gamma, alpha):\n",
    "    N = len(tseq)\n",
    "    mu = np.array([[x0, fun(x0, tseq[0])]]*N)\n",
    "    Sigma_vv, Sigma_xx, Sigma_xv = bo.cov_prior(tseq, 'exp', gamma, alpha)\n",
    "    Sigma_vv = bo.cov_vv_ex(tseq[0], tseq[0], gamma)/alpha\n",
    "    Sigma_xx = bo.cov_xx_ex(tseq[0], tseq[0], gamma)/alpha\n",
    "    Sigma_xv = bo.cov_xv_ex(tseq[0], tseq[0], gamma)/alpha\n",
    "    Sigma = np.array([[[Sigma_xx, Sigma_xv], [Sigma_xv, Sigma_vv]]]*N)\n",
    "    yt = np.array([mu[0]]*N)\n",
    "    kf = KalmanFilter(initial_state_mean=mu[0], initial_state_covariance=Sigma[0], n_dim_obs=2) #Initialization of Kalman Filter\n",
    "    for n in range(N-1):\n",
    "        mu[n+1], Sigma[n+1] = kf.filter_update(mu[n], Sigma[n], yt[n])\n",
    "        #Model Interrogation Step\n",
    "        xt = np.random.normal(mu[n+1,0], Sigma[n+1,0,0]) # interrogation of x_t\n",
    "        vt = fun(xt, tseq[n+1]) # interrogation of v_t\n",
    "        yt[n+1] = [xt, vt]\n",
    "        \n",
    "    \n",
    "    kf2 = KalmanFilter(initial_state_mean=mu[0], initial_state_covariance=Sigma[0], n_dim_obs=2)\n",
    "    yt_mean = kf2.smooth(yt)[0]\n",
    "    \n",
    "    return mu, yt_mean"
   ]
  },
  {
   "cell_type": "code",
   "execution_count": 46,
   "metadata": {},
   "outputs": [],
   "source": [
    "m, yt_mean = bayes_ode_kalman(f, 10, tseq, gamma, alpha)"
   ]
  }
 ],
 "metadata": {
  "kernelspec": {
   "display_name": "Python 3",
   "language": "python",
   "name": "python3"
  },
  "language_info": {
   "codemirror_mode": {
    "name": "ipython",
    "version": 3
   },
   "file_extension": ".py",
   "mimetype": "text/x-python",
   "name": "python",
   "nbconvert_exporter": "python",
   "pygments_lexer": "ipython3",
   "version": "3.6.5"
  }
 },
 "nbformat": 4,
 "nbformat_minor": 2
}
