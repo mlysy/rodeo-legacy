{
 "cells": [
  {
   "cell_type": "code",
   "execution_count": 3,
   "metadata": {},
   "outputs": [],
   "source": [
    "import matplotlib.pyplot as plt\n",
    "import numpy as np\n",
    "from numpy.random import uniform as runif\n",
    "from scipy import integrate\n",
    "import BayesODE as bo"
   ]
  },
  {
   "cell_type": "code",
   "execution_count": 2,
   "metadata": {},
   "outputs": [],
   "source": [
    "import os\n",
    "os.chdir('C:\\\\Users\\\\mohan\\\\Documents\\\\probDE')"
   ]
  },
  {
   "cell_type": "code",
   "execution_count": 4,
   "metadata": {},
   "outputs": [],
   "source": [
    "def f(x,t):\n",
    "    return  3*(t+1/4) - x/(t+1/4)\n",
    "\n",
    "a = 0\n",
    "b = 4.75\n",
    "x0_f1 = 10\n",
    "N = 100\n",
    "tseq1 = np.linspace(a, b, N)\n"
   ]
  },
  {
   "cell_type": "code",
   "execution_count": 5,
   "metadata": {},
   "outputs": [],
   "source": [
    "from math import pi, sin, cos\n",
    "def f2(x, t):\n",
    "    return -x + sin(t)+ cos(t) \n",
    "\n",
    "a = 0\n",
    "b = 6*pi\n",
    "x0_f2 = 1\n",
    "N = 100\n",
    "tseq2 = np.linspace(a, b, N)\n"
   ]
  },
  {
   "cell_type": "code",
   "execution_count": 18,
   "metadata": {},
   "outputs": [],
   "source": [
    "gammap = np.linspace(0.01, 10, 200)\n",
    "alphap = np.linspace(10,10,1)"
   ]
  },
  {
   "cell_type": "code",
   "execution_count": 19,
   "metadata": {},
   "outputs": [],
   "source": [
    "def tune(model, f, alphap, gammap, tseq, x0):\n",
    "    x = integrate.odeint(f,x0,tseq)\n",
    "    x = [i for l in x for i in l]\n",
    "    minerr = float('inf')\n",
    "    if model == \"se\":\n",
    "        cov_vv = bo.cov_vv_se\n",
    "        cov_xv = bo.cov_xv_se\n",
    "        cov_xx = bo.cov_xx_se\n",
    "    elif model == \"ex\":\n",
    "        cov_vv = bo.cov_vv_ex\n",
    "        cov_xv = bo.cov_xv_ex\n",
    "        cov_xx = bo.cov_xx_ex\n",
    "    elif model == \"re\":\n",
    "        cov_vv = bo.cov_vv_re\n",
    "        cov_xv = bo.cov_xv_re\n",
    "        cov_xx = bo.cov_xx_re\n",
    "    else:\n",
    "        raise ValueError(\"Invalid covariance type.\")\n",
    "    for alpha in alphap:\n",
    "        for gamma in gammap:\n",
    "            try:\n",
    "                Sigma_vv = cov_vv(tseq, tseq, gamma, alpha)\n",
    "                Sigma_xx = cov_xx(tseq, tseq, gamma, alpha)\n",
    "                Sigma_xv = cov_xv(tseq, tseq, gamma, alpha)\n",
    "                xt1, _, _= bo.ode_bayes(f, tseq, x0, Sigma_vv, Sigma_xx, Sigma_xv)\n",
    "                err = sum((xt1 - x)**2)\n",
    "                if err < minerr:\n",
    "                    minerr = err\n",
    "                    mingamma = gamma\n",
    "                    minalpha = alpha\n",
    "            except:\n",
    "                continue\n",
    "    return minalpha, mingamma"
   ]
  },
  {
   "cell_type": "code",
   "execution_count": 20,
   "metadata": {},
   "outputs": [
    {
     "name": "stderr",
     "output_type": "stream",
     "text": [
      "C:\\Users\\mohan\\Documents\\probDE\\BayesODE\\ode_bayes.py:50: RuntimeWarning: covariance is not positive-semidefinite.\n",
      "  return np.random.multivariate_normal(mu_x, Sigma_xx), mu_x, Sigma_xx\n"
     ]
    }
   ],
   "source": [
    "alpha_exp2, gamma_exp2 = tune('se', f, alphap, gammap, tseq1, x0_f1)\n",
    "alpha_exp, gamma_exp = tune('ex', f, alphap, gammap, tseq1, x0_f1)\n",
    "alpha_rect, gamma_rect = tune('re', f, alphap, gammap, tseq1, x0_f1)"
   ]
  },
  {
   "cell_type": "code",
   "execution_count": 21,
   "metadata": {},
   "outputs": [
    {
     "name": "stderr",
     "output_type": "stream",
     "text": [
      "C:\\Users\\mohan\\Documents\\probDE\\BayesODE\\ode_bayes.py:50: RuntimeWarning: covariance is not positive-semidefinite.\n",
      "  return np.random.multivariate_normal(mu_x, Sigma_xx), mu_x, Sigma_xx\n"
     ]
    },
    {
     "data": {
      "image/png": "[encoded data removed]",
      "text/plain": [
       "<Figure size 432x288 with 1 Axes>"
      ]
     },
     "metadata": {},
     "output_type": "display_data"
    }
   ],
   "source": [
    "Sigma_vv = bo.cov_vv_se(tseq1, tseq1, gamma_exp2, alpha_exp2)\n",
    "Sigma_xx = bo.cov_xx_se(tseq1, tseq1, gamma_exp2, alpha_exp2)\n",
    "Sigma_xv = bo.cov_xv_se(tseq1, tseq1, gamma_exp2, alpha_exp2)\n",
    "xt1,_,_ = bo.ode_bayes(f, tseq1, x0_f1, Sigma_vv, Sigma_xx, Sigma_xv)\n",
    "\n",
    "Sigma_vv = bo.cov_vv_re(tseq1, tseq1, gamma_rect, alpha_rect)\n",
    "Sigma_xx = bo.cov_xx_re(tseq1, tseq1, gamma_rect, alpha_rect)\n",
    "Sigma_xv = bo.cov_xv_re(tseq1, tseq1, gamma_rect, alpha_rect)\n",
    "xt2,_,_ = bo.ode_bayes(f, tseq1, x0_f1, Sigma_vv, Sigma_xx, Sigma_xv)\n",
    "\n",
    "Sigma_vv = bo.cov_vv_ex(tseq1, tseq1, gamma_exp, alpha_exp)\n",
    "Sigma_xx = bo.cov_xx_ex(tseq1, tseq1, gamma_exp, alpha_exp)\n",
    "Sigma_xv = bo.cov_xv_ex(tseq1, tseq1, gamma_exp, alpha_exp)\n",
    "xt3,_,_ = bo.ode_bayes(f, tseq1, x0_f1, Sigma_vv, Sigma_xx, Sigma_xv)\n",
    "\n",
    "plt.plot(tseq1, xt1, label = 'exp2')\n",
    "plt.plot(tseq1, xt2, label = 'rect')\n",
    "plt.plot(tseq1, xt3, label = 'exp')\n",
    "plt.legend(loc='upper left')\n",
    "\n",
    "x = integrate.odeint(f,x0_f1,tseq1)\n",
    "plt.scatter(tseq1, x, facecolor = 'none', edgecolor = 'b', label='analytical')\n",
    "plt.legend(loc='upper left')\n",
    "plt.show()"
   ]
  },
  {
   "cell_type": "code",
   "execution_count": 22,
   "metadata": {},
   "outputs": [
    {
     "name": "stderr",
     "output_type": "stream",
     "text": [
      "C:\\Users\\mohan\\Documents\\probDE\\BayesODE\\ode_bayes.py:50: RuntimeWarning: covariance is not positive-semidefinite.\n",
      "  return np.random.multivariate_normal(mu_x, Sigma_xx), mu_x, Sigma_xx\n"
     ]
    }
   ],
   "source": [
    "alpha_exp2, gamma_exp2 = tune('se', f2, alphap, gammap, tseq2, x0_f2)\n",
    "alpha_exp, gamma_exp = tune('ex', f2, alphap, gammap, tseq2, x0_f2)\n",
    "alpha_rect, gamma_rect = tune('re', f2, alphap, gammap, tseq2, x0_f2)"
   ]
  },
  {
   "cell_type": "code",
   "execution_count": 23,
   "metadata": {},
   "outputs": [
    {
     "data": {
      "image/png": "[encoded data removed]",
      "text/plain": [
       "<Figure size 432x288 with 1 Axes>"
      ]
     },
     "metadata": {},
     "output_type": "display_data"
    }
   ],
   "source": [
    "Sigma_vv = bo.cov_vv_se(tseq2, tseq2, gamma_exp2, alpha_exp2)\n",
    "Sigma_xx = bo.cov_xx_se(tseq2, tseq2, gamma_exp2, alpha_exp2)\n",
    "Sigma_xv = bo.cov_xv_se(tseq2, tseq2, gamma_exp2, alpha_exp2)\n",
    "xt1,_,_ = bo.ode_bayes(f2, tseq2, x0_f2, Sigma_vv, Sigma_xx, Sigma_xv)\n",
    "\n",
    "Sigma_vv = bo.cov_vv_re(tseq2, tseq2, gamma_rect, alpha_rect)\n",
    "Sigma_xx = bo.cov_xx_re(tseq2, tseq2, gamma_rect, alpha_rect)\n",
    "Sigma_xv = bo.cov_xv_re(tseq2, tseq2, gamma_rect, alpha_rect)\n",
    "xt2,_,_ = bo.ode_bayes(f2, tseq2, x0_f2, Sigma_vv, Sigma_xx, Sigma_xv)\n",
    "\n",
    "Sigma_vv = bo.cov_vv_ex(tseq2, tseq2, gamma_exp, alpha_exp)\n",
    "Sigma_xx = bo.cov_xx_ex(tseq2, tseq2, gamma_exp, alpha_exp)\n",
    "Sigma_xv = bo.cov_xv_ex(tseq2, tseq2, gamma_exp, alpha_exp)\n",
    "xt3,_,_ = bo.ode_bayes(f2, tseq2, x0_f2, Sigma_vv, Sigma_xx, Sigma_xv)\n",
    "\n",
    "plt.plot(tseq2, xt1, label = 'exp2')\n",
    "plt.plot(tseq2, xt2, label = 'rect')\n",
    "plt.plot(tseq2, xt3, label = 'exp')\n",
    "plt.legend(loc='upper left')\n",
    "\n",
    "x = integrate.odeint(f2,x0_f2,tseq2)\n",
    "plt.scatter(tseq2, x, facecolor = 'none', edgecolor = 'b', label='analytical')\n",
    "plt.legend(loc='upper left')\n",
    "plt.show()"
   ]
  },
  {
   "cell_type": "code",
   "execution_count": 24,
   "metadata": {},
   "outputs": [
    {
     "ename": "TypeError",
     "evalue": "not enough arguments: expected 4, got 3",
     "output_type": "error",
     "traceback": [
      "\u001b[1;31m---------------------------------------------------------------------------\u001b[0m",
      "\u001b[1;31mTypeError\u001b[0m                                 Traceback (most recent call last)",
      "\u001b[1;32m<ipython-input-24-5b2d2e5a5038>\u001b[0m in \u001b[0;36m<module>\u001b[1;34m()\u001b[0m\n\u001b[0;32m     10\u001b[0m \u001b[0mav2_re\u001b[0m \u001b[1;33m=\u001b[0m \u001b[0mnp\u001b[0m\u001b[1;33m.\u001b[0m\u001b[0mzeros\u001b[0m\u001b[1;33m(\u001b[0m\u001b[1;33m(\u001b[0m\u001b[0mN\u001b[0m\u001b[1;33m,\u001b[0m \u001b[1;36m1\u001b[0m\u001b[1;33m)\u001b[0m\u001b[1;33m)\u001b[0m\u001b[1;33m\u001b[0m\u001b[0m\n\u001b[0;32m     11\u001b[0m \u001b[1;32mfor\u001b[0m \u001b[0mii\u001b[0m \u001b[1;32min\u001b[0m \u001b[0mrange\u001b[0m\u001b[1;33m(\u001b[0m\u001b[1;36m0\u001b[0m\u001b[1;33m,\u001b[0m \u001b[0mN\u001b[0m\u001b[1;33m)\u001b[0m\u001b[1;33m:\u001b[0m\u001b[1;33m\u001b[0m\u001b[0m\n\u001b[1;32m---> 12\u001b[1;33m     \u001b[0mav_se\u001b[0m\u001b[1;33m[\u001b[0m\u001b[0mii\u001b[0m\u001b[1;33m]\u001b[0m \u001b[1;33m=\u001b[0m \u001b[0mbo\u001b[0m\u001b[1;33m.\u001b[0m\u001b[0mcov_vv_se\u001b[0m\u001b[1;33m(\u001b[0m\u001b[1;36m0\u001b[0m\u001b[1;33m,\u001b[0m \u001b[0mtseq\u001b[0m\u001b[1;33m[\u001b[0m\u001b[0mii\u001b[0m\u001b[1;33m]\u001b[0m\u001b[1;33m,\u001b[0m \u001b[0mgamma\u001b[0m\u001b[1;33m)\u001b[0m\u001b[1;33m/\u001b[0m\u001b[1;36m0.1\u001b[0m\u001b[1;33m\u001b[0m\u001b[0m\n\u001b[0m\u001b[0;32m     13\u001b[0m     \u001b[0mav2_se\u001b[0m\u001b[1;33m[\u001b[0m\u001b[0mii\u001b[0m\u001b[1;33m]\u001b[0m \u001b[1;33m=\u001b[0m \u001b[0mbo\u001b[0m\u001b[1;33m.\u001b[0m\u001b[0mcov_xx_se\u001b[0m\u001b[1;33m(\u001b[0m\u001b[0mtseq\u001b[0m\u001b[1;33m[\u001b[0m\u001b[0mii\u001b[0m\u001b[1;33m]\u001b[0m\u001b[1;33m,\u001b[0m \u001b[0mtseq\u001b[0m\u001b[1;33m[\u001b[0m\u001b[0mii\u001b[0m\u001b[1;33m]\u001b[0m\u001b[1;33m,\u001b[0m \u001b[0mgamma\u001b[0m\u001b[1;33m)\u001b[0m\u001b[1;33m\u001b[0m\u001b[0m\n\u001b[0;32m     14\u001b[0m     \u001b[0mav_ex\u001b[0m\u001b[1;33m[\u001b[0m\u001b[0mii\u001b[0m\u001b[1;33m]\u001b[0m \u001b[1;33m=\u001b[0m \u001b[0mbo\u001b[0m\u001b[1;33m.\u001b[0m\u001b[0mcov_vv_ex\u001b[0m\u001b[1;33m(\u001b[0m\u001b[1;36m0\u001b[0m\u001b[1;33m,\u001b[0m \u001b[0mtseq\u001b[0m\u001b[1;33m[\u001b[0m\u001b[0mii\u001b[0m\u001b[1;33m]\u001b[0m\u001b[1;33m,\u001b[0m \u001b[0mgamma\u001b[0m\u001b[1;33m)\u001b[0m\u001b[1;33m\u001b[0m\u001b[0m\n",
      "\u001b[1;31mTypeError\u001b[0m: not enough arguments: expected 4, got 3"
     ]
    }
   ],
   "source": [
    "tmax = runif(low = 0, high = 10, size = 1)\n",
    "gamma = gamma_exp2\n",
    "\n",
    "tseq = np.linspace(start = 0, stop = tmax, num = N)\n",
    "av_se = np.zeros((N, 1))\n",
    "av2_se = np.zeros((N, 1))\n",
    "av_ex = np.zeros((N, 1))\n",
    "av2_ex = np.zeros((N, 1))\n",
    "av_re = np.zeros((N, 1))\n",
    "av2_re = np.zeros((N, 1))\n",
    "for ii in range(0, N):\n",
    "    av_se[ii] = bo.cov_vv_se(0, tseq[ii], gamma)/0.1\n",
    "    av2_se[ii] = bo.cov_xx_se(tseq[ii], tseq[ii], gamma)\n",
    "    av_ex[ii] = bo.cov_vv_ex(0, tseq[ii], gamma)\n",
    "    av2_ex[ii] = bo.cov_xx_ex(tseq[ii], tseq[ii], gamma)\n",
    "    av_re[ii] = bo.cov_vv_re(0, tseq[ii], gamma)/0.1\n",
    "    av2_re[ii] = bo.cov_xx_re(tseq[ii], tseq[ii], gamma)\n",
    "    \n",
    "#Plots\n",
    "plt.rcParams['figure.figsize'] = [10, 10]\n",
    "plt.subplot(3,2,1)\n",
    "plt.plot(tseq,av_se)\n",
    "plt.title('exp2')\n",
    "plt.subplot(3,2,2)\n",
    "plt.plot(tseq,av2_se)\n",
    "plt.title('exp2')\n",
    "\n",
    "plt.subplot(3,2,3)\n",
    "plt.plot(tseq,av_ex)\n",
    "plt.title('exp')\n",
    "plt.subplot(3,2,4)\n",
    "plt.plot(tseq,av2_ex)\n",
    "plt.title('exp')\n",
    "\n",
    "plt.subplot(3,2,5)\n",
    "plt.plot(tseq,av_re)\n",
    "plt.title('rect')\n",
    "plt.subplot(3,2,6)\n",
    "plt.plot(tseq,av2_re)\n",
    "plt.title('rect')"
   ]
  },
  {
   "cell_type": "code",
   "execution_count": null,
   "metadata": {},
   "outputs": [],
   "source": [
    "tmax = runif(low = 0, high = 10, size = 1)\n",
    "gamma = gamma_exp\n",
    "\n",
    "tseq = np.linspace(start = 0, stop = tmax, num = N)\n",
    "av_se = np.zeros((N, 1))\n",
    "av2_se = np.zeros((N, 1))\n",
    "av_ex = np.zeros((N, 1))\n",
    "av2_ex = np.zeros((N, 1))\n",
    "av_re = np.zeros((N, 1))\n",
    "av2_re = np.zeros((N, 1))\n",
    "for ii in range(0, N):\n",
    "    av_se[ii] = bo.cov_vv_se(0, tseq[ii], gamma)\n",
    "    av2_se[ii] = bo.cov_xx_se(tseq[ii], tseq[ii], gamma)\n",
    "    av_ex[ii] = bo.cov_vv_ex(0, tseq[ii], gamma)\n",
    "    av2_ex[ii] = bo.cov_xx_ex(tseq[ii], tseq[ii], gamma)\n",
    "    av_re[ii] = bo.cov_vv_re(0, tseq[ii], gamma)\n",
    "    av2_re[ii] = bo.cov_xx_re(tseq[ii], tseq[ii], gamma)\n",
    "    \n",
    "#Plots\n",
    "plt.rcParams['figure.figsize'] = [10, 10]\n",
    "plt.subplot(3,2,1)\n",
    "plt.plot(tseq,av_se)\n",
    "plt.title('exp2')\n",
    "plt.subplot(3,2,2)\n",
    "plt.plot(tseq,av2_se)\n",
    "plt.title('exp2')\n",
    "\n",
    "plt.subplot(3,2,3)\n",
    "plt.plot(tseq,av_ex)\n",
    "plt.title('exp')\n",
    "plt.subplot(3,2,4)\n",
    "plt.plot(tseq,av2_ex)\n",
    "plt.title('exp')\n",
    "\n",
    "plt.subplot(3,2,5)\n",
    "plt.plot(tseq,av_re)\n",
    "plt.title('rect')\n",
    "plt.subplot(3,2,6)\n",
    "plt.plot(tseq,av2_re)\n",
    "plt.title('rect')"
   ]
  },
  {
   "cell_type": "code",
   "execution_count": null,
   "metadata": {},
   "outputs": [],
   "source": [
    "tmax = runif(low = 0, high = 10, size = 1)\n",
    "gamma = gamma_rect\n",
    "\n",
    "tseq = np.linspace(start = 0, stop = tmax, num = N)\n",
    "av_se = np.zeros((N, 1))\n",
    "av2_se = np.zeros((N, 1))\n",
    "av_ex = np.zeros((N, 1))\n",
    "av2_ex = np.zeros((N, 1))\n",
    "av_re = np.zeros((N, 1))\n",
    "av2_re = np.zeros((N, 1))\n",
    "for ii in range(0, N):\n",
    "    av_se[ii] = bo.cov_vv_se(0, tseq[ii], gamma)\n",
    "    av2_se[ii] = bo.cov_xx_se(tseq[ii], tseq[ii], gamma)\n",
    "    av_ex[ii] = bo.cov_vv_ex(0, tseq[ii], gamma)\n",
    "    av2_ex[ii] = bo.cov_xx_ex(tseq[ii], tseq[ii], gamma)\n",
    "    av_re[ii] = bo.cov_vv_re(0, tseq[ii], gamma)\n",
    "    av2_re[ii] = bo.cov_xx_re(tseq[ii], tseq[ii], gamma)\n",
    "    \n",
    "#Plots\n",
    "plt.rcParams['figure.figsize'] = [10, 10]\n",
    "plt.subplot(3,2,1)\n",
    "plt.plot(tseq,av_se)\n",
    "plt.title('exp2')\n",
    "plt.subplot(3,2,2)\n",
    "plt.plot(tseq,av2_se)\n",
    "plt.title('exp2')\n",
    "\n",
    "plt.subplot(3,2,3)\n",
    "plt.plot(tseq,av_ex)\n",
    "plt.title('exp')\n",
    "plt.subplot(3,2,4)\n",
    "plt.plot(tseq,av2_ex)\n",
    "plt.title('exp')\n",
    "\n",
    "plt.subplot(3,2,5)\n",
    "plt.plot(tseq,av_re)\n",
    "plt.title('rect')\n",
    "plt.subplot(3,2,6)\n",
    "plt.plot(tseq,av2_re)\n",
    "plt.title('rect')"
   ]
  }
 ],
 "metadata": {
  "kernelspec": {
   "display_name": "Python 3",
   "language": "python",
   "name": "python3"
  },
  "language_info": {
   "codemirror_mode": {
    "name": "ipython",
    "version": 3
   },
   "file_extension": ".py",
   "mimetype": "text/x-python",
   "name": "python",
   "nbconvert_exporter": "python",
   "pygments_lexer": "ipython3",
   "version": "3.6.5"
  }
 },
 "nbformat": 4,
 "nbformat_minor": 2
}
